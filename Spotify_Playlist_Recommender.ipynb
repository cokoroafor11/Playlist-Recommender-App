{
  "nbformat": 4,
  "nbformat_minor": 0,
  "metadata": {
    "colab": {
      "provenance": [],
      "authorship_tag": "ABX9TyMzY934PsXO/3ELhvie0MyJ",
      "include_colab_link": true
    },
    "kernelspec": {
      "name": "python3",
      "display_name": "Python 3"
    },
    "language_info": {
      "name": "python"
    }
  },
  "cells": [
    {
      "cell_type": "markdown",
      "metadata": {
        "id": "view-in-github",
        "colab_type": "text"
      },
      "source": [
        "<a href=\"https://colab.research.google.com/github/cokoroafor11/Playlist-Recommender-App/blob/main/Spotify_Playlist_Recommender.ipynb\" target=\"_parent\"><img src=\"https://colab.research.google.com/assets/colab-badge.svg\" alt=\"Open In Colab\"/></a>"
      ]
    },
    {
      "cell_type": "markdown",
      "source": [
        "## Imports"
      ],
      "metadata": {
        "id": "ts4WJDfeYGzW"
      }
    },
    {
      "cell_type": "code",
      "execution_count": 1,
      "metadata": {
        "colab": {
          "base_uri": "https://localhost:8080/"
        },
        "id": "pQL_Zar2YDJn",
        "outputId": "293bee41-2033-4731-e629-4d20162ac8eb"
      },
      "outputs": [
        {
          "output_type": "stream",
          "name": "stdout",
          "text": [
            "Looking in indexes: https://pypi.org/simple, https://us-python.pkg.dev/colab-wheels/public/simple/\n",
            "Collecting spotipy\n",
            "  Downloading spotipy-2.23.0-py3-none-any.whl (29 kB)\n",
            "Collecting redis>=3.5.3 (from spotipy)\n",
            "  Downloading redis-4.5.5-py3-none-any.whl (240 kB)\n",
            "\u001b[2K     \u001b[90m━━━━━━━━━━━━━━━━━━━━━━━━━━━━━━━━━━━━━━━\u001b[0m \u001b[32m240.3/240.3 kB\u001b[0m \u001b[31m8.1 MB/s\u001b[0m eta \u001b[36m0:00:00\u001b[0m\n",
            "\u001b[?25hRequirement already satisfied: requests>=2.25.0 in /usr/local/lib/python3.10/dist-packages (from spotipy) (2.27.1)\n",
            "Requirement already satisfied: six>=1.15.0 in /usr/local/lib/python3.10/dist-packages (from spotipy) (1.16.0)\n",
            "Requirement already satisfied: urllib3>=1.26.0 in /usr/local/lib/python3.10/dist-packages (from spotipy) (1.26.15)\n",
            "Collecting async-timeout>=4.0.2 (from redis>=3.5.3->spotipy)\n",
            "  Downloading async_timeout-4.0.2-py3-none-any.whl (5.8 kB)\n",
            "Requirement already satisfied: certifi>=2017.4.17 in /usr/local/lib/python3.10/dist-packages (from requests>=2.25.0->spotipy) (2022.12.7)\n",
            "Requirement already satisfied: charset-normalizer~=2.0.0 in /usr/local/lib/python3.10/dist-packages (from requests>=2.25.0->spotipy) (2.0.12)\n",
            "Requirement already satisfied: idna<4,>=2.5 in /usr/local/lib/python3.10/dist-packages (from requests>=2.25.0->spotipy) (3.4)\n",
            "Installing collected packages: async-timeout, redis, spotipy\n",
            "Successfully installed async-timeout-4.0.2 redis-4.5.5 spotipy-2.23.0\n"
          ]
        }
      ],
      "source": [
        "!pip install spotipy --upgrade\n",
        "import spotipy\n",
        "import pandas as pd\n",
        "from spotipy.oauth2 import SpotifyClientCredentials\n",
        "import spotipy.util as util"
      ]
    },
    {
      "cell_type": "code",
      "source": [
        "#Things to call:\n",
        "#Excel sheet with spotify playlists\n",
        "playlist_sheet = 'Spotify Playlists 1 per genre.xlsx'"
      ],
      "metadata": {
        "id": "9H9Wv8zEikcL"
      },
      "execution_count": 2,
      "outputs": []
    },
    {
      "cell_type": "markdown",
      "source": [
        "## Create the Spotify object"
      ],
      "metadata": {
        "id": "zicGfSkAcPQg"
      }
    },
    {
      "cell_type": "code",
      "source": [
        "#Save client credentials\n",
        "client_id = \"c1f74565be774e65aa211462aaf5fed8\"\n",
        "client_secret = \"2edce4052f8f46639c0e112658572d66\"\n",
        "#Create object\n",
        "spotify = spotipy.Spotify(auth_manager=SpotifyClientCredentials(client_id= client_id,client_secret=client_secret),requests_timeout=100,retries=3)"
      ],
      "metadata": {
        "id": "QZc_HH69cOIx"
      },
      "execution_count": 3,
      "outputs": []
    },
    {
      "cell_type": "markdown",
      "source": [
        "## Functions I Need"
      ],
      "metadata": {
        "id": "TdCE21cdYP2x"
      }
    },
    {
      "cell_type": "markdown",
      "source": [
        "### Extract songs from playlist"
      ],
      "metadata": {
        "id": "U9XMXEABGIa7"
      }
    },
    {
      "cell_type": "code",
      "source": [
        "def extract_songs(playlist):\n",
        "    '''Function to extract songs from a playlist: Will run this for all the playlists being added'''\n",
        "\n",
        "    #Make sure playlist input is string\n",
        "    if type(playlist) != str: \n",
        "        playlist = str(playlist)\n",
        "\n",
        "    #Get playlist tracks    \n",
        "    playlist_tracks =  spotify.playlist_tracks(playlist)\n",
        "    tracks = []\n",
        "\n",
        "    #Append tracks to list if no type error\n",
        "    for elem in playlist_tracks['items']:\n",
        "        try:\n",
        "            tracks.append(elem['track']['external_urls']['spotify'])\n",
        "        except TypeError:\n",
        "            pass\n",
        "    return tracks\n",
        "  "
      ],
      "metadata": {
        "id": "v702M4zCYRGp"
      },
      "execution_count": 4,
      "outputs": []
    },
    {
      "cell_type": "code",
      "source": [
        "tracks = extract_songs('https://open.spotify.com/playlist/37i9dQZEVXbqgPCgwknZJW?si=ae7b2ccfd8d64357')"
      ],
      "metadata": {
        "id": "orw-Ds8he0Hc"
      },
      "execution_count": 5,
      "outputs": []
    },
    {
      "cell_type": "code",
      "source": [
        "tracks"
      ],
      "metadata": {
        "id": "db8GA7xK_GB2",
        "outputId": "1111c728-3928-47aa-8106-fe57d2b49bac",
        "colab": {
          "base_uri": "https://localhost:8080/"
        }
      },
      "execution_count": 6,
      "outputs": [
        {
          "output_type": "execute_result",
          "data": {
            "text/plain": [
              "['https://open.spotify.com/track/40EXFgNMOIQRQOwJZ8mJkC',\n",
              " 'https://open.spotify.com/track/2630Nsy5LsKK3lbT0pOmI2',\n",
              " 'https://open.spotify.com/track/7lP071DicbJJgF3VU8vCkw',\n",
              " 'https://open.spotify.com/track/7dnixpDdQlIOX1L7O0pdFM',\n",
              " 'https://open.spotify.com/track/2HRa9MR7Sqy3T6WbdpF3Rj',\n",
              " 'https://open.spotify.com/track/4wqBRSqEPrL4UjP00lZB1M',\n",
              " 'https://open.spotify.com/track/7FPEPfrrJlVIHk4pGWtAqy',\n",
              " 'https://open.spotify.com/track/0nTgtjFQzLhvU3VLciMPlN',\n",
              " 'https://open.spotify.com/track/5e2xoyxZbGAXIwFqY3EG8i',\n",
              " 'https://open.spotify.com/track/043bwUOxMoxTIPvjkvHAwS',\n",
              " 'https://open.spotify.com/track/0cnh6R6nuYgvCaOev5j8UT',\n",
              " 'https://open.spotify.com/track/16OxpGrrxgyG724pBPIILx',\n",
              " 'https://open.spotify.com/track/1h6w4POXM2LfG4ZD4xUfZQ',\n",
              " 'https://open.spotify.com/track/1mXJlLzoEk3STrioO2ehRE',\n",
              " 'https://open.spotify.com/track/36rwKN7gg5MsyQhtpdxYEi',\n",
              " 'https://open.spotify.com/track/4i8qIot5wFptu30dXnBx9L',\n",
              " 'https://open.spotify.com/track/56Gdp4KNxEE8owRsZvAPuC',\n",
              " 'https://open.spotify.com/track/5edhwujeOj54zlfAPa30C8',\n",
              " 'https://open.spotify.com/track/6sI0fnXWXR2IWujbeEPK3Z',\n",
              " 'https://open.spotify.com/track/7rz6nMNVSnugwhNT5hJe6p',\n",
              " 'https://open.spotify.com/track/0EZX8dyv3PGc3S32UHkS0L',\n",
              " 'https://open.spotify.com/track/2DBUpz6M5ZO9imNQpRYYv3',\n",
              " 'https://open.spotify.com/track/4AKLHw94E5jIZICRdU3zc3',\n",
              " 'https://open.spotify.com/track/6AbwJJnX5omy6pgaIos7PF',\n",
              " 'https://open.spotify.com/track/0nfnCp3NNcUjksmxd5xqEG',\n",
              " 'https://open.spotify.com/track/1A0FKxKsecJA2lgWjEJW51',\n",
              " 'https://open.spotify.com/track/2hR3npB7rQOqRXS4yISzFs',\n",
              " 'https://open.spotify.com/track/2yWlf1472qe5QLXcWVUjo0',\n",
              " 'https://open.spotify.com/track/5q1TIv5tguOmZc5x5VSf4y',\n",
              " 'https://open.spotify.com/track/711Uzkaoyoe05xV55JhXbT',\n",
              " 'https://open.spotify.com/track/74wVKaNFhj326QKjN8cSXq',\n",
              " 'https://open.spotify.com/track/34YfyXjr42nealgrGr7Zll']"
            ]
          },
          "metadata": {},
          "execution_count": 6
        }
      ]
    },
    {
      "cell_type": "markdown",
      "source": [
        "### Get Artists Names"
      ],
      "metadata": {
        "id": "8Zk8GmH-GNa7"
      }
    },
    {
      "cell_type": "code",
      "source": [
        "def get_track_artists(track):\n",
        "    '''Get all artists for each track'''\n",
        "    \n",
        "    artists = []\n",
        "    \n",
        "    #Iterate through all avaiable artists, append to new array\n",
        "    for artist in spotify.track(track)['artists']:\n",
        "        artists.append(artist['name'])\n",
        "    return artists"
      ],
      "metadata": {
        "id": "XAZEhzX4G0c8"
      },
      "execution_count": 7,
      "outputs": []
    },
    {
      "cell_type": "code",
      "source": [
        "get_track_artists('https://open.spotify.com/track/5OSGdSxtulzlzdPdK2MQJC?si=a4a9db4cd27242b2')"
      ],
      "metadata": {
        "colab": {
          "base_uri": "https://localhost:8080/"
        },
        "id": "5kplcFqSICbs",
        "outputId": "a624fa07-3c31-4467-e2a7-427409885e8b"
      },
      "execution_count": 8,
      "outputs": [
        {
          "output_type": "execute_result",
          "data": {
            "text/plain": [
              "['Marshmello', 'Farruko']"
            ]
          },
          "metadata": {},
          "execution_count": 8
        }
      ]
    },
    {
      "cell_type": "markdown",
      "source": [
        "### Get Track Name"
      ],
      "metadata": {
        "id": "o7GjYbnrIP1p"
      }
    },
    {
      "cell_type": "code",
      "source": [
        "def get_track_name(track):\n",
        "    '''Get track name'''\n",
        "\n",
        "    return spotify.track(track)['name']"
      ],
      "metadata": {
        "id": "WDe0ybypIT_D"
      },
      "execution_count": 9,
      "outputs": []
    },
    {
      "cell_type": "markdown",
      "source": [
        "### Get Audio Features"
      ],
      "metadata": {
        "id": "z2xiZ4VyIMfN"
      }
    },
    {
      "cell_type": "code",
      "source": [
        "def get_audio_features(song):\n",
        "    '''Function to get score for feature type of a song'''\n",
        "    #Get audio features if no type error, otherwise skip\n",
        "    features = spotify.audio_features(song)[0]\n",
        "    titles = ['danceability','energy','key','loudness','mode','speechiness','acousticness','instrumentalness','liveness','valence','tempo']\n",
        "    for elem in titles:\n",
        "      try:\n",
        "        features[elem]\n",
        "      except TypeError:\n",
        "        features[elem] == None\n",
        "        pass\n",
        "      return features"
      ],
      "metadata": {
        "id": "1mIZ5NxwILc5"
      },
      "execution_count": 60,
      "outputs": []
    },
    {
      "cell_type": "code",
      "source": [
        "get_audio_features('https://open.spotify.com/track/5OSGdSxtulzlzdPdK2MQJC?si=a4a9db4cd27242b2')"
      ],
      "metadata": {
        "colab": {
          "base_uri": "https://localhost:8080/"
        },
        "id": "zE5FTaxFiuBm",
        "outputId": "a3af4106-3596-4200-f8f3-d413dc35ecfb"
      },
      "execution_count": 29,
      "outputs": [
        {
          "output_type": "execute_result",
          "data": {
            "text/plain": [
              "{'danceability': 0.755,\n",
              " 'energy': 0.676,\n",
              " 'key': 5,\n",
              " 'loudness': -7.349,\n",
              " 'mode': 1,\n",
              " 'speechiness': 0.0377,\n",
              " 'acousticness': 0.0418,\n",
              " 'instrumentalness': 0.00176,\n",
              " 'liveness': 0.204,\n",
              " 'valence': 0.461,\n",
              " 'tempo': 123.98,\n",
              " 'type': 'audio_features',\n",
              " 'id': '5OSGdSxtulzlzdPdK2MQJC',\n",
              " 'uri': 'spotify:track:5OSGdSxtulzlzdPdK2MQJC',\n",
              " 'track_href': 'https://api.spotify.com/v1/tracks/5OSGdSxtulzlzdPdK2MQJC',\n",
              " 'analysis_url': 'https://api.spotify.com/v1/audio-analysis/5OSGdSxtulzlzdPdK2MQJC',\n",
              " 'duration_ms': 209136,\n",
              " 'time_signature': 4}"
            ]
          },
          "metadata": {},
          "execution_count": 29
        }
      ]
    },
    {
      "cell_type": "markdown",
      "source": [],
      "metadata": {
        "id": "ewNnVpGXHBN8"
      }
    },
    {
      "cell_type": "markdown",
      "source": [
        "What do I need from each song?\n",
        "1. Artist names\n",
        "2. Album\n",
        "3. Genres\n",
        "4. Song features\n"
      ],
      "metadata": {
        "id": "Hm1xrOc495rH"
      }
    },
    {
      "cell_type": "code",
      "source": [
        "spotify.audio_features(\"https://open.spotify.com/track/5xP9lQYA8YQmQh6BOxcAnR\")[0]"
      ],
      "metadata": {
        "colab": {
          "base_uri": "https://localhost:8080/"
        },
        "id": "AD2qduhJ-3BP",
        "outputId": "726d0b76-cab7-40d0-9c15-902f59a53cc0"
      },
      "execution_count": 76,
      "outputs": [
        {
          "output_type": "execute_result",
          "data": {
            "text/plain": [
              "{'danceability': 0.852,\n",
              " 'energy': 0.675,\n",
              " 'key': 1,\n",
              " 'loudness': -6.271,\n",
              " 'mode': 1,\n",
              " 'speechiness': 0.197,\n",
              " 'acousticness': 0.0652,\n",
              " 'instrumentalness': 3.74e-05,\n",
              " 'liveness': 0.36,\n",
              " 'valence': 0.83,\n",
              " 'tempo': 99.012,\n",
              " 'type': 'audio_features',\n",
              " 'id': '5xP9lQYA8YQmQh6BOxcAnR',\n",
              " 'uri': 'spotify:track:5xP9lQYA8YQmQh6BOxcAnR',\n",
              " 'track_href': 'https://api.spotify.com/v1/tracks/5xP9lQYA8YQmQh6BOxcAnR',\n",
              " 'analysis_url': 'https://api.spotify.com/v1/audio-analysis/5xP9lQYA8YQmQh6BOxcAnR',\n",
              " 'duration_ms': 215467,\n",
              " 'time_signature': 4}"
            ]
          },
          "metadata": {},
          "execution_count": 76
        }
      ]
    },
    {
      "cell_type": "code",
      "source": [
        "dic = spotify.audio_features(\"https://open.spotify.com/track/5xP9lQYA8YQmQh6BOxcAnR\")[0]\n",
        "output = pd.DataFrame()"
      ],
      "metadata": {
        "id": "gIl1Ab6RkzMr"
      },
      "execution_count": 13,
      "outputs": []
    },
    {
      "cell_type": "code",
      "source": [
        "output = output.append(dic, ignore_index=True)"
      ],
      "metadata": {
        "colab": {
          "base_uri": "https://localhost:8080/"
        },
        "id": "ZzpqZ4COlAaI",
        "outputId": "9d84228e-f516-41a1-90a0-88823832e6a7"
      },
      "execution_count": 14,
      "outputs": [
        {
          "output_type": "stream",
          "name": "stderr",
          "text": [
            "<ipython-input-14-703685a495c5>:1: FutureWarning: The frame.append method is deprecated and will be removed from pandas in a future version. Use pandas.concat instead.\n",
            "  output = output.append(dic, ignore_index=True)\n"
          ]
        }
      ]
    },
    {
      "cell_type": "code",
      "source": [
        "output = output.iloc[:, 0:11]\n",
        "output.drop(columns = ['mode', 'key',])"
      ],
      "metadata": {
        "colab": {
          "base_uri": "https://localhost:8080/",
          "height": 81
        },
        "id": "7O1HlStFOXQ5",
        "outputId": "4c73258e-a674-4760-b01e-4536677171f2"
      },
      "execution_count": 15,
      "outputs": [
        {
          "output_type": "execute_result",
          "data": {
            "text/plain": [
              "   danceability  energy  loudness  speechiness  acousticness  \\\n",
              "0         0.852   0.675    -6.271        0.197        0.0652   \n",
              "\n",
              "   instrumentalness  liveness  valence   tempo  \n",
              "0          0.000037      0.36     0.83  99.012  "
            ],
            "text/html": [
              "\n",
              "  <div id=\"df-1b0e6cb9-a466-4cfc-bde9-f3f040de63ef\">\n",
              "    <div class=\"colab-df-container\">\n",
              "      <div>\n",
              "<style scoped>\n",
              "    .dataframe tbody tr th:only-of-type {\n",
              "        vertical-align: middle;\n",
              "    }\n",
              "\n",
              "    .dataframe tbody tr th {\n",
              "        vertical-align: top;\n",
              "    }\n",
              "\n",
              "    .dataframe thead th {\n",
              "        text-align: right;\n",
              "    }\n",
              "</style>\n",
              "<table border=\"1\" class=\"dataframe\">\n",
              "  <thead>\n",
              "    <tr style=\"text-align: right;\">\n",
              "      <th></th>\n",
              "      <th>danceability</th>\n",
              "      <th>energy</th>\n",
              "      <th>loudness</th>\n",
              "      <th>speechiness</th>\n",
              "      <th>acousticness</th>\n",
              "      <th>instrumentalness</th>\n",
              "      <th>liveness</th>\n",
              "      <th>valence</th>\n",
              "      <th>tempo</th>\n",
              "    </tr>\n",
              "  </thead>\n",
              "  <tbody>\n",
              "    <tr>\n",
              "      <th>0</th>\n",
              "      <td>0.852</td>\n",
              "      <td>0.675</td>\n",
              "      <td>-6.271</td>\n",
              "      <td>0.197</td>\n",
              "      <td>0.0652</td>\n",
              "      <td>0.000037</td>\n",
              "      <td>0.36</td>\n",
              "      <td>0.83</td>\n",
              "      <td>99.012</td>\n",
              "    </tr>\n",
              "  </tbody>\n",
              "</table>\n",
              "</div>\n",
              "      <button class=\"colab-df-convert\" onclick=\"convertToInteractive('df-1b0e6cb9-a466-4cfc-bde9-f3f040de63ef')\"\n",
              "              title=\"Convert this dataframe to an interactive table.\"\n",
              "              style=\"display:none;\">\n",
              "        \n",
              "  <svg xmlns=\"http://www.w3.org/2000/svg\" height=\"24px\"viewBox=\"0 0 24 24\"\n",
              "       width=\"24px\">\n",
              "    <path d=\"M0 0h24v24H0V0z\" fill=\"none\"/>\n",
              "    <path d=\"M18.56 5.44l.94 2.06.94-2.06 2.06-.94-2.06-.94-.94-2.06-.94 2.06-2.06.94zm-11 1L8.5 8.5l.94-2.06 2.06-.94-2.06-.94L8.5 2.5l-.94 2.06-2.06.94zm10 10l.94 2.06.94-2.06 2.06-.94-2.06-.94-.94-2.06-.94 2.06-2.06.94z\"/><path d=\"M17.41 7.96l-1.37-1.37c-.4-.4-.92-.59-1.43-.59-.52 0-1.04.2-1.43.59L10.3 9.45l-7.72 7.72c-.78.78-.78 2.05 0 2.83L4 21.41c.39.39.9.59 1.41.59.51 0 1.02-.2 1.41-.59l7.78-7.78 2.81-2.81c.8-.78.8-2.07 0-2.86zM5.41 20L4 18.59l7.72-7.72 1.47 1.35L5.41 20z\"/>\n",
              "  </svg>\n",
              "      </button>\n",
              "      \n",
              "  <style>\n",
              "    .colab-df-container {\n",
              "      display:flex;\n",
              "      flex-wrap:wrap;\n",
              "      gap: 12px;\n",
              "    }\n",
              "\n",
              "    .colab-df-convert {\n",
              "      background-color: #E8F0FE;\n",
              "      border: none;\n",
              "      border-radius: 50%;\n",
              "      cursor: pointer;\n",
              "      display: none;\n",
              "      fill: #1967D2;\n",
              "      height: 32px;\n",
              "      padding: 0 0 0 0;\n",
              "      width: 32px;\n",
              "    }\n",
              "\n",
              "    .colab-df-convert:hover {\n",
              "      background-color: #E2EBFA;\n",
              "      box-shadow: 0px 1px 2px rgba(60, 64, 67, 0.3), 0px 1px 3px 1px rgba(60, 64, 67, 0.15);\n",
              "      fill: #174EA6;\n",
              "    }\n",
              "\n",
              "    [theme=dark] .colab-df-convert {\n",
              "      background-color: #3B4455;\n",
              "      fill: #D2E3FC;\n",
              "    }\n",
              "\n",
              "    [theme=dark] .colab-df-convert:hover {\n",
              "      background-color: #434B5C;\n",
              "      box-shadow: 0px 1px 3px 1px rgba(0, 0, 0, 0.15);\n",
              "      filter: drop-shadow(0px 1px 2px rgba(0, 0, 0, 0.3));\n",
              "      fill: #FFFFFF;\n",
              "    }\n",
              "  </style>\n",
              "\n",
              "      <script>\n",
              "        const buttonEl =\n",
              "          document.querySelector('#df-1b0e6cb9-a466-4cfc-bde9-f3f040de63ef button.colab-df-convert');\n",
              "        buttonEl.style.display =\n",
              "          google.colab.kernel.accessAllowed ? 'block' : 'none';\n",
              "\n",
              "        async function convertToInteractive(key) {\n",
              "          const element = document.querySelector('#df-1b0e6cb9-a466-4cfc-bde9-f3f040de63ef');\n",
              "          const dataTable =\n",
              "            await google.colab.kernel.invokeFunction('convertToInteractive',\n",
              "                                                     [key], {});\n",
              "          if (!dataTable) return;\n",
              "\n",
              "          const docLinkHtml = 'Like what you see? Visit the ' +\n",
              "            '<a target=\"_blank\" href=https://colab.research.google.com/notebooks/data_table.ipynb>data table notebook</a>'\n",
              "            + ' to learn more about interactive tables.';\n",
              "          element.innerHTML = '';\n",
              "          dataTable['output_type'] = 'display_data';\n",
              "          await google.colab.output.renderOutput(dataTable, element);\n",
              "          const docLink = document.createElement('div');\n",
              "          docLink.innerHTML = docLinkHtml;\n",
              "          element.appendChild(docLink);\n",
              "        }\n",
              "      </script>\n",
              "    </div>\n",
              "  </div>\n",
              "  "
            ]
          },
          "metadata": {},
          "execution_count": 15
        }
      ]
    },
    {
      "cell_type": "code",
      "source": [
        "output.insert(loc = 0, column = 'song', value = get_track_name(\"https://open.spotify.com/track/5xP9lQYA8YQmQh6BOxcAnR\"))"
      ],
      "metadata": {
        "id": "AM483DyOPQ5i"
      },
      "execution_count": 16,
      "outputs": []
    },
    {
      "cell_type": "code",
      "source": [
        "output"
      ],
      "metadata": {
        "colab": {
          "base_uri": "https://localhost:8080/",
          "height": 81
        },
        "id": "8EuO7vINS069",
        "outputId": "bdde5f9a-2731-46d8-ecd0-248aaf0b321a"
      },
      "execution_count": 17,
      "outputs": [
        {
          "output_type": "execute_result",
          "data": {
            "text/plain": [
              "                                                song  danceability  energy  \\\n",
              "0  Popular (with Playboi Carti & Madonna) - The I...         0.852   0.675   \n",
              "\n",
              "   key  loudness  mode  speechiness  acousticness  instrumentalness  liveness  \\\n",
              "0    1    -6.271     1        0.197        0.0652          0.000037      0.36   \n",
              "\n",
              "   valence   tempo  \n",
              "0     0.83  99.012  "
            ],
            "text/html": [
              "\n",
              "  <div id=\"df-2dcc4d11-ab14-444f-8500-eb32f106d6a8\">\n",
              "    <div class=\"colab-df-container\">\n",
              "      <div>\n",
              "<style scoped>\n",
              "    .dataframe tbody tr th:only-of-type {\n",
              "        vertical-align: middle;\n",
              "    }\n",
              "\n",
              "    .dataframe tbody tr th {\n",
              "        vertical-align: top;\n",
              "    }\n",
              "\n",
              "    .dataframe thead th {\n",
              "        text-align: right;\n",
              "    }\n",
              "</style>\n",
              "<table border=\"1\" class=\"dataframe\">\n",
              "  <thead>\n",
              "    <tr style=\"text-align: right;\">\n",
              "      <th></th>\n",
              "      <th>song</th>\n",
              "      <th>danceability</th>\n",
              "      <th>energy</th>\n",
              "      <th>key</th>\n",
              "      <th>loudness</th>\n",
              "      <th>mode</th>\n",
              "      <th>speechiness</th>\n",
              "      <th>acousticness</th>\n",
              "      <th>instrumentalness</th>\n",
              "      <th>liveness</th>\n",
              "      <th>valence</th>\n",
              "      <th>tempo</th>\n",
              "    </tr>\n",
              "  </thead>\n",
              "  <tbody>\n",
              "    <tr>\n",
              "      <th>0</th>\n",
              "      <td>Popular (with Playboi Carti &amp; Madonna) - The I...</td>\n",
              "      <td>0.852</td>\n",
              "      <td>0.675</td>\n",
              "      <td>1</td>\n",
              "      <td>-6.271</td>\n",
              "      <td>1</td>\n",
              "      <td>0.197</td>\n",
              "      <td>0.0652</td>\n",
              "      <td>0.000037</td>\n",
              "      <td>0.36</td>\n",
              "      <td>0.83</td>\n",
              "      <td>99.012</td>\n",
              "    </tr>\n",
              "  </tbody>\n",
              "</table>\n",
              "</div>\n",
              "      <button class=\"colab-df-convert\" onclick=\"convertToInteractive('df-2dcc4d11-ab14-444f-8500-eb32f106d6a8')\"\n",
              "              title=\"Convert this dataframe to an interactive table.\"\n",
              "              style=\"display:none;\">\n",
              "        \n",
              "  <svg xmlns=\"http://www.w3.org/2000/svg\" height=\"24px\"viewBox=\"0 0 24 24\"\n",
              "       width=\"24px\">\n",
              "    <path d=\"M0 0h24v24H0V0z\" fill=\"none\"/>\n",
              "    <path d=\"M18.56 5.44l.94 2.06.94-2.06 2.06-.94-2.06-.94-.94-2.06-.94 2.06-2.06.94zm-11 1L8.5 8.5l.94-2.06 2.06-.94-2.06-.94L8.5 2.5l-.94 2.06-2.06.94zm10 10l.94 2.06.94-2.06 2.06-.94-2.06-.94-.94-2.06-.94 2.06-2.06.94z\"/><path d=\"M17.41 7.96l-1.37-1.37c-.4-.4-.92-.59-1.43-.59-.52 0-1.04.2-1.43.59L10.3 9.45l-7.72 7.72c-.78.78-.78 2.05 0 2.83L4 21.41c.39.39.9.59 1.41.59.51 0 1.02-.2 1.41-.59l7.78-7.78 2.81-2.81c.8-.78.8-2.07 0-2.86zM5.41 20L4 18.59l7.72-7.72 1.47 1.35L5.41 20z\"/>\n",
              "  </svg>\n",
              "      </button>\n",
              "      \n",
              "  <style>\n",
              "    .colab-df-container {\n",
              "      display:flex;\n",
              "      flex-wrap:wrap;\n",
              "      gap: 12px;\n",
              "    }\n",
              "\n",
              "    .colab-df-convert {\n",
              "      background-color: #E8F0FE;\n",
              "      border: none;\n",
              "      border-radius: 50%;\n",
              "      cursor: pointer;\n",
              "      display: none;\n",
              "      fill: #1967D2;\n",
              "      height: 32px;\n",
              "      padding: 0 0 0 0;\n",
              "      width: 32px;\n",
              "    }\n",
              "\n",
              "    .colab-df-convert:hover {\n",
              "      background-color: #E2EBFA;\n",
              "      box-shadow: 0px 1px 2px rgba(60, 64, 67, 0.3), 0px 1px 3px 1px rgba(60, 64, 67, 0.15);\n",
              "      fill: #174EA6;\n",
              "    }\n",
              "\n",
              "    [theme=dark] .colab-df-convert {\n",
              "      background-color: #3B4455;\n",
              "      fill: #D2E3FC;\n",
              "    }\n",
              "\n",
              "    [theme=dark] .colab-df-convert:hover {\n",
              "      background-color: #434B5C;\n",
              "      box-shadow: 0px 1px 3px 1px rgba(0, 0, 0, 0.15);\n",
              "      filter: drop-shadow(0px 1px 2px rgba(0, 0, 0, 0.3));\n",
              "      fill: #FFFFFF;\n",
              "    }\n",
              "  </style>\n",
              "\n",
              "      <script>\n",
              "        const buttonEl =\n",
              "          document.querySelector('#df-2dcc4d11-ab14-444f-8500-eb32f106d6a8 button.colab-df-convert');\n",
              "        buttonEl.style.display =\n",
              "          google.colab.kernel.accessAllowed ? 'block' : 'none';\n",
              "\n",
              "        async function convertToInteractive(key) {\n",
              "          const element = document.querySelector('#df-2dcc4d11-ab14-444f-8500-eb32f106d6a8');\n",
              "          const dataTable =\n",
              "            await google.colab.kernel.invokeFunction('convertToInteractive',\n",
              "                                                     [key], {});\n",
              "          if (!dataTable) return;\n",
              "\n",
              "          const docLinkHtml = 'Like what you see? Visit the ' +\n",
              "            '<a target=\"_blank\" href=https://colab.research.google.com/notebooks/data_table.ipynb>data table notebook</a>'\n",
              "            + ' to learn more about interactive tables.';\n",
              "          element.innerHTML = '';\n",
              "          dataTable['output_type'] = 'display_data';\n",
              "          await google.colab.output.renderOutput(dataTable, element);\n",
              "          const docLink = document.createElement('div');\n",
              "          docLink.innerHTML = docLinkHtml;\n",
              "          element.appendChild(docLink);\n",
              "        }\n",
              "      </script>\n",
              "    </div>\n",
              "  </div>\n",
              "  "
            ]
          },
          "metadata": {},
          "execution_count": 17
        }
      ]
    },
    {
      "cell_type": "code",
      "source": [
        "output.insert(loc = 1, column = 'artists', value = [get_track_artists(\"https://open.spotify.com/track/5xP9lQYA8YQmQh6BOxcAnR\")])"
      ],
      "metadata": {
        "id": "DBqiZPqbS_aH"
      },
      "execution_count": 18,
      "outputs": []
    },
    {
      "cell_type": "code",
      "source": [
        "output"
      ],
      "metadata": {
        "colab": {
          "base_uri": "https://localhost:8080/",
          "height": 142
        },
        "id": "9a419EJUTKSb",
        "outputId": "096a16fd-489b-41bb-a52e-850a36772c2a"
      },
      "execution_count": 19,
      "outputs": [
        {
          "output_type": "execute_result",
          "data": {
            "text/plain": [
              "                                                song  \\\n",
              "0  Popular (with Playboi Carti & Madonna) - The I...   \n",
              "\n",
              "                                artists  danceability  energy  key  loudness  \\\n",
              "0  [The Weeknd, Playboi Carti, Madonna]         0.852   0.675    1    -6.271   \n",
              "\n",
              "   mode  speechiness  acousticness  instrumentalness  liveness  valence  \\\n",
              "0     1        0.197        0.0652          0.000037      0.36     0.83   \n",
              "\n",
              "    tempo  \n",
              "0  99.012  "
            ],
            "text/html": [
              "\n",
              "  <div id=\"df-cca15bc7-d42c-41e3-be13-cba4fb39f397\">\n",
              "    <div class=\"colab-df-container\">\n",
              "      <div>\n",
              "<style scoped>\n",
              "    .dataframe tbody tr th:only-of-type {\n",
              "        vertical-align: middle;\n",
              "    }\n",
              "\n",
              "    .dataframe tbody tr th {\n",
              "        vertical-align: top;\n",
              "    }\n",
              "\n",
              "    .dataframe thead th {\n",
              "        text-align: right;\n",
              "    }\n",
              "</style>\n",
              "<table border=\"1\" class=\"dataframe\">\n",
              "  <thead>\n",
              "    <tr style=\"text-align: right;\">\n",
              "      <th></th>\n",
              "      <th>song</th>\n",
              "      <th>artists</th>\n",
              "      <th>danceability</th>\n",
              "      <th>energy</th>\n",
              "      <th>key</th>\n",
              "      <th>loudness</th>\n",
              "      <th>mode</th>\n",
              "      <th>speechiness</th>\n",
              "      <th>acousticness</th>\n",
              "      <th>instrumentalness</th>\n",
              "      <th>liveness</th>\n",
              "      <th>valence</th>\n",
              "      <th>tempo</th>\n",
              "    </tr>\n",
              "  </thead>\n",
              "  <tbody>\n",
              "    <tr>\n",
              "      <th>0</th>\n",
              "      <td>Popular (with Playboi Carti &amp; Madonna) - The I...</td>\n",
              "      <td>[The Weeknd, Playboi Carti, Madonna]</td>\n",
              "      <td>0.852</td>\n",
              "      <td>0.675</td>\n",
              "      <td>1</td>\n",
              "      <td>-6.271</td>\n",
              "      <td>1</td>\n",
              "      <td>0.197</td>\n",
              "      <td>0.0652</td>\n",
              "      <td>0.000037</td>\n",
              "      <td>0.36</td>\n",
              "      <td>0.83</td>\n",
              "      <td>99.012</td>\n",
              "    </tr>\n",
              "  </tbody>\n",
              "</table>\n",
              "</div>\n",
              "      <button class=\"colab-df-convert\" onclick=\"convertToInteractive('df-cca15bc7-d42c-41e3-be13-cba4fb39f397')\"\n",
              "              title=\"Convert this dataframe to an interactive table.\"\n",
              "              style=\"display:none;\">\n",
              "        \n",
              "  <svg xmlns=\"http://www.w3.org/2000/svg\" height=\"24px\"viewBox=\"0 0 24 24\"\n",
              "       width=\"24px\">\n",
              "    <path d=\"M0 0h24v24H0V0z\" fill=\"none\"/>\n",
              "    <path d=\"M18.56 5.44l.94 2.06.94-2.06 2.06-.94-2.06-.94-.94-2.06-.94 2.06-2.06.94zm-11 1L8.5 8.5l.94-2.06 2.06-.94-2.06-.94L8.5 2.5l-.94 2.06-2.06.94zm10 10l.94 2.06.94-2.06 2.06-.94-2.06-.94-.94-2.06-.94 2.06-2.06.94z\"/><path d=\"M17.41 7.96l-1.37-1.37c-.4-.4-.92-.59-1.43-.59-.52 0-1.04.2-1.43.59L10.3 9.45l-7.72 7.72c-.78.78-.78 2.05 0 2.83L4 21.41c.39.39.9.59 1.41.59.51 0 1.02-.2 1.41-.59l7.78-7.78 2.81-2.81c.8-.78.8-2.07 0-2.86zM5.41 20L4 18.59l7.72-7.72 1.47 1.35L5.41 20z\"/>\n",
              "  </svg>\n",
              "      </button>\n",
              "      \n",
              "  <style>\n",
              "    .colab-df-container {\n",
              "      display:flex;\n",
              "      flex-wrap:wrap;\n",
              "      gap: 12px;\n",
              "    }\n",
              "\n",
              "    .colab-df-convert {\n",
              "      background-color: #E8F0FE;\n",
              "      border: none;\n",
              "      border-radius: 50%;\n",
              "      cursor: pointer;\n",
              "      display: none;\n",
              "      fill: #1967D2;\n",
              "      height: 32px;\n",
              "      padding: 0 0 0 0;\n",
              "      width: 32px;\n",
              "    }\n",
              "\n",
              "    .colab-df-convert:hover {\n",
              "      background-color: #E2EBFA;\n",
              "      box-shadow: 0px 1px 2px rgba(60, 64, 67, 0.3), 0px 1px 3px 1px rgba(60, 64, 67, 0.15);\n",
              "      fill: #174EA6;\n",
              "    }\n",
              "\n",
              "    [theme=dark] .colab-df-convert {\n",
              "      background-color: #3B4455;\n",
              "      fill: #D2E3FC;\n",
              "    }\n",
              "\n",
              "    [theme=dark] .colab-df-convert:hover {\n",
              "      background-color: #434B5C;\n",
              "      box-shadow: 0px 1px 3px 1px rgba(0, 0, 0, 0.15);\n",
              "      filter: drop-shadow(0px 1px 2px rgba(0, 0, 0, 0.3));\n",
              "      fill: #FFFFFF;\n",
              "    }\n",
              "  </style>\n",
              "\n",
              "      <script>\n",
              "        const buttonEl =\n",
              "          document.querySelector('#df-cca15bc7-d42c-41e3-be13-cba4fb39f397 button.colab-df-convert');\n",
              "        buttonEl.style.display =\n",
              "          google.colab.kernel.accessAllowed ? 'block' : 'none';\n",
              "\n",
              "        async function convertToInteractive(key) {\n",
              "          const element = document.querySelector('#df-cca15bc7-d42c-41e3-be13-cba4fb39f397');\n",
              "          const dataTable =\n",
              "            await google.colab.kernel.invokeFunction('convertToInteractive',\n",
              "                                                     [key], {});\n",
              "          if (!dataTable) return;\n",
              "\n",
              "          const docLinkHtml = 'Like what you see? Visit the ' +\n",
              "            '<a target=\"_blank\" href=https://colab.research.google.com/notebooks/data_table.ipynb>data table notebook</a>'\n",
              "            + ' to learn more about interactive tables.';\n",
              "          element.innerHTML = '';\n",
              "          dataTable['output_type'] = 'display_data';\n",
              "          await google.colab.output.renderOutput(dataTable, element);\n",
              "          const docLink = document.createElement('div');\n",
              "          docLink.innerHTML = docLinkHtml;\n",
              "          element.appendChild(docLink);\n",
              "        }\n",
              "      </script>\n",
              "    </div>\n",
              "  </div>\n",
              "  "
            ]
          },
          "metadata": {},
          "execution_count": 19
        }
      ]
    },
    {
      "cell_type": "markdown",
      "source": [
        "Then I need a function to get songs straight from a playlist, convert to feature info and put into a db"
      ],
      "metadata": {
        "id": "v29BO_kZYb-h"
      }
    },
    {
      "cell_type": "code",
      "source": [
        "def songs_to_features(song):\n",
        "  feature_dict = spotify.audio_features(song)\n",
        "  "
      ],
      "metadata": {
        "id": "4VgGsR2TYoLK"
      },
      "execution_count": 20,
      "outputs": []
    },
    {
      "cell_type": "code",
      "source": [
        "#https://open.spotify.com/playlist/7IKIjt9wZPPQWgvHo1SeFO?si=75371c3c8eaa49a2"
      ],
      "metadata": {
        "id": "7jW1y3oEadfr"
      },
      "execution_count": 21,
      "outputs": []
    },
    {
      "cell_type": "code",
      "source": [
        "songs = extract_songs('https://open.spotify.com/playlist/7IKIjt9wZPPQWgvHo1SeFO?si=75371c3c8eaa49a2')"
      ],
      "metadata": {
        "id": "IPCJNp8KebEh"
      },
      "execution_count": 65,
      "outputs": []
    },
    {
      "cell_type": "code",
      "source": [
        "#Spotify Playlists 1 per genre.xlsx"
      ],
      "metadata": {
        "id": "VLv6LYVUiVo2"
      },
      "execution_count": 23,
      "outputs": []
    },
    {
      "cell_type": "code",
      "source": [
        "def excel_list_to_df():\n",
        "    '''Create the dataframe from the excel sheet of playlists'''\n",
        "\n",
        "    df = pd.read_excel(\"Spotify Playlists 1 per genre.xlsx\")\n",
        "    playlists = df['Link']\n",
        "    return playlists"
      ],
      "metadata": {
        "id": "TbUiKn1liW4o"
      },
      "execution_count": 24,
      "outputs": []
    },
    {
      "cell_type": "markdown",
      "source": [
        "Let's have a function that will show stats for the playlist"
      ],
      "metadata": {
        "id": "vI1Rbt08fuuJ"
      }
    },
    {
      "cell_type": "code",
      "source": [],
      "metadata": {
        "id": "KcHr5oLFftjp"
      },
      "execution_count": 24,
      "outputs": []
    },
    {
      "cell_type": "markdown",
      "source": [
        "## Build Playlist Database"
      ],
      "metadata": {
        "id": "J-IiZ9RzfOaI"
      }
    },
    {
      "cell_type": "code",
      "source": [
        "def populate_song_info(playlist):\n",
        "    '''\n",
        "    Function that populates an dictionary where keys are the audio features and values are an array of scores for each song\n",
        "    This function performs the lionshare of data setup\n",
        "    '''\n",
        "    songlist = extract_songs(playlist)\n",
        "\n",
        "    #Storage for various types of data\n",
        "    song_data = {}\n",
        "    name_array = []\n",
        "    artist_array = []\n",
        "    dance_array = []\n",
        "    energy_array = []\n",
        "    key_array = []\n",
        "    loudness_array = []\n",
        "    mode_array = []\n",
        "    speech_array = []\n",
        "    acoustic_array = []\n",
        "    instrument_array = []\n",
        "    live_array = []\n",
        "    valence_array = []\n",
        "    tempo_array = []\n",
        "    link_array = []\n",
        "    \n",
        "    #Loop to append song info to appropriate array\n",
        "    for song in songlist:\n",
        "        features = spotify.audio_features(song)[0]\n",
        "        #Check if features don't exist, skip the song entry\n",
        "        if features ==  None:\n",
        "          continue\n",
        "        #Get song names and artists\n",
        "        name_array.append(get_track_name(song))\n",
        "        artist_array.append(get_track_artists(song))\n",
        "\n",
        "        #Append feature to each corresponding array\n",
        "        dance_array.append(features['danceability'])\n",
        "        energy_array.append(features['energy'])\n",
        "        key_array.append(features['key'])\n",
        "        loudness_array.append(features['loudness'])\n",
        "        mode_array.append(features['mode'])\n",
        "        speech_array.append(features['speechiness'])\n",
        "        acoustic_array.append(features['acousticness'])\n",
        "        instrument_array.append(features['instrumentalness'])\n",
        "        live_array.append(features['liveness'])\n",
        "        valence_array.append(features['valence'])\n",
        "        tempo_array.append(features['tempo'])\n",
        "        link_array.append(song)\n",
        "        \n",
        "    #Put all song data in a library with proper labels\n",
        "    song_data['track_name'] = name_array\n",
        "    song_data['artists'] = artist_array\n",
        "    song_data['danceability'] = dance_array\n",
        "    song_data['energy'] = energy_array\n",
        "    song_data['key'] = key_array\n",
        "    song_data['loudness'] = loudness_array\n",
        "    song_data['mode'] = mode_array\n",
        "    song_data['speechiness'] = speech_array\n",
        "    song_data['acousticness'] = acoustic_array\n",
        "    song_data['instrumentalness'] = instrument_array\n",
        "    song_data['liveness'] = live_array\n",
        "    song_data['valence'] = valence_array\n",
        "    song_data['tempo'] = tempo_array\n",
        "    song_data['link'] = link_array\n",
        "    \n",
        "    song_db = pd.DataFrame(song_data)\n",
        "    return song_db"
      ],
      "metadata": {
        "id": "sAFJ4k3MfNrz"
      },
      "execution_count": 86,
      "outputs": []
    },
    {
      "cell_type": "code",
      "source": [
        "song_db = populate_song_info('https://open.spotify.com/playlist/7IKIjt9wZPPQWgvHo1SeFO?si=ee0a9c52dced4214')"
      ],
      "metadata": {
        "id": "FF_FBCGGgsPQ"
      },
      "execution_count": 87,
      "outputs": []
    },
    {
      "cell_type": "code",
      "source": [
        "song_db"
      ],
      "metadata": {
        "id": "BfOp5px01pss",
        "outputId": "9996fb49-9c05-4108-97e7-808f60c184f4",
        "colab": {
          "base_uri": "https://localhost:8080/",
          "height": 678
        }
      },
      "execution_count": 88,
      "outputs": [
        {
          "output_type": "execute_result",
          "data": {
            "text/plain": [
              "                                           track_name  \\\n",
              "0                                           No Stress   \n",
              "1                                                Lucy   \n",
              "2                                                 Beg   \n",
              "3                                             ARRIVAL   \n",
              "4                                                HER.   \n",
              "..                                                ...   \n",
              "82                                          Esta Vida   \n",
              "83                                    Every Good Girl   \n",
              "84  Popular (with Playboi Carti & Madonna) - From ...   \n",
              "85                                                Ic3   \n",
              "86                                           Stadiums   \n",
              "\n",
              "                                 artists  danceability  energy  key  loudness  \\\n",
              "0                               [Quincy]         0.655   0.745   11    -6.068   \n",
              "1                             [Thutmose]         0.687   0.669    5    -3.282   \n",
              "2                       [Duckwrth, CLAY]         0.740   0.637    6    -7.517   \n",
              "3                          [Matt Corman]         0.746   0.736   10    -5.975   \n",
              "4                              [Sheperd]         0.849   0.723    9    -5.142   \n",
              "..                                   ...           ...     ...  ...       ...   \n",
              "82                 [Marshmello, Farruko]         0.755   0.676    5    -7.349   \n",
              "83                               [Blxst]         0.530   0.937    0    -2.757   \n",
              "84  [The Weeknd, Playboi Carti, Madonna]         0.849   0.688    1    -6.340   \n",
              "85                            [Fuse ODG]         0.847   0.778    6    -5.755   \n",
              "86       [SAINt JHN, London On Da Track]         0.734   0.775    2    -3.257   \n",
              "\n",
              "    mode  speechiness  acousticness  instrumentalness  liveness  valence  \\\n",
              "0      0       0.2530        0.3670          0.000000    0.0959    0.593   \n",
              "1      0       0.0356        0.2980          0.000000    0.1200    0.802   \n",
              "2      0       0.1110        0.4200          0.000096    0.1070    0.734   \n",
              "3      0       0.0826        0.1690          0.000104    0.4030    0.321   \n",
              "4      0       0.2000        0.0198          0.003840    0.2690    0.590   \n",
              "..   ...          ...           ...               ...       ...      ...   \n",
              "82     1       0.0377        0.0418          0.001760    0.2040    0.461   \n",
              "83     1       0.3210        0.0457          0.000000    0.1510    0.460   \n",
              "84     1       0.1970        0.0435          0.000058    0.4120    0.829   \n",
              "85     1       0.2280        0.2920          0.000000    0.3280    0.732   \n",
              "86     1       0.1790        0.0243          0.000000    0.1280    0.321   \n",
              "\n",
              "      tempo                                               link  \n",
              "0    89.874  https://open.spotify.com/track/7uXz2dQpT2FIRdJ...  \n",
              "1   156.924  https://open.spotify.com/track/357Cpbxe8X6CK61...  \n",
              "2   129.906  https://open.spotify.com/track/0EjypH9hvvfx1a3...  \n",
              "3    93.951  https://open.spotify.com/track/3BYDzLAuei0ZVeb...  \n",
              "4   108.084  https://open.spotify.com/track/0938VE4FbtsjbGA...  \n",
              "..      ...                                                ...  \n",
              "82  123.980  https://open.spotify.com/track/5OSGdSxtulzlzdP...  \n",
              "83   92.916  https://open.spotify.com/track/6VYBCG9nCZwUUIm...  \n",
              "84   99.013  https://open.spotify.com/track/38ziag7I4rieq2O...  \n",
              "85  103.982  https://open.spotify.com/track/1FbBlINbLTXKZjL...  \n",
              "86  156.052  https://open.spotify.com/track/5Sqya98MFN0RHN2...  \n",
              "\n",
              "[87 rows x 14 columns]"
            ],
            "text/html": [
              "\n",
              "  <div id=\"df-35fd4e7b-2857-4527-8563-9fea499ffe5a\">\n",
              "    <div class=\"colab-df-container\">\n",
              "      <div>\n",
              "<style scoped>\n",
              "    .dataframe tbody tr th:only-of-type {\n",
              "        vertical-align: middle;\n",
              "    }\n",
              "\n",
              "    .dataframe tbody tr th {\n",
              "        vertical-align: top;\n",
              "    }\n",
              "\n",
              "    .dataframe thead th {\n",
              "        text-align: right;\n",
              "    }\n",
              "</style>\n",
              "<table border=\"1\" class=\"dataframe\">\n",
              "  <thead>\n",
              "    <tr style=\"text-align: right;\">\n",
              "      <th></th>\n",
              "      <th>track_name</th>\n",
              "      <th>artists</th>\n",
              "      <th>danceability</th>\n",
              "      <th>energy</th>\n",
              "      <th>key</th>\n",
              "      <th>loudness</th>\n",
              "      <th>mode</th>\n",
              "      <th>speechiness</th>\n",
              "      <th>acousticness</th>\n",
              "      <th>instrumentalness</th>\n",
              "      <th>liveness</th>\n",
              "      <th>valence</th>\n",
              "      <th>tempo</th>\n",
              "      <th>link</th>\n",
              "    </tr>\n",
              "  </thead>\n",
              "  <tbody>\n",
              "    <tr>\n",
              "      <th>0</th>\n",
              "      <td>No Stress</td>\n",
              "      <td>[Quincy]</td>\n",
              "      <td>0.655</td>\n",
              "      <td>0.745</td>\n",
              "      <td>11</td>\n",
              "      <td>-6.068</td>\n",
              "      <td>0</td>\n",
              "      <td>0.2530</td>\n",
              "      <td>0.3670</td>\n",
              "      <td>0.000000</td>\n",
              "      <td>0.0959</td>\n",
              "      <td>0.593</td>\n",
              "      <td>89.874</td>\n",
              "      <td>https://open.spotify.com/track/7uXz2dQpT2FIRdJ...</td>\n",
              "    </tr>\n",
              "    <tr>\n",
              "      <th>1</th>\n",
              "      <td>Lucy</td>\n",
              "      <td>[Thutmose]</td>\n",
              "      <td>0.687</td>\n",
              "      <td>0.669</td>\n",
              "      <td>5</td>\n",
              "      <td>-3.282</td>\n",
              "      <td>0</td>\n",
              "      <td>0.0356</td>\n",
              "      <td>0.2980</td>\n",
              "      <td>0.000000</td>\n",
              "      <td>0.1200</td>\n",
              "      <td>0.802</td>\n",
              "      <td>156.924</td>\n",
              "      <td>https://open.spotify.com/track/357Cpbxe8X6CK61...</td>\n",
              "    </tr>\n",
              "    <tr>\n",
              "      <th>2</th>\n",
              "      <td>Beg</td>\n",
              "      <td>[Duckwrth, CLAY]</td>\n",
              "      <td>0.740</td>\n",
              "      <td>0.637</td>\n",
              "      <td>6</td>\n",
              "      <td>-7.517</td>\n",
              "      <td>0</td>\n",
              "      <td>0.1110</td>\n",
              "      <td>0.4200</td>\n",
              "      <td>0.000096</td>\n",
              "      <td>0.1070</td>\n",
              "      <td>0.734</td>\n",
              "      <td>129.906</td>\n",
              "      <td>https://open.spotify.com/track/0EjypH9hvvfx1a3...</td>\n",
              "    </tr>\n",
              "    <tr>\n",
              "      <th>3</th>\n",
              "      <td>ARRIVAL</td>\n",
              "      <td>[Matt Corman]</td>\n",
              "      <td>0.746</td>\n",
              "      <td>0.736</td>\n",
              "      <td>10</td>\n",
              "      <td>-5.975</td>\n",
              "      <td>0</td>\n",
              "      <td>0.0826</td>\n",
              "      <td>0.1690</td>\n",
              "      <td>0.000104</td>\n",
              "      <td>0.4030</td>\n",
              "      <td>0.321</td>\n",
              "      <td>93.951</td>\n",
              "      <td>https://open.spotify.com/track/3BYDzLAuei0ZVeb...</td>\n",
              "    </tr>\n",
              "    <tr>\n",
              "      <th>4</th>\n",
              "      <td>HER.</td>\n",
              "      <td>[Sheperd]</td>\n",
              "      <td>0.849</td>\n",
              "      <td>0.723</td>\n",
              "      <td>9</td>\n",
              "      <td>-5.142</td>\n",
              "      <td>0</td>\n",
              "      <td>0.2000</td>\n",
              "      <td>0.0198</td>\n",
              "      <td>0.003840</td>\n",
              "      <td>0.2690</td>\n",
              "      <td>0.590</td>\n",
              "      <td>108.084</td>\n",
              "      <td>https://open.spotify.com/track/0938VE4FbtsjbGA...</td>\n",
              "    </tr>\n",
              "    <tr>\n",
              "      <th>...</th>\n",
              "      <td>...</td>\n",
              "      <td>...</td>\n",
              "      <td>...</td>\n",
              "      <td>...</td>\n",
              "      <td>...</td>\n",
              "      <td>...</td>\n",
              "      <td>...</td>\n",
              "      <td>...</td>\n",
              "      <td>...</td>\n",
              "      <td>...</td>\n",
              "      <td>...</td>\n",
              "      <td>...</td>\n",
              "      <td>...</td>\n",
              "      <td>...</td>\n",
              "    </tr>\n",
              "    <tr>\n",
              "      <th>82</th>\n",
              "      <td>Esta Vida</td>\n",
              "      <td>[Marshmello, Farruko]</td>\n",
              "      <td>0.755</td>\n",
              "      <td>0.676</td>\n",
              "      <td>5</td>\n",
              "      <td>-7.349</td>\n",
              "      <td>1</td>\n",
              "      <td>0.0377</td>\n",
              "      <td>0.0418</td>\n",
              "      <td>0.001760</td>\n",
              "      <td>0.2040</td>\n",
              "      <td>0.461</td>\n",
              "      <td>123.980</td>\n",
              "      <td>https://open.spotify.com/track/5OSGdSxtulzlzdP...</td>\n",
              "    </tr>\n",
              "    <tr>\n",
              "      <th>83</th>\n",
              "      <td>Every Good Girl</td>\n",
              "      <td>[Blxst]</td>\n",
              "      <td>0.530</td>\n",
              "      <td>0.937</td>\n",
              "      <td>0</td>\n",
              "      <td>-2.757</td>\n",
              "      <td>1</td>\n",
              "      <td>0.3210</td>\n",
              "      <td>0.0457</td>\n",
              "      <td>0.000000</td>\n",
              "      <td>0.1510</td>\n",
              "      <td>0.460</td>\n",
              "      <td>92.916</td>\n",
              "      <td>https://open.spotify.com/track/6VYBCG9nCZwUUIm...</td>\n",
              "    </tr>\n",
              "    <tr>\n",
              "      <th>84</th>\n",
              "      <td>Popular (with Playboi Carti &amp; Madonna) - From ...</td>\n",
              "      <td>[The Weeknd, Playboi Carti, Madonna]</td>\n",
              "      <td>0.849</td>\n",
              "      <td>0.688</td>\n",
              "      <td>1</td>\n",
              "      <td>-6.340</td>\n",
              "      <td>1</td>\n",
              "      <td>0.1970</td>\n",
              "      <td>0.0435</td>\n",
              "      <td>0.000058</td>\n",
              "      <td>0.4120</td>\n",
              "      <td>0.829</td>\n",
              "      <td>99.013</td>\n",
              "      <td>https://open.spotify.com/track/38ziag7I4rieq2O...</td>\n",
              "    </tr>\n",
              "    <tr>\n",
              "      <th>85</th>\n",
              "      <td>Ic3</td>\n",
              "      <td>[Fuse ODG]</td>\n",
              "      <td>0.847</td>\n",
              "      <td>0.778</td>\n",
              "      <td>6</td>\n",
              "      <td>-5.755</td>\n",
              "      <td>1</td>\n",
              "      <td>0.2280</td>\n",
              "      <td>0.2920</td>\n",
              "      <td>0.000000</td>\n",
              "      <td>0.3280</td>\n",
              "      <td>0.732</td>\n",
              "      <td>103.982</td>\n",
              "      <td>https://open.spotify.com/track/1FbBlINbLTXKZjL...</td>\n",
              "    </tr>\n",
              "    <tr>\n",
              "      <th>86</th>\n",
              "      <td>Stadiums</td>\n",
              "      <td>[SAINt JHN, London On Da Track]</td>\n",
              "      <td>0.734</td>\n",
              "      <td>0.775</td>\n",
              "      <td>2</td>\n",
              "      <td>-3.257</td>\n",
              "      <td>1</td>\n",
              "      <td>0.1790</td>\n",
              "      <td>0.0243</td>\n",
              "      <td>0.000000</td>\n",
              "      <td>0.1280</td>\n",
              "      <td>0.321</td>\n",
              "      <td>156.052</td>\n",
              "      <td>https://open.spotify.com/track/5Sqya98MFN0RHN2...</td>\n",
              "    </tr>\n",
              "  </tbody>\n",
              "</table>\n",
              "<p>87 rows × 14 columns</p>\n",
              "</div>\n",
              "      <button class=\"colab-df-convert\" onclick=\"convertToInteractive('df-35fd4e7b-2857-4527-8563-9fea499ffe5a')\"\n",
              "              title=\"Convert this dataframe to an interactive table.\"\n",
              "              style=\"display:none;\">\n",
              "        \n",
              "  <svg xmlns=\"http://www.w3.org/2000/svg\" height=\"24px\"viewBox=\"0 0 24 24\"\n",
              "       width=\"24px\">\n",
              "    <path d=\"M0 0h24v24H0V0z\" fill=\"none\"/>\n",
              "    <path d=\"M18.56 5.44l.94 2.06.94-2.06 2.06-.94-2.06-.94-.94-2.06-.94 2.06-2.06.94zm-11 1L8.5 8.5l.94-2.06 2.06-.94-2.06-.94L8.5 2.5l-.94 2.06-2.06.94zm10 10l.94 2.06.94-2.06 2.06-.94-2.06-.94-.94-2.06-.94 2.06-2.06.94z\"/><path d=\"M17.41 7.96l-1.37-1.37c-.4-.4-.92-.59-1.43-.59-.52 0-1.04.2-1.43.59L10.3 9.45l-7.72 7.72c-.78.78-.78 2.05 0 2.83L4 21.41c.39.39.9.59 1.41.59.51 0 1.02-.2 1.41-.59l7.78-7.78 2.81-2.81c.8-.78.8-2.07 0-2.86zM5.41 20L4 18.59l7.72-7.72 1.47 1.35L5.41 20z\"/>\n",
              "  </svg>\n",
              "      </button>\n",
              "      \n",
              "  <style>\n",
              "    .colab-df-container {\n",
              "      display:flex;\n",
              "      flex-wrap:wrap;\n",
              "      gap: 12px;\n",
              "    }\n",
              "\n",
              "    .colab-df-convert {\n",
              "      background-color: #E8F0FE;\n",
              "      border: none;\n",
              "      border-radius: 50%;\n",
              "      cursor: pointer;\n",
              "      display: none;\n",
              "      fill: #1967D2;\n",
              "      height: 32px;\n",
              "      padding: 0 0 0 0;\n",
              "      width: 32px;\n",
              "    }\n",
              "\n",
              "    .colab-df-convert:hover {\n",
              "      background-color: #E2EBFA;\n",
              "      box-shadow: 0px 1px 2px rgba(60, 64, 67, 0.3), 0px 1px 3px 1px rgba(60, 64, 67, 0.15);\n",
              "      fill: #174EA6;\n",
              "    }\n",
              "\n",
              "    [theme=dark] .colab-df-convert {\n",
              "      background-color: #3B4455;\n",
              "      fill: #D2E3FC;\n",
              "    }\n",
              "\n",
              "    [theme=dark] .colab-df-convert:hover {\n",
              "      background-color: #434B5C;\n",
              "      box-shadow: 0px 1px 3px 1px rgba(0, 0, 0, 0.15);\n",
              "      filter: drop-shadow(0px 1px 2px rgba(0, 0, 0, 0.3));\n",
              "      fill: #FFFFFF;\n",
              "    }\n",
              "  </style>\n",
              "\n",
              "      <script>\n",
              "        const buttonEl =\n",
              "          document.querySelector('#df-35fd4e7b-2857-4527-8563-9fea499ffe5a button.colab-df-convert');\n",
              "        buttonEl.style.display =\n",
              "          google.colab.kernel.accessAllowed ? 'block' : 'none';\n",
              "\n",
              "        async function convertToInteractive(key) {\n",
              "          const element = document.querySelector('#df-35fd4e7b-2857-4527-8563-9fea499ffe5a');\n",
              "          const dataTable =\n",
              "            await google.colab.kernel.invokeFunction('convertToInteractive',\n",
              "                                                     [key], {});\n",
              "          if (!dataTable) return;\n",
              "\n",
              "          const docLinkHtml = 'Like what you see? Visit the ' +\n",
              "            '<a target=\"_blank\" href=https://colab.research.google.com/notebooks/data_table.ipynb>data table notebook</a>'\n",
              "            + ' to learn more about interactive tables.';\n",
              "          element.innerHTML = '';\n",
              "          dataTable['output_type'] = 'display_data';\n",
              "          await google.colab.output.renderOutput(dataTable, element);\n",
              "          const docLink = document.createElement('div');\n",
              "          docLink.innerHTML = docLinkHtml;\n",
              "          element.appendChild(docLink);\n",
              "        }\n",
              "      </script>\n",
              "    </div>\n",
              "  </div>\n",
              "  "
            ]
          },
          "metadata": {},
          "execution_count": 88
        }
      ]
    },
    {
      "cell_type": "code",
      "source": [
        "'''\n",
        "dance_array.append(features['danceability'])\n",
        "energy_array.append(features['energy'])\n",
        "key_array.append(features['key'])\n",
        "loudness_array.append(features['loudness'])\n",
        "mode_array.append(features['mode'])\n",
        "speech_array.append(features['speechiness'])\n",
        "acoustic_array.append(features['acousticness'])\n",
        "instrument_array.append(features['instrumentalness'])\n",
        "live_array.append(features['liveness'])\n",
        "valence_array.append(features['valence'])\n",
        "tempo_array.append(features['tempo'])\n",
        "link_array.append(song)\n",
        "'''"
      ],
      "metadata": {
        "id": "l4vyGufpj2pD"
      },
      "execution_count": null,
      "outputs": []
    },
    {
      "cell_type": "code",
      "source": [
        "try:\n",
        "  onmyway = spotify.audio_features('https://open.spotify.com/track/0nV76bXUJRqT9QaYTWxW5M?si=4a9b53a51d874612')\n",
        "except TypeError:\n",
        "  onmyway = dict.fromkeys(get_audio_features('https://open.spotify.com/track/0nV76bXUJRqT9QaYTWxW5M?si=4a9b53a51d874612'), 0)\n",
        "  pass"
      ],
      "metadata": {
        "id": "qyefrsM1uBpB"
      },
      "execution_count": 73,
      "outputs": []
    },
    {
      "cell_type": "code",
      "source": [
        "omw = spotify.audio_features('https://open.spotify.com/track/0nV76bXUJRqT9QaYTWxW5M?si=4a9b53a51d874612')"
      ],
      "metadata": {
        "id": "xcJrXzbKxI82"
      },
      "execution_count": 81,
      "outputs": []
    },
    {
      "cell_type": "code",
      "source": [
        "print(omw)"
      ],
      "metadata": {
        "id": "VSk4CuMl0M4c",
        "outputId": "85001ebb-df9c-418c-c76d-1a587e481883",
        "colab": {
          "base_uri": "https://localhost:8080/"
        }
      },
      "execution_count": 82,
      "outputs": [
        {
          "output_type": "stream",
          "name": "stdout",
          "text": [
            "[None]\n"
          ]
        }
      ]
    },
    {
      "cell_type": "markdown",
      "source": [
        "Have a Map to Show Where "
      ],
      "metadata": {
        "id": "N-RTMFC3f8_5"
      }
    },
    {
      "cell_type": "markdown",
      "source": [
        "Going to have the option to either log in and save the playlist or just save it to excel"
      ],
      "metadata": {
        "id": "b7w9UxsN9Kac"
      }
    },
    {
      "cell_type": "code",
      "source": [],
      "metadata": {
        "id": "VS6MzEzB9R4w"
      },
      "execution_count": null,
      "outputs": []
    },
    {
      "cell_type": "markdown",
      "source": [
        "The flow should probably be as follows:\n",
        "\n",
        "Part 1: Building the database\n",
        "1. Extract songs from playlists\n",
        "2. Perform extraction of all audio features\n",
        "3. Need a way to append song name and audio feature info to the dataframe, OR perform a function call after the recommended songs are provided to get the song names and artist info\n",
        "\n",
        "Part 2: Build the recommendations from cosine similarity\n",
        "\n",
        "Part 3: Integration with Flask or Django"
      ],
      "metadata": {
        "id": "hUfFop-imz55"
      }
    },
    {
      "cell_type": "code",
      "source": [
        "songlist = extract_songs('https://open.spotify.com/playlist/7IKIjt9wZPPQWgvHo1SeFO?si=ee0a9c52dced4214')"
      ],
      "metadata": {
        "id": "wrxcBSYRmzkw"
      },
      "execution_count": 30,
      "outputs": []
    },
    {
      "cell_type": "code",
      "source": [
        "for song in songlist:\n",
        "  print(get_audio_features(song))"
      ],
      "metadata": {
        "id": "5Hcm38dDhM42",
        "outputId": "fe991af5-eb61-4194-f4d1-0fb4e6e4433b",
        "colab": {
          "base_uri": "https://localhost:8080/"
        }
      },
      "execution_count": 32,
      "outputs": [
        {
          "output_type": "stream",
          "name": "stdout",
          "text": [
            "{'danceability': 0.655, 'energy': 0.745, 'key': 11, 'loudness': -6.068, 'mode': 0, 'speechiness': 0.253, 'acousticness': 0.367, 'instrumentalness': 0, 'liveness': 0.0959, 'valence': 0.593, 'tempo': 89.874, 'type': 'audio_features', 'id': '7uXz2dQpT2FIRdJwrjJlmr', 'uri': 'spotify:track:7uXz2dQpT2FIRdJwrjJlmr', 'track_href': 'https://api.spotify.com/v1/tracks/7uXz2dQpT2FIRdJwrjJlmr', 'analysis_url': 'https://api.spotify.com/v1/audio-analysis/7uXz2dQpT2FIRdJwrjJlmr', 'duration_ms': 198354, 'time_signature': 4}\n",
            "{'danceability': 0.687, 'energy': 0.669, 'key': 5, 'loudness': -3.282, 'mode': 0, 'speechiness': 0.0356, 'acousticness': 0.298, 'instrumentalness': 0, 'liveness': 0.12, 'valence': 0.802, 'tempo': 156.924, 'type': 'audio_features', 'id': '357Cpbxe8X6CK61lkXLna2', 'uri': 'spotify:track:357Cpbxe8X6CK61lkXLna2', 'track_href': 'https://api.spotify.com/v1/tracks/357Cpbxe8X6CK61lkXLna2', 'analysis_url': 'https://api.spotify.com/v1/audio-analysis/357Cpbxe8X6CK61lkXLna2', 'duration_ms': 172739, 'time_signature': 4}\n",
            "{'danceability': 0.74, 'energy': 0.637, 'key': 6, 'loudness': -7.517, 'mode': 0, 'speechiness': 0.111, 'acousticness': 0.42, 'instrumentalness': 9.63e-05, 'liveness': 0.107, 'valence': 0.734, 'tempo': 129.906, 'type': 'audio_features', 'id': '0EjypH9hvvfx1a3llEuMFt', 'uri': 'spotify:track:0EjypH9hvvfx1a3llEuMFt', 'track_href': 'https://api.spotify.com/v1/tracks/0EjypH9hvvfx1a3llEuMFt', 'analysis_url': 'https://api.spotify.com/v1/audio-analysis/0EjypH9hvvfx1a3llEuMFt', 'duration_ms': 164423, 'time_signature': 4}\n",
            "{'danceability': 0.746, 'energy': 0.736, 'key': 10, 'loudness': -5.975, 'mode': 0, 'speechiness': 0.0826, 'acousticness': 0.169, 'instrumentalness': 0.000104, 'liveness': 0.403, 'valence': 0.321, 'tempo': 93.951, 'type': 'audio_features', 'id': '3BYDzLAuei0ZVebIr1zCUF', 'uri': 'spotify:track:3BYDzLAuei0ZVebIr1zCUF', 'track_href': 'https://api.spotify.com/v1/tracks/3BYDzLAuei0ZVebIr1zCUF', 'analysis_url': 'https://api.spotify.com/v1/audio-analysis/3BYDzLAuei0ZVebIr1zCUF', 'duration_ms': 180000, 'time_signature': 4}\n",
            "{'danceability': 0.849, 'energy': 0.723, 'key': 9, 'loudness': -5.142, 'mode': 0, 'speechiness': 0.2, 'acousticness': 0.0198, 'instrumentalness': 0.00384, 'liveness': 0.269, 'valence': 0.59, 'tempo': 108.084, 'type': 'audio_features', 'id': '0938VE4FbtsjbGA6qzgfo9', 'uri': 'spotify:track:0938VE4FbtsjbGA6qzgfo9', 'track_href': 'https://api.spotify.com/v1/tracks/0938VE4FbtsjbGA6qzgfo9', 'analysis_url': 'https://api.spotify.com/v1/audio-analysis/0938VE4FbtsjbGA6qzgfo9', 'duration_ms': 166858, 'time_signature': 4}\n",
            "{'danceability': 0.617, 'energy': 0.265, 'key': 5, 'loudness': -15.368, 'mode': 1, 'speechiness': 0.0442, 'acousticness': 0.762, 'instrumentalness': 0.285, 'liveness': 0.262, 'valence': 0.467, 'tempo': 75.159, 'type': 'audio_features', 'id': '0RSzx1yGKVNV8zsDtXdAsL', 'uri': 'spotify:track:0RSzx1yGKVNV8zsDtXdAsL', 'track_href': 'https://api.spotify.com/v1/tracks/0RSzx1yGKVNV8zsDtXdAsL', 'analysis_url': 'https://api.spotify.com/v1/audio-analysis/0RSzx1yGKVNV8zsDtXdAsL', 'duration_ms': 138600, 'time_signature': 4}\n",
            "{'danceability': 0.785, 'energy': 0.44, 'key': 10, 'loudness': -6.566, 'mode': 1, 'speechiness': 0.0401, 'acousticness': 0.0263, 'instrumentalness': 2.03e-06, 'liveness': 0.122, 'valence': 0.22, 'tempo': 118.089, 'type': 'audio_features', 'id': '3JX0dOCIAiaR8MP3ryXWuM', 'uri': 'spotify:track:3JX0dOCIAiaR8MP3ryXWuM', 'track_href': 'https://api.spotify.com/v1/tracks/3JX0dOCIAiaR8MP3ryXWuM', 'analysis_url': 'https://api.spotify.com/v1/audio-analysis/3JX0dOCIAiaR8MP3ryXWuM', 'duration_ms': 216961, 'time_signature': 4}\n",
            "{'danceability': 0.721, 'energy': 0.622, 'key': 6, 'loudness': -7.603, 'mode': 1, 'speechiness': 0.0691, 'acousticness': 0.122, 'instrumentalness': 0, 'liveness': 0.346, 'valence': 0.916, 'tempo': 139.928, 'type': 'audio_features', 'id': '3LWy09DXaEF6eJhwkcCyy9', 'uri': 'spotify:track:3LWy09DXaEF6eJhwkcCyy9', 'track_href': 'https://api.spotify.com/v1/tracks/3LWy09DXaEF6eJhwkcCyy9', 'analysis_url': 'https://api.spotify.com/v1/audio-analysis/3LWy09DXaEF6eJhwkcCyy9', 'duration_ms': 116000, 'time_signature': 4}\n",
            "{'danceability': 0.849, 'energy': 0.433, 'key': 5, 'loudness': -8.434, 'mode': 0, 'speechiness': 0.316, 'acousticness': 0.0407, 'instrumentalness': 0, 'liveness': 0.388, 'valence': 0.395, 'tempo': 142.11, 'type': 'audio_features', 'id': '0wshkEEcJUQU33RSRBb5dv', 'uri': 'spotify:track:0wshkEEcJUQU33RSRBb5dv', 'track_href': 'https://api.spotify.com/v1/tracks/0wshkEEcJUQU33RSRBb5dv', 'analysis_url': 'https://api.spotify.com/v1/audio-analysis/0wshkEEcJUQU33RSRBb5dv', 'duration_ms': 152962, 'time_signature': 4}\n",
            "{'danceability': 0.648, 'energy': 0.724, 'key': 5, 'loudness': -7.59, 'mode': 0, 'speechiness': 0.188, 'acousticness': 0.287, 'instrumentalness': 5.7e-05, 'liveness': 0.129, 'valence': 0.139, 'tempo': 198.045, 'type': 'audio_features', 'id': '4xF44fUXt1qwVdHb7Ugt7J', 'uri': 'spotify:track:4xF44fUXt1qwVdHb7Ugt7J', 'track_href': 'https://api.spotify.com/v1/tracks/4xF44fUXt1qwVdHb7Ugt7J', 'analysis_url': 'https://api.spotify.com/v1/audio-analysis/4xF44fUXt1qwVdHb7Ugt7J', 'duration_ms': 194112, 'time_signature': 4}\n",
            "{'danceability': 0.815, 'energy': 0.606, 'key': 2, 'loudness': -4.496, 'mode': 0, 'speechiness': 0.0586, 'acousticness': 0.543, 'instrumentalness': 2.03e-05, 'liveness': 0.114, 'valence': 0.484, 'tempo': 114.009, 'type': 'audio_features', 'id': '2lVYLiHGIX6GajMqYXF1Un', 'uri': 'spotify:track:2lVYLiHGIX6GajMqYXF1Un', 'track_href': 'https://api.spotify.com/v1/tracks/2lVYLiHGIX6GajMqYXF1Un', 'analysis_url': 'https://api.spotify.com/v1/audio-analysis/2lVYLiHGIX6GajMqYXF1Un', 'duration_ms': 223160, 'time_signature': 4}\n",
            "{'danceability': 0.798, 'energy': 0.664, 'key': 10, 'loudness': -9.446, 'mode': 0, 'speechiness': 0.192, 'acousticness': 0.364, 'instrumentalness': 0.0261, 'liveness': 0.102, 'valence': 0.33, 'tempo': 109.998, 'type': 'audio_features', 'id': '4x8Rh7ta6tw7hO0H0SjNzE', 'uri': 'spotify:track:4x8Rh7ta6tw7hO0H0SjNzE', 'track_href': 'https://api.spotify.com/v1/tracks/4x8Rh7ta6tw7hO0H0SjNzE', 'analysis_url': 'https://api.spotify.com/v1/audio-analysis/4x8Rh7ta6tw7hO0H0SjNzE', 'duration_ms': 235667, 'time_signature': 4}\n",
            "{'danceability': 0.74, 'energy': 0.546, 'key': 5, 'loudness': -5.675, 'mode': 0, 'speechiness': 0.0362, 'acousticness': 0.00833, 'instrumentalness': 0, 'liveness': 0.123, 'valence': 0.346, 'tempo': 129.973, 'type': 'audio_features', 'id': '2d9MYGHDxjUB8P7qAI6bhe', 'uri': 'spotify:track:2d9MYGHDxjUB8P7qAI6bhe', 'track_href': 'https://api.spotify.com/v1/tracks/2d9MYGHDxjUB8P7qAI6bhe', 'analysis_url': 'https://api.spotify.com/v1/audio-analysis/2d9MYGHDxjUB8P7qAI6bhe', 'duration_ms': 205147, 'time_signature': 4}\n",
            "{'danceability': 0.779, 'energy': 0.582, 'key': 0, 'loudness': -7.761, 'mode': 0, 'speechiness': 0.208, 'acousticness': 0.0379, 'instrumentalness': 8.19e-05, 'liveness': 0.19, 'valence': 0.178, 'tempo': 95.088, 'type': 'audio_features', 'id': '2CPKo4glbtzTZHZ9kheUaa', 'uri': 'spotify:track:2CPKo4glbtzTZHZ9kheUaa', 'track_href': 'https://api.spotify.com/v1/tracks/2CPKo4glbtzTZHZ9kheUaa', 'analysis_url': 'https://api.spotify.com/v1/audio-analysis/2CPKo4glbtzTZHZ9kheUaa', 'duration_ms': 156682, 'time_signature': 4}\n",
            "{'danceability': 0.502, 'energy': 0.588, 'key': 10, 'loudness': -8.195, 'mode': 0, 'speechiness': 0.388, 'acousticness': 0.722, 'instrumentalness': 8.01e-06, 'liveness': 0.0983, 'valence': 0.89, 'tempo': 184.172, 'type': 'audio_features', 'id': '5f0PQpPfZkW3Kz2g24lHbC', 'uri': 'spotify:track:5f0PQpPfZkW3Kz2g24lHbC', 'track_href': 'https://api.spotify.com/v1/tracks/5f0PQpPfZkW3Kz2g24lHbC', 'analysis_url': 'https://api.spotify.com/v1/audio-analysis/5f0PQpPfZkW3Kz2g24lHbC', 'duration_ms': 166957, 'time_signature': 4}\n",
            "{'danceability': 0.747, 'energy': 0.665, 'key': 5, 'loudness': -7.073, 'mode': 0, 'speechiness': 0.0363, 'acousticness': 0.0289, 'instrumentalness': 0.000153, 'liveness': 0.102, 'valence': 0.554, 'tempo': 104.959, 'type': 'audio_features', 'id': '3IQT2MM49GkXfHF9eemaw5', 'uri': 'spotify:track:3IQT2MM49GkXfHF9eemaw5', 'track_href': 'https://api.spotify.com/v1/tracks/3IQT2MM49GkXfHF9eemaw5', 'analysis_url': 'https://api.spotify.com/v1/audio-analysis/3IQT2MM49GkXfHF9eemaw5', 'duration_ms': 148000, 'time_signature': 4}\n",
            "{'danceability': 0.703, 'energy': 0.694, 'key': 4, 'loudness': -6.858, 'mode': 0, 'speechiness': 0.0547, 'acousticness': 0.146, 'instrumentalness': 0.0368, 'liveness': 0.0896, 'valence': 0.807, 'tempo': 129.941, 'type': 'audio_features', 'id': '3yHg0ZFV7FTRvREfCzRPbv', 'uri': 'spotify:track:3yHg0ZFV7FTRvREfCzRPbv', 'track_href': 'https://api.spotify.com/v1/tracks/3yHg0ZFV7FTRvREfCzRPbv', 'analysis_url': 'https://api.spotify.com/v1/audio-analysis/3yHg0ZFV7FTRvREfCzRPbv', 'duration_ms': 119512, 'time_signature': 4}\n",
            "{'danceability': 0.447, 'energy': 0.826, 'key': 0, 'loudness': -4.987, 'mode': 0, 'speechiness': 0.389, 'acousticness': 0.0625, 'instrumentalness': 0, 'liveness': 0.215, 'valence': 0.58, 'tempo': 74.323, 'type': 'audio_features', 'id': '2iVENndojUZAqtTt1XNN1D', 'uri': 'spotify:track:2iVENndojUZAqtTt1XNN1D', 'track_href': 'https://api.spotify.com/v1/tracks/2iVENndojUZAqtTt1XNN1D', 'analysis_url': 'https://api.spotify.com/v1/audio-analysis/2iVENndojUZAqtTt1XNN1D', 'duration_ms': 219871, 'time_signature': 4}\n",
            "{'danceability': 0.631, 'energy': 0.643, 'key': 9, 'loudness': -5.466, 'mode': 1, 'speechiness': 0.112, 'acousticness': 0.0742, 'instrumentalness': 0.0355, 'liveness': 0.115, 'valence': 0.162, 'tempo': 143.018, 'type': 'audio_features', 'id': '0ExV4N2BxqbeCa17VNYC4I', 'uri': 'spotify:track:0ExV4N2BxqbeCa17VNYC4I', 'track_href': 'https://api.spotify.com/v1/tracks/0ExV4N2BxqbeCa17VNYC4I', 'analysis_url': 'https://api.spotify.com/v1/audio-analysis/0ExV4N2BxqbeCa17VNYC4I', 'duration_ms': 174545, 'time_signature': 4}\n",
            "{'danceability': 0.828, 'energy': 0.639, 'key': 5, 'loudness': -6.251, 'mode': 0, 'speechiness': 0.0351, 'acousticness': 0.167, 'instrumentalness': 0.165, 'liveness': 0.133, 'valence': 0.496, 'tempo': 123.021, 'type': 'audio_features', 'id': '2JOTbHmj0jwBM9bHgcVEOq', 'uri': 'spotify:track:2JOTbHmj0jwBM9bHgcVEOq', 'track_href': 'https://api.spotify.com/v1/tracks/2JOTbHmj0jwBM9bHgcVEOq', 'analysis_url': 'https://api.spotify.com/v1/audio-analysis/2JOTbHmj0jwBM9bHgcVEOq', 'duration_ms': 135688, 'time_signature': 4}\n",
            "{'danceability': 0.515, 'energy': 0.679, 'key': 1, 'loudness': -6.169, 'mode': 0, 'speechiness': 0.186, 'acousticness': 0.248, 'instrumentalness': 3.02e-05, 'liveness': 0.101, 'valence': 0.416, 'tempo': 147.994, 'type': 'audio_features', 'id': '0SK6p0iQBwpWNwKVI4iLwq', 'uri': 'spotify:track:0SK6p0iQBwpWNwKVI4iLwq', 'track_href': 'https://api.spotify.com/v1/tracks/0SK6p0iQBwpWNwKVI4iLwq', 'analysis_url': 'https://api.spotify.com/v1/audio-analysis/0SK6p0iQBwpWNwKVI4iLwq', 'duration_ms': 207670, 'time_signature': 4}\n",
            "{'danceability': 0.496, 'energy': 0.632, 'key': 11, 'loudness': -4.685, 'mode': 0, 'speechiness': 0.214, 'acousticness': 0.183, 'instrumentalness': 1.44e-06, 'liveness': 0.172, 'valence': 0.6, 'tempo': 94.89, 'type': 'audio_features', 'id': '2D0WT8sIrsLaE2hvqYD72N', 'uri': 'spotify:track:2D0WT8sIrsLaE2hvqYD72N', 'track_href': 'https://api.spotify.com/v1/tracks/2D0WT8sIrsLaE2hvqYD72N', 'analysis_url': 'https://api.spotify.com/v1/audio-analysis/2D0WT8sIrsLaE2hvqYD72N', 'duration_ms': 156865, 'time_signature': 4}\n",
            "{'danceability': 0.619, 'energy': 0.443, 'key': 7, 'loudness': -4.006, 'mode': 1, 'speechiness': 0.0294, 'acousticness': 0.542, 'instrumentalness': 0, 'liveness': 0.253, 'valence': 0.249, 'tempo': 116.737, 'type': 'audio_features', 'id': '7k9ZpXwNUtVP6RlYbYw8Bd', 'uri': 'spotify:track:7k9ZpXwNUtVP6RlYbYw8Bd', 'track_href': 'https://api.spotify.com/v1/tracks/7k9ZpXwNUtVP6RlYbYw8Bd', 'analysis_url': 'https://api.spotify.com/v1/audio-analysis/7k9ZpXwNUtVP6RlYbYw8Bd', 'duration_ms': 190561, 'time_signature': 5}\n",
            "{'danceability': 0.657, 'energy': 0.65, 'key': 9, 'loudness': -7.472, 'mode': 0, 'speechiness': 0.195, 'acousticness': 0.057, 'instrumentalness': 0, 'liveness': 0.0853, 'valence': 0.454, 'tempo': 137.766, 'type': 'audio_features', 'id': '2UqMwz0vqVDdkLHZrzSLOp', 'uri': 'spotify:track:2UqMwz0vqVDdkLHZrzSLOp', 'track_href': 'https://api.spotify.com/v1/tracks/2UqMwz0vqVDdkLHZrzSLOp', 'analysis_url': 'https://api.spotify.com/v1/audio-analysis/2UqMwz0vqVDdkLHZrzSLOp', 'duration_ms': 195266, 'time_signature': 4}\n",
            "{'danceability': 0.786, 'energy': 0.808, 'key': 7, 'loudness': -3.702, 'mode': 1, 'speechiness': 0.0882, 'acousticness': 0.0846, 'instrumentalness': 0.000289, 'liveness': 0.0822, 'valence': 0.609, 'tempo': 105.027, 'type': 'audio_features', 'id': '2ksOAxtIxY8yElEWw8RhgK', 'uri': 'spotify:track:2ksOAxtIxY8yElEWw8RhgK', 'track_href': 'https://api.spotify.com/v1/tracks/2ksOAxtIxY8yElEWw8RhgK', 'analysis_url': 'https://api.spotify.com/v1/audio-analysis/2ksOAxtIxY8yElEWw8RhgK', 'duration_ms': 301714, 'time_signature': 4}\n",
            "{'danceability': 0.602, 'energy': 0.387, 'key': 8, 'loudness': -6.29, 'mode': 0, 'speechiness': 0.0536, 'acousticness': 0.36, 'instrumentalness': 0, 'liveness': 0.12, 'valence': 0.77, 'tempo': 114.058, 'type': 'audio_features', 'id': '44VnSIaXlh4NAncVN1QOJ2', 'uri': 'spotify:track:44VnSIaXlh4NAncVN1QOJ2', 'track_href': 'https://api.spotify.com/v1/tracks/44VnSIaXlh4NAncVN1QOJ2', 'analysis_url': 'https://api.spotify.com/v1/audio-analysis/44VnSIaXlh4NAncVN1QOJ2', 'duration_ms': 166400, 'time_signature': 4}\n",
            "{'danceability': 0.737, 'energy': 0.5, 'key': 3, 'loudness': -9.986, 'mode': 0, 'speechiness': 0.433, 'acousticness': 0.421, 'instrumentalness': 0, 'liveness': 0.109, 'valence': 0.433, 'tempo': 74.904, 'type': 'audio_features', 'id': '5QcrR7FxayMkbVz1qTi5Mc', 'uri': 'spotify:track:5QcrR7FxayMkbVz1qTi5Mc', 'track_href': 'https://api.spotify.com/v1/tracks/5QcrR7FxayMkbVz1qTi5Mc', 'analysis_url': 'https://api.spotify.com/v1/audio-analysis/5QcrR7FxayMkbVz1qTi5Mc', 'duration_ms': 220276, 'time_signature': 4}\n",
            "{'danceability': 0.703, 'energy': 0.469, 'key': 1, 'loudness': -12.51, 'mode': 1, 'speechiness': 0.0724, 'acousticness': 0.0803, 'instrumentalness': 1.68e-06, 'liveness': 0.137, 'valence': 0.762, 'tempo': 77.012, 'type': 'audio_features', 'id': '3KhW0VGRXLHruQQriH6gXJ', 'uri': 'spotify:track:3KhW0VGRXLHruQQriH6gXJ', 'track_href': 'https://api.spotify.com/v1/tracks/3KhW0VGRXLHruQQriH6gXJ', 'analysis_url': 'https://api.spotify.com/v1/audio-analysis/3KhW0VGRXLHruQQriH6gXJ', 'duration_ms': 162080, 'time_signature': 4}\n",
            "{'danceability': 0.65, 'energy': 0.462, 'key': 11, 'loudness': -6.587, 'mode': 0, 'speechiness': 0.089, 'acousticness': 0.366, 'instrumentalness': 0, 'liveness': 0.159, 'valence': 0.649, 'tempo': 89.887, 'type': 'audio_features', 'id': '458EaCXcB9TRBoJEDVcdcr', 'uri': 'spotify:track:458EaCXcB9TRBoJEDVcdcr', 'track_href': 'https://api.spotify.com/v1/tracks/458EaCXcB9TRBoJEDVcdcr', 'analysis_url': 'https://api.spotify.com/v1/audio-analysis/458EaCXcB9TRBoJEDVcdcr', 'duration_ms': 165333, 'time_signature': 4}\n",
            "{'danceability': 0.627, 'energy': 0.903, 'key': 6, 'loudness': -5.108, 'mode': 0, 'speechiness': 0.249, 'acousticness': 0.0677, 'instrumentalness': 3.46e-06, 'liveness': 0.0827, 'valence': 0.602, 'tempo': 122.041, 'type': 'audio_features', 'id': '7avwEzmZCgTGVCMUOdpOrI', 'uri': 'spotify:track:7avwEzmZCgTGVCMUOdpOrI', 'track_href': 'https://api.spotify.com/v1/tracks/7avwEzmZCgTGVCMUOdpOrI', 'analysis_url': 'https://api.spotify.com/v1/audio-analysis/7avwEzmZCgTGVCMUOdpOrI', 'duration_ms': 180984, 'time_signature': 4}\n",
            "{'danceability': 0.805, 'energy': 0.868, 'key': 4, 'loudness': -3.857, 'mode': 0, 'speechiness': 0.244, 'acousticness': 0.0579, 'instrumentalness': 0, 'liveness': 0.341, 'valence': 0.635, 'tempo': 149.936, 'type': 'audio_features', 'id': '1Gkuz8ggxpZmfm7HSAc2qI', 'uri': 'spotify:track:1Gkuz8ggxpZmfm7HSAc2qI', 'track_href': 'https://api.spotify.com/v1/tracks/1Gkuz8ggxpZmfm7HSAc2qI', 'analysis_url': 'https://api.spotify.com/v1/audio-analysis/1Gkuz8ggxpZmfm7HSAc2qI', 'duration_ms': 145050, 'time_signature': 4}\n",
            "{'danceability': 0.747, 'energy': 0.531, 'key': 8, 'loudness': -5.99, 'mode': 1, 'speechiness': 0.0477, 'acousticness': 0.266, 'instrumentalness': 1.8e-06, 'liveness': 0.192, 'valence': 0.785, 'tempo': 88.009, 'type': 'audio_features', 'id': '0YMe6PHRbeDcN7KJdCG0bW', 'uri': 'spotify:track:0YMe6PHRbeDcN7KJdCG0bW', 'track_href': 'https://api.spotify.com/v1/tracks/0YMe6PHRbeDcN7KJdCG0bW', 'analysis_url': 'https://api.spotify.com/v1/audio-analysis/0YMe6PHRbeDcN7KJdCG0bW', 'duration_ms': 184768, 'time_signature': 4}\n",
            "{'danceability': 0.789, 'energy': 0.565, 'key': 1, 'loudness': -7.533, 'mode': 0, 'speechiness': 0.111, 'acousticness': 0.167, 'instrumentalness': 0, 'liveness': 0.107, 'valence': 0.0394, 'tempo': 136.142, 'type': 'audio_features', 'id': '2dwGN1gEiuivawys47nZ4d', 'uri': 'spotify:track:2dwGN1gEiuivawys47nZ4d', 'track_href': 'https://api.spotify.com/v1/tracks/2dwGN1gEiuivawys47nZ4d', 'analysis_url': 'https://api.spotify.com/v1/audio-analysis/2dwGN1gEiuivawys47nZ4d', 'duration_ms': 136024, 'time_signature': 4}\n",
            "{'danceability': 0.501, 'energy': 0.403, 'key': 6, 'loudness': -11.106, 'mode': 0, 'speechiness': 0.119, 'acousticness': 0.234, 'instrumentalness': 0, 'liveness': 0.267, 'valence': 0.111, 'tempo': 118.352, 'type': 'audio_features', 'id': '0sSRLXxknVTQDStgU1NqpY', 'uri': 'spotify:track:0sSRLXxknVTQDStgU1NqpY', 'track_href': 'https://api.spotify.com/v1/tracks/0sSRLXxknVTQDStgU1NqpY', 'analysis_url': 'https://api.spotify.com/v1/audio-analysis/0sSRLXxknVTQDStgU1NqpY', 'duration_ms': 399154, 'time_signature': 4}\n",
            "{'danceability': 0.727, 'energy': 0.645, 'key': 1, 'loudness': -6.853, 'mode': 1, 'speechiness': 0.0658, 'acousticness': 0.0969, 'instrumentalness': 0, 'liveness': 0.114, 'valence': 0.343, 'tempo': 124.014, 'type': 'audio_features', 'id': '1sZVdBEb8byGMbotpY30fm', 'uri': 'spotify:track:1sZVdBEb8byGMbotpY30fm', 'track_href': 'https://api.spotify.com/v1/tracks/1sZVdBEb8byGMbotpY30fm', 'analysis_url': 'https://api.spotify.com/v1/audio-analysis/1sZVdBEb8byGMbotpY30fm', 'duration_ms': 205770, 'time_signature': 4}\n",
            "{'danceability': 0.755, 'energy': 0.928, 'key': 5, 'loudness': -4.406, 'mode': 0, 'speechiness': 0.0327, 'acousticness': 0.145, 'instrumentalness': 0.00247, 'liveness': 0.0836, 'valence': 0.711, 'tempo': 113.005, 'type': 'audio_features', 'id': '4zM0WZs5xnIoJbYqlSjPQB', 'uri': 'spotify:track:4zM0WZs5xnIoJbYqlSjPQB', 'track_href': 'https://api.spotify.com/v1/tracks/4zM0WZs5xnIoJbYqlSjPQB', 'analysis_url': 'https://api.spotify.com/v1/audio-analysis/4zM0WZs5xnIoJbYqlSjPQB', 'duration_ms': 199646, 'time_signature': 4}\n",
            "None\n",
            "{'danceability': 0.698, 'energy': 0.711, 'key': 6, 'loudness': -7.828, 'mode': 0, 'speechiness': 0.0367, 'acousticness': 0.0747, 'instrumentalness': 0.00389, 'liveness': 0.155, 'valence': 0.136, 'tempo': 119.99, 'type': 'audio_features', 'id': '0jz3gUtyvKDcNKDZRjy0eS', 'uri': 'spotify:track:0jz3gUtyvKDcNKDZRjy0eS', 'track_href': 'https://api.spotify.com/v1/tracks/0jz3gUtyvKDcNKDZRjy0eS', 'analysis_url': 'https://api.spotify.com/v1/audio-analysis/0jz3gUtyvKDcNKDZRjy0eS', 'duration_ms': 210000, 'time_signature': 4}\n",
            "{'danceability': 0.842, 'energy': 0.728, 'key': 10, 'loudness': -6.289, 'mode': 0, 'speechiness': 0.148, 'acousticness': 0.485, 'instrumentalness': 1.7e-06, 'liveness': 0.101, 'valence': 0.707, 'tempo': 105.993, 'type': 'audio_features', 'id': '1GYffAby5VxcjjIp7j0ea7', 'uri': 'spotify:track:1GYffAby5VxcjjIp7j0ea7', 'track_href': 'https://api.spotify.com/v1/tracks/1GYffAby5VxcjjIp7j0ea7', 'analysis_url': 'https://api.spotify.com/v1/audio-analysis/1GYffAby5VxcjjIp7j0ea7', 'duration_ms': 176604, 'time_signature': 4}\n",
            "{'danceability': 0.642, 'energy': 0.637, 'key': 3, 'loudness': -5.628, 'mode': 0, 'speechiness': 0.0411, 'acousticness': 0.0915, 'instrumentalness': 3.89e-05, 'liveness': 0.28, 'valence': 0.321, 'tempo': 89.466, 'type': 'audio_features', 'id': '6RDIrs0VD7gCUvcWZLAcJv', 'uri': 'spotify:track:6RDIrs0VD7gCUvcWZLAcJv', 'track_href': 'https://api.spotify.com/v1/tracks/6RDIrs0VD7gCUvcWZLAcJv', 'analysis_url': 'https://api.spotify.com/v1/audio-analysis/6RDIrs0VD7gCUvcWZLAcJv', 'duration_ms': 145234, 'time_signature': 4}\n",
            "{'danceability': 0.571, 'energy': 0.549, 'key': 1, 'loudness': -7.38, 'mode': 0, 'speechiness': 0.404, 'acousticness': 0.18, 'instrumentalness': 0, 'liveness': 0.168, 'valence': 0.447, 'tempo': 119.497, 'type': 'audio_features', 'id': '5wG3HvLhF6Y5KTGlK0IW3J', 'uri': 'spotify:track:5wG3HvLhF6Y5KTGlK0IW3J', 'track_href': 'https://api.spotify.com/v1/tracks/5wG3HvLhF6Y5KTGlK0IW3J', 'analysis_url': 'https://api.spotify.com/v1/audio-analysis/5wG3HvLhF6Y5KTGlK0IW3J', 'duration_ms': 194787, 'time_signature': 4}\n",
            "{'danceability': 0.629, 'energy': 0.488, 'key': 2, 'loudness': -9.741, 'mode': 0, 'speechiness': 0.0894, 'acousticness': 0.0425, 'instrumentalness': 0, 'liveness': 0.144, 'valence': 0.0965, 'tempo': 113.369, 'type': 'audio_features', 'id': '03rfnZ13ROXjmp3bgy1gpT', 'uri': 'spotify:track:03rfnZ13ROXjmp3bgy1gpT', 'track_href': 'https://api.spotify.com/v1/tracks/03rfnZ13ROXjmp3bgy1gpT', 'analysis_url': 'https://api.spotify.com/v1/audio-analysis/03rfnZ13ROXjmp3bgy1gpT', 'duration_ms': 149555, 'time_signature': 5}\n",
            "{'danceability': 0.659, 'energy': 0.665, 'key': 1, 'loudness': -6.443, 'mode': 1, 'speechiness': 0.174, 'acousticness': 0.00164, 'instrumentalness': 0.0223, 'liveness': 0.105, 'valence': 0.496, 'tempo': 108.4, 'type': 'audio_features', 'id': '67SXFdnYvH2UYARxG0RcPr', 'uri': 'spotify:track:67SXFdnYvH2UYARxG0RcPr', 'track_href': 'https://api.spotify.com/v1/tracks/67SXFdnYvH2UYARxG0RcPr', 'analysis_url': 'https://api.spotify.com/v1/audio-analysis/67SXFdnYvH2UYARxG0RcPr', 'duration_ms': 134440, 'time_signature': 4}\n",
            "{'danceability': 0.812, 'energy': 0.573, 'key': 4, 'loudness': -11.266, 'mode': 0, 'speechiness': 0.111, 'acousticness': 0.135, 'instrumentalness': 0.00017, 'liveness': 0.17, 'valence': 0.614, 'tempo': 129.975, 'type': 'audio_features', 'id': '0F1iehF7ahcdtxYyfwHpLX', 'uri': 'spotify:track:0F1iehF7ahcdtxYyfwHpLX', 'track_href': 'https://api.spotify.com/v1/tracks/0F1iehF7ahcdtxYyfwHpLX', 'analysis_url': 'https://api.spotify.com/v1/audio-analysis/0F1iehF7ahcdtxYyfwHpLX', 'duration_ms': 105140, 'time_signature': 4}\n",
            "{'danceability': 0.851, 'energy': 0.538, 'key': 1, 'loudness': -6.053, 'mode': 1, 'speechiness': 0.0739, 'acousticness': 0.446, 'instrumentalness': 0.0343, 'liveness': 0.0866, 'valence': 0.591, 'tempo': 94.967, 'type': 'audio_features', 'id': '5LxoAcxBJ8DPLimm2eJa4O', 'uri': 'spotify:track:5LxoAcxBJ8DPLimm2eJa4O', 'track_href': 'https://api.spotify.com/v1/tracks/5LxoAcxBJ8DPLimm2eJa4O', 'analysis_url': 'https://api.spotify.com/v1/audio-analysis/5LxoAcxBJ8DPLimm2eJa4O', 'duration_ms': 132687, 'time_signature': 4}\n",
            "{'danceability': 0.763, 'energy': 0.677, 'key': 1, 'loudness': -8.364, 'mode': 0, 'speechiness': 0.0709, 'acousticness': 0.0161, 'instrumentalness': 0, 'liveness': 0.358, 'valence': 0.501, 'tempo': 130.028, 'type': 'audio_features', 'id': '0BW2dDMThgAUzWTySIZdDm', 'uri': 'spotify:track:0BW2dDMThgAUzWTySIZdDm', 'track_href': 'https://api.spotify.com/v1/tracks/0BW2dDMThgAUzWTySIZdDm', 'analysis_url': 'https://api.spotify.com/v1/audio-analysis/0BW2dDMThgAUzWTySIZdDm', 'duration_ms': 221000, 'time_signature': 4}\n",
            "{'danceability': 0.674, 'energy': 0.422, 'key': 8, 'loudness': -9.356, 'mode': 1, 'speechiness': 0.0583, 'acousticness': 0.188, 'instrumentalness': 4.83e-06, 'liveness': 0.0777, 'valence': 0.244, 'tempo': 95.079, 'type': 'audio_features', 'id': '18FsPeHdE9xPtQgnsVbiU5', 'uri': 'spotify:track:18FsPeHdE9xPtQgnsVbiU5', 'track_href': 'https://api.spotify.com/v1/tracks/18FsPeHdE9xPtQgnsVbiU5', 'analysis_url': 'https://api.spotify.com/v1/audio-analysis/18FsPeHdE9xPtQgnsVbiU5', 'duration_ms': 206461, 'time_signature': 4}\n",
            "{'danceability': 0.692, 'energy': 0.842, 'key': 6, 'loudness': -4.167, 'mode': 1, 'speechiness': 0.0518, 'acousticness': 0.0089, 'instrumentalness': 9.85e-05, 'liveness': 0.0865, 'valence': 0.681, 'tempo': 124.043, 'type': 'audio_features', 'id': '3554a1PUfDZs7rKJzRhZmp', 'uri': 'spotify:track:3554a1PUfDZs7rKJzRhZmp', 'track_href': 'https://api.spotify.com/v1/tracks/3554a1PUfDZs7rKJzRhZmp', 'analysis_url': 'https://api.spotify.com/v1/audio-analysis/3554a1PUfDZs7rKJzRhZmp', 'duration_ms': 168700, 'time_signature': 4}\n",
            "{'danceability': 0.912, 'energy': 0.455, 'key': 5, 'loudness': -5.273, 'mode': 0, 'speechiness': 0.138, 'acousticness': 0.165, 'instrumentalness': 0.00298, 'liveness': 0.131, 'valence': 0.544, 'tempo': 124.999, 'type': 'audio_features', 'id': '6Qzq6lkHTM36baccsq7kP6', 'uri': 'spotify:track:6Qzq6lkHTM36baccsq7kP6', 'track_href': 'https://api.spotify.com/v1/tracks/6Qzq6lkHTM36baccsq7kP6', 'analysis_url': 'https://api.spotify.com/v1/audio-analysis/6Qzq6lkHTM36baccsq7kP6', 'duration_ms': 122892, 'time_signature': 4}\n",
            "{'danceability': 0.896, 'energy': 0.48, 'key': 1, 'loudness': -9.161, 'mode': 0, 'speechiness': 0.16, 'acousticness': 0.128, 'instrumentalness': 0, 'liveness': 0.106, 'valence': 0.275, 'tempo': 125.974, 'type': 'audio_features', 'id': '2EuAwFfl9YxePYaV0PSpuE', 'uri': 'spotify:track:2EuAwFfl9YxePYaV0PSpuE', 'track_href': 'https://api.spotify.com/v1/tracks/2EuAwFfl9YxePYaV0PSpuE', 'analysis_url': 'https://api.spotify.com/v1/audio-analysis/2EuAwFfl9YxePYaV0PSpuE', 'duration_ms': 154426, 'time_signature': 4}\n",
            "{'danceability': 0.813, 'energy': 0.625, 'key': 7, 'loudness': -3.918, 'mode': 1, 'speechiness': 0.251, 'acousticness': 0.136, 'instrumentalness': 2.96e-06, 'liveness': 0.0689, 'valence': 0.601, 'tempo': 98.092, 'type': 'audio_features', 'id': '7J4dbVmwZs7MoZD8A8EkFb', 'uri': 'spotify:track:7J4dbVmwZs7MoZD8A8EkFb', 'track_href': 'https://api.spotify.com/v1/tracks/7J4dbVmwZs7MoZD8A8EkFb', 'analysis_url': 'https://api.spotify.com/v1/audio-analysis/7J4dbVmwZs7MoZD8A8EkFb', 'duration_ms': 206334, 'time_signature': 4}\n",
            "{'danceability': 0.774, 'energy': 0.493, 'key': 7, 'loudness': -10.288, 'mode': 0, 'speechiness': 0.23, 'acousticness': 0.108, 'instrumentalness': 0, 'liveness': 0.172, 'valence': 0.598, 'tempo': 120.109, 'type': 'audio_features', 'id': '3g17DvYz8Pw2rJCYIUG4kB', 'uri': 'spotify:track:3g17DvYz8Pw2rJCYIUG4kB', 'track_href': 'https://api.spotify.com/v1/tracks/3g17DvYz8Pw2rJCYIUG4kB', 'analysis_url': 'https://api.spotify.com/v1/audio-analysis/3g17DvYz8Pw2rJCYIUG4kB', 'duration_ms': 184240, 'time_signature': 4}\n",
            "{'danceability': 0.745, 'energy': 0.545, 'key': 10, 'loudness': -6.669, 'mode': 0, 'speechiness': 0.0614, 'acousticness': 0.197, 'instrumentalness': 0, 'liveness': 0.172, 'valence': 0.343, 'tempo': 100.997, 'type': 'audio_features', 'id': '4ZXlS0t1ufX3QagNdB1M0h', 'uri': 'spotify:track:4ZXlS0t1ufX3QagNdB1M0h', 'track_href': 'https://api.spotify.com/v1/tracks/4ZXlS0t1ufX3QagNdB1M0h', 'analysis_url': 'https://api.spotify.com/v1/audio-analysis/4ZXlS0t1ufX3QagNdB1M0h', 'duration_ms': 189351, 'time_signature': 4}\n",
            "{'danceability': 0.909, 'energy': 0.689, 'key': 7, 'loudness': -5.968, 'mode': 0, 'speechiness': 0.0867, 'acousticness': 0.228, 'instrumentalness': 0, 'liveness': 0.117, 'valence': 0.551, 'tempo': 120.035, 'type': 'audio_features', 'id': '2TyGK5pkUyPUp4LT7yI7MT', 'uri': 'spotify:track:2TyGK5pkUyPUp4LT7yI7MT', 'track_href': 'https://api.spotify.com/v1/tracks/2TyGK5pkUyPUp4LT7yI7MT', 'analysis_url': 'https://api.spotify.com/v1/audio-analysis/2TyGK5pkUyPUp4LT7yI7MT', 'duration_ms': 134003, 'time_signature': 4}\n",
            "{'danceability': 0.834, 'energy': 0.584, 'key': 11, 'loudness': -5.471, 'mode': 0, 'speechiness': 0.172, 'acousticness': 0.173, 'instrumentalness': 0.391, 'liveness': 0.248, 'valence': 0.285, 'tempo': 121.957, 'type': 'audio_features', 'id': '3WXE54Hl81DpFWNKMLQYGY', 'uri': 'spotify:track:3WXE54Hl81DpFWNKMLQYGY', 'track_href': 'https://api.spotify.com/v1/tracks/3WXE54Hl81DpFWNKMLQYGY', 'analysis_url': 'https://api.spotify.com/v1/audio-analysis/3WXE54Hl81DpFWNKMLQYGY', 'duration_ms': 147230, 'time_signature': 4}\n",
            "{'danceability': 0.825, 'energy': 0.577, 'key': 2, 'loudness': -5.206, 'mode': 0, 'speechiness': 0.0643, 'acousticness': 0.44, 'instrumentalness': 0, 'liveness': 0.153, 'valence': 0.549, 'tempo': 140.021, 'type': 'audio_features', 'id': '5BOJkxCXjmDaBDZxFLJ57e', 'uri': 'spotify:track:5BOJkxCXjmDaBDZxFLJ57e', 'track_href': 'https://api.spotify.com/v1/tracks/5BOJkxCXjmDaBDZxFLJ57e', 'analysis_url': 'https://api.spotify.com/v1/audio-analysis/5BOJkxCXjmDaBDZxFLJ57e', 'duration_ms': 205702, 'time_signature': 4}\n",
            "{'danceability': 0.693, 'energy': 0.508, 'key': 4, 'loudness': -8.727, 'mode': 0, 'speechiness': 0.0863, 'acousticness': 0.591, 'instrumentalness': 6.14e-05, 'liveness': 0.0975, 'valence': 0.553, 'tempo': 104.995, 'type': 'audio_features', 'id': '4dOTiHhybueXICWQke4Jin', 'uri': 'spotify:track:4dOTiHhybueXICWQke4Jin', 'track_href': 'https://api.spotify.com/v1/tracks/4dOTiHhybueXICWQke4Jin', 'analysis_url': 'https://api.spotify.com/v1/audio-analysis/4dOTiHhybueXICWQke4Jin', 'duration_ms': 150171, 'time_signature': 4}\n",
            "{'danceability': 0.839, 'energy': 0.371, 'key': 0, 'loudness': -12.414, 'mode': 1, 'speechiness': 0.319, 'acousticness': 0.195, 'instrumentalness': 4.38e-06, 'liveness': 0.0978, 'valence': 0.558, 'tempo': 143.008, 'type': 'audio_features', 'id': '10mhikgM76aXXXJeSEHpV2', 'uri': 'spotify:track:10mhikgM76aXXXJeSEHpV2', 'track_href': 'https://api.spotify.com/v1/tracks/10mhikgM76aXXXJeSEHpV2', 'analysis_url': 'https://api.spotify.com/v1/audio-analysis/10mhikgM76aXXXJeSEHpV2', 'duration_ms': 167994, 'time_signature': 4}\n",
            "{'danceability': 0.567, 'energy': 0.343, 'key': 11, 'loudness': -13.203, 'mode': 1, 'speechiness': 0.0414, 'acousticness': 0.22, 'instrumentalness': 0.351, 'liveness': 0.148, 'valence': 0.113, 'tempo': 150.062, 'type': 'audio_features', 'id': '1nynzV70VzfWjcCX9u64QV', 'uri': 'spotify:track:1nynzV70VzfWjcCX9u64QV', 'track_href': 'https://api.spotify.com/v1/tracks/1nynzV70VzfWjcCX9u64QV', 'analysis_url': 'https://api.spotify.com/v1/audio-analysis/1nynzV70VzfWjcCX9u64QV', 'duration_ms': 143947, 'time_signature': 4}\n",
            "{'danceability': 0.534, 'energy': 0.821, 'key': 5, 'loudness': -7.463, 'mode': 1, 'speechiness': 0.107, 'acousticness': 0.693, 'instrumentalness': 1.02e-05, 'liveness': 0.078, 'valence': 0.509, 'tempo': 111.032, 'type': 'audio_features', 'id': '1QxTmNDHFmgaxgAolqqgAD', 'uri': 'spotify:track:1QxTmNDHFmgaxgAolqqgAD', 'track_href': 'https://api.spotify.com/v1/tracks/1QxTmNDHFmgaxgAolqqgAD', 'analysis_url': 'https://api.spotify.com/v1/audio-analysis/1QxTmNDHFmgaxgAolqqgAD', 'duration_ms': 142120, 'time_signature': 5}\n",
            "{'danceability': 0.665, 'energy': 0.519, 'key': 6, 'loudness': -6.832, 'mode': 0, 'speechiness': 0.116, 'acousticness': 0.594, 'instrumentalness': 0, 'liveness': 0.18, 'valence': 0.52, 'tempo': 100.197, 'type': 'audio_features', 'id': '2eepBZG1esLEStE225apHn', 'uri': 'spotify:track:2eepBZG1esLEStE225apHn', 'track_href': 'https://api.spotify.com/v1/tracks/2eepBZG1esLEStE225apHn', 'analysis_url': 'https://api.spotify.com/v1/audio-analysis/2eepBZG1esLEStE225apHn', 'duration_ms': 185563, 'time_signature': 4}\n",
            "{'danceability': 0.876, 'energy': 0.584, 'key': 1, 'loudness': -5.646, 'mode': 0, 'speechiness': 0.0677, 'acousticness': 0.174, 'instrumentalness': 1.19e-05, 'liveness': 0.0886, 'valence': 0.554, 'tempo': 106.032, 'type': 'audio_features', 'id': '6dZ79ihcFEKPR5B9AQ7FBN', 'uri': 'spotify:track:6dZ79ihcFEKPR5B9AQ7FBN', 'track_href': 'https://api.spotify.com/v1/tracks/6dZ79ihcFEKPR5B9AQ7FBN', 'analysis_url': 'https://api.spotify.com/v1/audio-analysis/6dZ79ihcFEKPR5B9AQ7FBN', 'duration_ms': 153962, 'time_signature': 4}\n",
            "{'danceability': 0.851, 'energy': 0.819, 'key': 7, 'loudness': -5.173, 'mode': 1, 'speechiness': 0.212, 'acousticness': 0.337, 'instrumentalness': 0.000153, 'liveness': 0.0658, 'valence': 0.903, 'tempo': 83.154, 'type': 'audio_features', 'id': '5unjCay0kUjuej5ebn4nS4', 'uri': 'spotify:track:5unjCay0kUjuej5ebn4nS4', 'track_href': 'https://api.spotify.com/v1/tracks/5unjCay0kUjuej5ebn4nS4', 'analysis_url': 'https://api.spotify.com/v1/audio-analysis/5unjCay0kUjuej5ebn4nS4', 'duration_ms': 164041, 'time_signature': 3}\n",
            "{'danceability': 0.715, 'energy': 0.62, 'key': 1, 'loudness': -6.005, 'mode': 0, 'speechiness': 0.0484, 'acousticness': 0.417, 'instrumentalness': 0, 'liveness': 0.0822, 'valence': 0.172, 'tempo': 97.95, 'type': 'audio_features', 'id': '2dHHgzDwk4BJdRwy9uXhTO', 'uri': 'spotify:track:2dHHgzDwk4BJdRwy9uXhTO', 'track_href': 'https://api.spotify.com/v1/tracks/2dHHgzDwk4BJdRwy9uXhTO', 'analysis_url': 'https://api.spotify.com/v1/audio-analysis/2dHHgzDwk4BJdRwy9uXhTO', 'duration_ms': 221520, 'time_signature': 4}\n",
            "{'danceability': 0.778, 'energy': 0.646, 'key': 7, 'loudness': -5.762, 'mode': 1, 'speechiness': 0.0735, 'acousticness': 0.0195, 'instrumentalness': 2.14e-06, 'liveness': 0.0956, 'valence': 0.61, 'tempo': 81.992, 'type': 'audio_features', 'id': '5VKG8ary0JW6iKemhmznzS', 'uri': 'spotify:track:5VKG8ary0JW6iKemhmznzS', 'track_href': 'https://api.spotify.com/v1/tracks/5VKG8ary0JW6iKemhmznzS', 'analysis_url': 'https://api.spotify.com/v1/audio-analysis/5VKG8ary0JW6iKemhmznzS', 'duration_ms': 106512, 'time_signature': 4}\n",
            "{'danceability': 0.896, 'energy': 0.55, 'key': 9, 'loudness': -6.217, 'mode': 1, 'speechiness': 0.294, 'acousticness': 0.112, 'instrumentalness': 0, 'liveness': 0.0342, 'valence': 0.863, 'tempo': 150.109, 'type': 'audio_features', 'id': '1QwLR9LauBPSIdhSCmwTqY', 'uri': 'spotify:track:1QwLR9LauBPSIdhSCmwTqY', 'track_href': 'https://api.spotify.com/v1/tracks/1QwLR9LauBPSIdhSCmwTqY', 'analysis_url': 'https://api.spotify.com/v1/audio-analysis/1QwLR9LauBPSIdhSCmwTqY', 'duration_ms': 136789, 'time_signature': 4}\n",
            "{'danceability': 0.748, 'energy': 0.607, 'key': 7, 'loudness': -6.067, 'mode': 1, 'speechiness': 0.212, 'acousticness': 0.022, 'instrumentalness': 0, 'liveness': 0.1, 'valence': 0.618, 'tempo': 80.98, 'type': 'audio_features', 'id': '13LrJDJhegSLCZzqd5InmU', 'uri': 'spotify:track:13LrJDJhegSLCZzqd5InmU', 'track_href': 'https://api.spotify.com/v1/tracks/13LrJDJhegSLCZzqd5InmU', 'analysis_url': 'https://api.spotify.com/v1/audio-analysis/13LrJDJhegSLCZzqd5InmU', 'duration_ms': 142227, 'time_signature': 4}\n",
            "{'danceability': 0.671, 'energy': 0.658, 'key': 2, 'loudness': -5.567, 'mode': 1, 'speechiness': 0.309, 'acousticness': 0.189, 'instrumentalness': 8.66e-05, 'liveness': 0.147, 'valence': 0.257, 'tempo': 87.933, 'type': 'audio_features', 'id': '4WuOWVnAqvEQxgSRrspBgt', 'uri': 'spotify:track:4WuOWVnAqvEQxgSRrspBgt', 'track_href': 'https://api.spotify.com/v1/tracks/4WuOWVnAqvEQxgSRrspBgt', 'analysis_url': 'https://api.spotify.com/v1/audio-analysis/4WuOWVnAqvEQxgSRrspBgt', 'duration_ms': 207307, 'time_signature': 4}\n",
            "{'danceability': 0.799, 'energy': 0.45, 'key': 4, 'loudness': -6.378, 'mode': 0, 'speechiness': 0.0489, 'acousticness': 0.304, 'instrumentalness': 0, 'liveness': 0.303, 'valence': 0.252, 'tempo': 100.032, 'type': 'audio_features', 'id': '0M8CHfT7jh4wug7BsvSLr9', 'uri': 'spotify:track:0M8CHfT7jh4wug7BsvSLr9', 'track_href': 'https://api.spotify.com/v1/tracks/0M8CHfT7jh4wug7BsvSLr9', 'analysis_url': 'https://api.spotify.com/v1/audio-analysis/0M8CHfT7jh4wug7BsvSLr9', 'duration_ms': 158173, 'time_signature': 4}\n",
            "{'danceability': 0.654, 'energy': 0.995, 'key': 0, 'loudness': -0.733, 'mode': 0, 'speechiness': 0.196, 'acousticness': 0.178, 'instrumentalness': 0, 'liveness': 0.21, 'valence': 0.717, 'tempo': 124.975, 'type': 'audio_features', 'id': '1qIshP7qHh8qXWtUHECzsI', 'uri': 'spotify:track:1qIshP7qHh8qXWtUHECzsI', 'track_href': 'https://api.spotify.com/v1/tracks/1qIshP7qHh8qXWtUHECzsI', 'analysis_url': 'https://api.spotify.com/v1/audio-analysis/1qIshP7qHh8qXWtUHECzsI', 'duration_ms': 250257, 'time_signature': 4}\n",
            "{'danceability': 0.697, 'energy': 0.635, 'key': 8, 'loudness': -4.747, 'mode': 1, 'speechiness': 0.178, 'acousticness': 0.0363, 'instrumentalness': 4.1e-06, 'liveness': 0.286, 'valence': 0.497, 'tempo': 179.758, 'type': 'audio_features', 'id': '6vruVVMkk7YGKzkuIrtOWz', 'uri': 'spotify:track:6vruVVMkk7YGKzkuIrtOWz', 'track_href': 'https://api.spotify.com/v1/tracks/6vruVVMkk7YGKzkuIrtOWz', 'analysis_url': 'https://api.spotify.com/v1/audio-analysis/6vruVVMkk7YGKzkuIrtOWz', 'duration_ms': 177533, 'time_signature': 4}\n",
            "{'danceability': 0.643, 'energy': 0.868, 'key': 0, 'loudness': -4.03, 'mode': 1, 'speechiness': 0.15, 'acousticness': 0.3, 'instrumentalness': 0, 'liveness': 0.119, 'valence': 0.71, 'tempo': 114.895, 'type': 'audio_features', 'id': '2GISbjz3wIJX7S4iv1XXAy', 'uri': 'spotify:track:2GISbjz3wIJX7S4iv1XXAy', 'track_href': 'https://api.spotify.com/v1/tracks/2GISbjz3wIJX7S4iv1XXAy', 'analysis_url': 'https://api.spotify.com/v1/audio-analysis/2GISbjz3wIJX7S4iv1XXAy', 'duration_ms': 190987, 'time_signature': 4}\n",
            "{'danceability': 0.892, 'energy': 0.653, 'key': 1, 'loudness': -9.408, 'mode': 1, 'speechiness': 0.071, 'acousticness': 0.0928, 'instrumentalness': 0.00075, 'liveness': 0.108, 'valence': 0.539, 'tempo': 135.022, 'type': 'audio_features', 'id': '7G7RgEPfGyeGw6kCFBmW3g', 'uri': 'spotify:track:7G7RgEPfGyeGw6kCFBmW3g', 'track_href': 'https://api.spotify.com/v1/tracks/7G7RgEPfGyeGw6kCFBmW3g', 'analysis_url': 'https://api.spotify.com/v1/audio-analysis/7G7RgEPfGyeGw6kCFBmW3g', 'duration_ms': 157128, 'time_signature': 4}\n",
            "{'danceability': 0.407, 'energy': 0.643, 'key': 1, 'loudness': -9.597, 'mode': 0, 'speechiness': 0.0706, 'acousticness': 0.307, 'instrumentalness': 0.00161, 'liveness': 0.169, 'valence': 0.467, 'tempo': 110.546, 'type': 'audio_features', 'id': '39NpoO6DAtZRJGEvq1Epn3', 'uri': 'spotify:track:39NpoO6DAtZRJGEvq1Epn3', 'track_href': 'https://api.spotify.com/v1/tracks/39NpoO6DAtZRJGEvq1Epn3', 'analysis_url': 'https://api.spotify.com/v1/audio-analysis/39NpoO6DAtZRJGEvq1Epn3', 'duration_ms': 137461, 'time_signature': 3}\n",
            "{'danceability': 0.796, 'energy': 0.733, 'key': 1, 'loudness': -8.396, 'mode': 1, 'speechiness': 0.0664, 'acousticness': 0.26, 'instrumentalness': 0, 'liveness': 0.0727, 'valence': 0.555, 'tempo': 113.064, 'type': 'audio_features', 'id': '6NGyeHVUckUJY1drN6NU4v', 'uri': 'spotify:track:6NGyeHVUckUJY1drN6NU4v', 'track_href': 'https://api.spotify.com/v1/tracks/6NGyeHVUckUJY1drN6NU4v', 'analysis_url': 'https://api.spotify.com/v1/audio-analysis/6NGyeHVUckUJY1drN6NU4v', 'duration_ms': 144425, 'time_signature': 4}\n",
            "{'danceability': 0.791, 'energy': 0.562, 'key': 8, 'loudness': -6.842, 'mode': 0, 'speechiness': 0.0664, 'acousticness': 0.0196, 'instrumentalness': 0.000299, 'liveness': 0.089, 'valence': 0.628, 'tempo': 150.005, 'type': 'audio_features', 'id': '6p05dJIq9w65SUY2tZ1IMY', 'uri': 'spotify:track:6p05dJIq9w65SUY2tZ1IMY', 'track_href': 'https://api.spotify.com/v1/tracks/6p05dJIq9w65SUY2tZ1IMY', 'analysis_url': 'https://api.spotify.com/v1/audio-analysis/6p05dJIq9w65SUY2tZ1IMY', 'duration_ms': 123518, 'time_signature': 4}\n",
            "{'danceability': 0.798, 'energy': 0.58, 'key': 0, 'loudness': -7.104, 'mode': 1, 'speechiness': 0.0742, 'acousticness': 0.165, 'instrumentalness': 0.00238, 'liveness': 0.685, 'valence': 0.367, 'tempo': 145.004, 'type': 'audio_features', 'id': '2gZfjMGvp0mwR8bdiv9SBG', 'uri': 'spotify:track:2gZfjMGvp0mwR8bdiv9SBG', 'track_href': 'https://api.spotify.com/v1/tracks/2gZfjMGvp0mwR8bdiv9SBG', 'analysis_url': 'https://api.spotify.com/v1/audio-analysis/2gZfjMGvp0mwR8bdiv9SBG', 'duration_ms': 194400, 'time_signature': 4}\n",
            "{'danceability': 0.773, 'energy': 0.625, 'key': 8, 'loudness': -4.453, 'mode': 1, 'speechiness': 0.068, 'acousticness': 0.00431, 'instrumentalness': 1.82e-05, 'liveness': 0.0796, 'valence': 0.673, 'tempo': 130.003, 'type': 'audio_features', 'id': '16SmeUUNOaUTVjFFka3av1', 'uri': 'spotify:track:16SmeUUNOaUTVjFFka3av1', 'track_href': 'https://api.spotify.com/v1/tracks/16SmeUUNOaUTVjFFka3av1', 'analysis_url': 'https://api.spotify.com/v1/audio-analysis/16SmeUUNOaUTVjFFka3av1', 'duration_ms': 130359, 'time_signature': 4}\n",
            "{'danceability': 0.418, 'energy': 0.31, 'key': 11, 'loudness': -9.869, 'mode': 0, 'speechiness': 0.0625, 'acousticness': 0.095, 'instrumentalness': 0, 'liveness': 0.216, 'valence': 0.131, 'tempo': 139.614, 'type': 'audio_features', 'id': '22I3h5AOENlH4CqXJsEbFR', 'uri': 'spotify:track:22I3h5AOENlH4CqXJsEbFR', 'track_href': 'https://api.spotify.com/v1/tracks/22I3h5AOENlH4CqXJsEbFR', 'analysis_url': 'https://api.spotify.com/v1/audio-analysis/22I3h5AOENlH4CqXJsEbFR', 'duration_ms': 260170, 'time_signature': 4}\n",
            "{'danceability': 0.741, 'energy': 0.81, 'key': 11, 'loudness': -6.894, 'mode': 1, 'speechiness': 0.0751, 'acousticness': 0.0334, 'instrumentalness': 0.000427, 'liveness': 0.35, 'valence': 0.561, 'tempo': 112.001, 'type': 'audio_features', 'id': '5mEnRGML6tztiuKBigJIQQ', 'uri': 'spotify:track:5mEnRGML6tztiuKBigJIQQ', 'track_href': 'https://api.spotify.com/v1/tracks/5mEnRGML6tztiuKBigJIQQ', 'analysis_url': 'https://api.spotify.com/v1/audio-analysis/5mEnRGML6tztiuKBigJIQQ', 'duration_ms': 182143, 'time_signature': 4}\n",
            "{'danceability': 0.815, 'energy': 0.948, 'key': 11, 'loudness': -3.667, 'mode': 1, 'speechiness': 0.0914, 'acousticness': 0.0794, 'instrumentalness': 7.02e-05, 'liveness': 0.0924, 'valence': 0.925, 'tempo': 106.006, 'type': 'audio_features', 'id': '7w8en1vIDSFoWZUJvc8XdG', 'uri': 'spotify:track:7w8en1vIDSFoWZUJvc8XdG', 'track_href': 'https://api.spotify.com/v1/tracks/7w8en1vIDSFoWZUJvc8XdG', 'analysis_url': 'https://api.spotify.com/v1/audio-analysis/7w8en1vIDSFoWZUJvc8XdG', 'duration_ms': 219846, 'time_signature': 4}\n",
            "{'danceability': 0.697, 'energy': 0.653, 'key': 0, 'loudness': -7.284, 'mode': 1, 'speechiness': 0.102, 'acousticness': 0.166, 'instrumentalness': 0.231, 'liveness': 0.0911, 'valence': 0.627, 'tempo': 99.982, 'type': 'audio_features', 'id': '6teW0qt23aGnWhC0rSvtoz', 'uri': 'spotify:track:6teW0qt23aGnWhC0rSvtoz', 'track_href': 'https://api.spotify.com/v1/tracks/6teW0qt23aGnWhC0rSvtoz', 'analysis_url': 'https://api.spotify.com/v1/audio-analysis/6teW0qt23aGnWhC0rSvtoz', 'duration_ms': 174545, 'time_signature': 4}\n",
            "{'danceability': 0.827, 'energy': 0.705, 'key': 10, 'loudness': -6.756, 'mode': 0, 'speechiness': 0.0429, 'acousticness': 0.0813, 'instrumentalness': 0.00556, 'liveness': 0.102, 'valence': 0.624, 'tempo': 113.006, 'type': 'audio_features', 'id': '1zwZ26A7OA5wTrA3FejCLL', 'uri': 'spotify:track:1zwZ26A7OA5wTrA3FejCLL', 'track_href': 'https://api.spotify.com/v1/tracks/1zwZ26A7OA5wTrA3FejCLL', 'analysis_url': 'https://api.spotify.com/v1/audio-analysis/1zwZ26A7OA5wTrA3FejCLL', 'duration_ms': 213992, 'time_signature': 4}\n",
            "{'danceability': 0.755, 'energy': 0.676, 'key': 5, 'loudness': -7.349, 'mode': 1, 'speechiness': 0.0377, 'acousticness': 0.0418, 'instrumentalness': 0.00176, 'liveness': 0.204, 'valence': 0.461, 'tempo': 123.98, 'type': 'audio_features', 'id': '5OSGdSxtulzlzdPdK2MQJC', 'uri': 'spotify:track:5OSGdSxtulzlzdPdK2MQJC', 'track_href': 'https://api.spotify.com/v1/tracks/5OSGdSxtulzlzdPdK2MQJC', 'analysis_url': 'https://api.spotify.com/v1/audio-analysis/5OSGdSxtulzlzdPdK2MQJC', 'duration_ms': 209136, 'time_signature': 4}\n",
            "{'danceability': 0.53, 'energy': 0.937, 'key': 0, 'loudness': -2.757, 'mode': 1, 'speechiness': 0.321, 'acousticness': 0.0457, 'instrumentalness': 0, 'liveness': 0.151, 'valence': 0.46, 'tempo': 92.916, 'type': 'audio_features', 'id': '6VYBCG9nCZwUUImVqZQVet', 'uri': 'spotify:track:6VYBCG9nCZwUUImVqZQVet', 'track_href': 'https://api.spotify.com/v1/tracks/6VYBCG9nCZwUUImVqZQVet', 'analysis_url': 'https://api.spotify.com/v1/audio-analysis/6VYBCG9nCZwUUImVqZQVet', 'duration_ms': 176851, 'time_signature': 4}\n",
            "{'danceability': 0.849, 'energy': 0.688, 'key': 1, 'loudness': -6.34, 'mode': 1, 'speechiness': 0.197, 'acousticness': 0.0435, 'instrumentalness': 5.82e-05, 'liveness': 0.412, 'valence': 0.829, 'tempo': 99.013, 'type': 'audio_features', 'id': '38ziag7I4rieq2OzpfuCy2', 'uri': 'spotify:track:38ziag7I4rieq2OzpfuCy2', 'track_href': 'https://api.spotify.com/v1/tracks/38ziag7I4rieq2OzpfuCy2', 'analysis_url': 'https://api.spotify.com/v1/audio-analysis/38ziag7I4rieq2OzpfuCy2', 'duration_ms': 215467, 'time_signature': 4}\n",
            "{'danceability': 0.847, 'energy': 0.778, 'key': 6, 'loudness': -5.755, 'mode': 1, 'speechiness': 0.228, 'acousticness': 0.292, 'instrumentalness': 0, 'liveness': 0.328, 'valence': 0.732, 'tempo': 103.982, 'type': 'audio_features', 'id': '1FbBlINbLTXKZjLVCnZhlt', 'uri': 'spotify:track:1FbBlINbLTXKZjLVCnZhlt', 'track_href': 'https://api.spotify.com/v1/tracks/1FbBlINbLTXKZjLVCnZhlt', 'analysis_url': 'https://api.spotify.com/v1/audio-analysis/1FbBlINbLTXKZjLVCnZhlt', 'duration_ms': 196154, 'time_signature': 4}\n",
            "{'danceability': 0.734, 'energy': 0.775, 'key': 2, 'loudness': -3.257, 'mode': 1, 'speechiness': 0.179, 'acousticness': 0.0243, 'instrumentalness': 0, 'liveness': 0.128, 'valence': 0.321, 'tempo': 156.052, 'type': 'audio_features', 'id': '5Sqya98MFN0RHN2oglnTTX', 'uri': 'spotify:track:5Sqya98MFN0RHN2oglnTTX', 'track_href': 'https://api.spotify.com/v1/tracks/5Sqya98MFN0RHN2oglnTTX', 'analysis_url': 'https://api.spotify.com/v1/audio-analysis/5Sqya98MFN0RHN2oglnTTX', 'duration_ms': 172422, 'time_signature': 4}\n"
          ]
        }
      ]
    },
    {
      "cell_type": "code",
      "source": [],
      "metadata": {
        "id": "Etxtusd1hQRQ"
      },
      "execution_count": null,
      "outputs": []
    }
  ]
}