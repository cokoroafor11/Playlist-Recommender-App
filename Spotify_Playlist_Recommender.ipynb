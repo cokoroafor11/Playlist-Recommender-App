{
  "nbformat": 4,
  "nbformat_minor": 0,
  "metadata": {
    "colab": {
      "provenance": [],
      "authorship_tag": "ABX9TyPo/FuETuRvSo0r4P+4Ehn2",
      "include_colab_link": true
    },
    "kernelspec": {
      "name": "python3",
      "display_name": "Python 3"
    },
    "language_info": {
      "name": "python"
    }
  },
  "cells": [
    {
      "cell_type": "markdown",
      "metadata": {
        "id": "view-in-github",
        "colab_type": "text"
      },
      "source": [
        "<a href=\"https://colab.research.google.com/github/cokoroafor11/Playlist-Recommender-App/blob/main/Spotify_Playlist_Recommender.ipynb\" target=\"_parent\"><img src=\"https://colab.research.google.com/assets/colab-badge.svg\" alt=\"Open In Colab\"/></a>"
      ]
    },
    {
      "cell_type": "markdown",
      "source": [
        "## Imports"
      ],
      "metadata": {
        "id": "ts4WJDfeYGzW"
      }
    },
    {
      "cell_type": "code",
      "execution_count": 1,
      "metadata": {
        "colab": {
          "base_uri": "https://localhost:8080/"
        },
        "id": "pQL_Zar2YDJn",
        "outputId": "2aac2ee9-a659-483e-e6e4-d4a3c923faa3"
      },
      "outputs": [
        {
          "output_type": "stream",
          "name": "stdout",
          "text": [
            "Looking in indexes: https://pypi.org/simple, https://us-python.pkg.dev/colab-wheels/public/simple/\n",
            "Collecting spotipy\n",
            "  Downloading spotipy-2.23.0-py3-none-any.whl (29 kB)\n",
            "Collecting redis>=3.5.3 (from spotipy)\n",
            "  Downloading redis-4.5.5-py3-none-any.whl (240 kB)\n",
            "\u001b[2K     \u001b[90m━━━━━━━━━━━━━━━━━━━━━━━━━━━━━━━━━━━━━━━\u001b[0m \u001b[32m240.3/240.3 kB\u001b[0m \u001b[31m7.2 MB/s\u001b[0m eta \u001b[36m0:00:00\u001b[0m\n",
            "\u001b[?25hRequirement already satisfied: requests>=2.25.0 in /usr/local/lib/python3.10/dist-packages (from spotipy) (2.27.1)\n",
            "Requirement already satisfied: six>=1.15.0 in /usr/local/lib/python3.10/dist-packages (from spotipy) (1.16.0)\n",
            "Requirement already satisfied: urllib3>=1.26.0 in /usr/local/lib/python3.10/dist-packages (from spotipy) (1.26.15)\n",
            "Collecting async-timeout>=4.0.2 (from redis>=3.5.3->spotipy)\n",
            "  Downloading async_timeout-4.0.2-py3-none-any.whl (5.8 kB)\n",
            "Requirement already satisfied: certifi>=2017.4.17 in /usr/local/lib/python3.10/dist-packages (from requests>=2.25.0->spotipy) (2022.12.7)\n",
            "Requirement already satisfied: charset-normalizer~=2.0.0 in /usr/local/lib/python3.10/dist-packages (from requests>=2.25.0->spotipy) (2.0.12)\n",
            "Requirement already satisfied: idna<4,>=2.5 in /usr/local/lib/python3.10/dist-packages (from requests>=2.25.0->spotipy) (3.4)\n",
            "Installing collected packages: async-timeout, redis, spotipy\n",
            "Successfully installed async-timeout-4.0.2 redis-4.5.5 spotipy-2.23.0\n"
          ]
        }
      ],
      "source": [
        "!pip install spotipy --upgrade\n",
        "import spotipy\n",
        "import pandas as pd\n",
        "from spotipy.oauth2 import SpotifyClientCredentials\n",
        "import spotipy.util as util"
      ]
    },
    {
      "cell_type": "code",
      "source": [
        "#Things to call:\n",
        "#Excel sheet with spotify playlists\n",
        "playlist_sheet = 'Spotify Playlists 1 per genre.xlsx'"
      ],
      "metadata": {
        "id": "9H9Wv8zEikcL"
      },
      "execution_count": 2,
      "outputs": []
    },
    {
      "cell_type": "markdown",
      "source": [
        "## Create the Spotify object"
      ],
      "metadata": {
        "id": "zicGfSkAcPQg"
      }
    },
    {
      "cell_type": "code",
      "source": [
        "#Save client credentials\n",
        "client_id = \"c1f74565be774e65aa211462aaf5fed8\"\n",
        "client_secret = \"2edce4052f8f46639c0e112658572d66\"\n",
        "#Create object\n",
        "spotify = spotipy.Spotify(auth_manager=SpotifyClientCredentials(client_id= client_id,client_secret=client_secret),requests_timeout=100,retries=3)"
      ],
      "metadata": {
        "id": "QZc_HH69cOIx"
      },
      "execution_count": 3,
      "outputs": []
    },
    {
      "cell_type": "markdown",
      "source": [
        "## Functions I Need"
      ],
      "metadata": {
        "id": "TdCE21cdYP2x"
      }
    },
    {
      "cell_type": "markdown",
      "source": [
        "### Extract songs from playlist"
      ],
      "metadata": {
        "id": "U9XMXEABGIa7"
      }
    },
    {
      "cell_type": "code",
      "source": [
        "def extract_songs(playlist):\n",
        "    '''Function to extract songs from a playlist: Will run this for all the playlists being added'''\n",
        "\n",
        "    #Make sure playlist input is string\n",
        "    if type(playlist) != str: \n",
        "        playlist = str(playlist)\n",
        "\n",
        "    #Get playlist tracks    \n",
        "    playlist_tracks =  spotify.playlist_tracks(playlist)\n",
        "    tracks = []\n",
        "\n",
        "    #Append tracks to list if no type error\n",
        "    for elem in playlist_tracks['items']:\n",
        "        try:\n",
        "            tracks.append(elem['track']['external_urls']['spotify'])\n",
        "        except TypeError:\n",
        "            pass\n",
        "    return tracks\n",
        "  "
      ],
      "metadata": {
        "id": "v702M4zCYRGp"
      },
      "execution_count": 4,
      "outputs": []
    },
    {
      "cell_type": "code",
      "source": [
        "tracks = extract_songs('https://open.spotify.com/playlist/37i9dQZEVXbqgPCgwknZJW?si=ae7b2ccfd8d64357')"
      ],
      "metadata": {
        "id": "orw-Ds8he0Hc"
      },
      "execution_count": 5,
      "outputs": []
    },
    {
      "cell_type": "code",
      "source": [
        "tracks"
      ],
      "metadata": {
        "id": "db8GA7xK_GB2",
        "outputId": "e95fb90a-4a61-4a16-b58f-edc2b79822ee",
        "colab": {
          "base_uri": "https://localhost:8080/"
        }
      },
      "execution_count": 6,
      "outputs": [
        {
          "output_type": "execute_result",
          "data": {
            "text/plain": [
              "['https://open.spotify.com/track/40EXFgNMOIQRQOwJZ8mJkC',\n",
              " 'https://open.spotify.com/track/2630Nsy5LsKK3lbT0pOmI2',\n",
              " 'https://open.spotify.com/track/7lP071DicbJJgF3VU8vCkw',\n",
              " 'https://open.spotify.com/track/7dnixpDdQlIOX1L7O0pdFM',\n",
              " 'https://open.spotify.com/track/2HRa9MR7Sqy3T6WbdpF3Rj',\n",
              " 'https://open.spotify.com/track/4wqBRSqEPrL4UjP00lZB1M',\n",
              " 'https://open.spotify.com/track/7FPEPfrrJlVIHk4pGWtAqy',\n",
              " 'https://open.spotify.com/track/0nTgtjFQzLhvU3VLciMPlN',\n",
              " 'https://open.spotify.com/track/043bwUOxMoxTIPvjkvHAwS',\n",
              " 'https://open.spotify.com/track/0cnh6R6nuYgvCaOev5j8UT',\n",
              " 'https://open.spotify.com/track/16OxpGrrxgyG724pBPIILx',\n",
              " 'https://open.spotify.com/track/1h6w4POXM2LfG4ZD4xUfZQ',\n",
              " 'https://open.spotify.com/track/1mXJlLzoEk3STrioO2ehRE',\n",
              " 'https://open.spotify.com/track/36rwKN7gg5MsyQhtpdxYEi',\n",
              " 'https://open.spotify.com/track/4i8qIot5wFptu30dXnBx9L',\n",
              " 'https://open.spotify.com/track/56Gdp4KNxEE8owRsZvAPuC',\n",
              " 'https://open.spotify.com/track/5edhwujeOj54zlfAPa30C8',\n",
              " 'https://open.spotify.com/track/6sI0fnXWXR2IWujbeEPK3Z',\n",
              " 'https://open.spotify.com/track/7rz6nMNVSnugwhNT5hJe6p',\n",
              " 'https://open.spotify.com/track/0EZX8dyv3PGc3S32UHkS0L',\n",
              " 'https://open.spotify.com/track/2DBUpz6M5ZO9imNQpRYYv3',\n",
              " 'https://open.spotify.com/track/4AKLHw94E5jIZICRdU3zc3',\n",
              " 'https://open.spotify.com/track/6AbwJJnX5omy6pgaIos7PF',\n",
              " 'https://open.spotify.com/track/0nfnCp3NNcUjksmxd5xqEG',\n",
              " 'https://open.spotify.com/track/1A0FKxKsecJA2lgWjEJW51',\n",
              " 'https://open.spotify.com/track/2hR3npB7rQOqRXS4yISzFs',\n",
              " 'https://open.spotify.com/track/2yWlf1472qe5QLXcWVUjo0',\n",
              " 'https://open.spotify.com/track/5q1TIv5tguOmZc5x5VSf4y',\n",
              " 'https://open.spotify.com/track/711Uzkaoyoe05xV55JhXbT',\n",
              " 'https://open.spotify.com/track/74wVKaNFhj326QKjN8cSXq',\n",
              " 'https://open.spotify.com/track/34YfyXjr42nealgrGr7Zll']"
            ]
          },
          "metadata": {},
          "execution_count": 6
        }
      ]
    },
    {
      "cell_type": "markdown",
      "source": [
        "## Get the spotify "
      ],
      "metadata": {
        "id": "iXBt9Ugd-dDz"
      }
    },
    {
      "cell_type": "code",
      "source": [
        "def get_track_info(track):\n",
        "  track = spotify.track(track)\n",
        "  track_info = {}\n",
        "  artists= []\n",
        "  track_info['name'] = track['name']\n",
        "  for artist in track['artists']:\n",
        "        artists.append(artist['name'])\n",
        "  track_info['artists'] = artists\n",
        "  track_info['popularity'] = track['popularity']\n",
        "  return track_info"
      ],
      "metadata": {
        "id": "BaoIpefi-aui"
      },
      "execution_count": 7,
      "outputs": []
    },
    {
      "cell_type": "code",
      "source": [
        "hi = get_track_info('https://open.spotify.com/track/34YfyXjr42nealgrGr7Zll')"
      ],
      "metadata": {
        "id": "avMnI_t7DsCf"
      },
      "execution_count": 8,
      "outputs": []
    },
    {
      "cell_type": "code",
      "source": [
        "hi['popularity']"
      ],
      "metadata": {
        "colab": {
          "base_uri": "https://localhost:8080/"
        },
        "id": "u-LBwg-3FTOm",
        "outputId": "6a9f4bdd-46dc-4b8c-fe06-b11af5e9f04c"
      },
      "execution_count": 9,
      "outputs": [
        {
          "output_type": "execute_result",
          "data": {
            "text/plain": [
              "59"
            ]
          },
          "metadata": {},
          "execution_count": 9
        }
      ]
    },
    {
      "cell_type": "markdown",
      "source": [
        "### Get Artists Names"
      ],
      "metadata": {
        "id": "8Zk8GmH-GNa7"
      }
    },
    {
      "cell_type": "code",
      "source": [
        "def get_track_artists(track):\n",
        "    '''Get all artists for each track'''\n",
        "    \n",
        "    artists = []\n",
        "    \n",
        "    #Iterate through all avaiable artists, append to new array\n",
        "    for artist in spotify.track(track)['artists']:\n",
        "        artists.append(artist['name'])\n",
        "    return artists"
      ],
      "metadata": {
        "id": "XAZEhzX4G0c8"
      },
      "execution_count": 10,
      "outputs": []
    },
    {
      "cell_type": "code",
      "source": [
        "get_track_artists('https://open.spotify.com/track/5OSGdSxtulzlzdPdK2MQJC?si=a4a9db4cd27242b2')"
      ],
      "metadata": {
        "colab": {
          "base_uri": "https://localhost:8080/"
        },
        "id": "5kplcFqSICbs",
        "outputId": "c14f5715-56c7-4607-dc35-79957d059771"
      },
      "execution_count": 11,
      "outputs": [
        {
          "output_type": "execute_result",
          "data": {
            "text/plain": [
              "['Marshmello', 'Farruko']"
            ]
          },
          "metadata": {},
          "execution_count": 11
        }
      ]
    },
    {
      "cell_type": "markdown",
      "source": [
        "### Get Track Name"
      ],
      "metadata": {
        "id": "o7GjYbnrIP1p"
      }
    },
    {
      "cell_type": "code",
      "source": [
        "def get_track_name(track):\n",
        "    '''Get track name'''\n",
        "\n",
        "    return spotify.track(track)['name']"
      ],
      "metadata": {
        "id": "WDe0ybypIT_D"
      },
      "execution_count": 12,
      "outputs": []
    },
    {
      "cell_type": "markdown",
      "source": [
        "### Get Audio Features"
      ],
      "metadata": {
        "id": "z2xiZ4VyIMfN"
      }
    },
    {
      "cell_type": "code",
      "source": [
        "def get_audio_features(song):\n",
        "    '''Function to get score for feature type of a song'''\n",
        "    #Get audio features if no type error, otherwise skip\n",
        "    features = spotify.audio_features(song)[0]\n",
        "    titles = ['danceability','energy','key','loudness','mode','speechiness','acousticness','instrumentalness','liveness','valence','tempo']\n",
        "    for elem in titles:\n",
        "      try:\n",
        "        features[elem]\n",
        "      except TypeError:\n",
        "        features[elem] == None\n",
        "        pass\n",
        "      return features"
      ],
      "metadata": {
        "id": "1mIZ5NxwILc5"
      },
      "execution_count": 13,
      "outputs": []
    },
    {
      "cell_type": "code",
      "source": [
        "get_audio_features('https://open.spotify.com/track/5OSGdSxtulzlzdPdK2MQJC?si=a4a9db4cd27242b2')"
      ],
      "metadata": {
        "colab": {
          "base_uri": "https://localhost:8080/"
        },
        "id": "zE5FTaxFiuBm",
        "outputId": "98caae63-9519-49bd-c295-bdc52c8cfdc9"
      },
      "execution_count": 14,
      "outputs": [
        {
          "output_type": "execute_result",
          "data": {
            "text/plain": [
              "{'danceability': 0.755,\n",
              " 'energy': 0.676,\n",
              " 'key': 5,\n",
              " 'loudness': -7.349,\n",
              " 'mode': 1,\n",
              " 'speechiness': 0.0377,\n",
              " 'acousticness': 0.0418,\n",
              " 'instrumentalness': 0.00176,\n",
              " 'liveness': 0.204,\n",
              " 'valence': 0.461,\n",
              " 'tempo': 123.98,\n",
              " 'type': 'audio_features',\n",
              " 'id': '5OSGdSxtulzlzdPdK2MQJC',\n",
              " 'uri': 'spotify:track:5OSGdSxtulzlzdPdK2MQJC',\n",
              " 'track_href': 'https://api.spotify.com/v1/tracks/5OSGdSxtulzlzdPdK2MQJC',\n",
              " 'analysis_url': 'https://api.spotify.com/v1/audio-analysis/5OSGdSxtulzlzdPdK2MQJC',\n",
              " 'duration_ms': 209136,\n",
              " 'time_signature': 4}"
            ]
          },
          "metadata": {},
          "execution_count": 14
        }
      ]
    },
    {
      "cell_type": "markdown",
      "source": [],
      "metadata": {
        "id": "ewNnVpGXHBN8"
      }
    },
    {
      "cell_type": "markdown",
      "source": [
        "What do I need from each song?\n",
        "1. Artist names\n",
        "2. Album\n",
        "3. Genres\n",
        "4. Song features\n"
      ],
      "metadata": {
        "id": "Hm1xrOc495rH"
      }
    },
    {
      "cell_type": "code",
      "source": [
        "spotify.audio_features(\"https://open.spotify.com/track/5xP9lQYA8YQmQh6BOxcAnR\")[0]"
      ],
      "metadata": {
        "colab": {
          "base_uri": "https://localhost:8080/"
        },
        "id": "AD2qduhJ-3BP",
        "outputId": "a8a20de1-dcbc-449e-ea60-587ed0d2be83"
      },
      "execution_count": 15,
      "outputs": [
        {
          "output_type": "execute_result",
          "data": {
            "text/plain": [
              "{'danceability': 0.852,\n",
              " 'energy': 0.675,\n",
              " 'key': 1,\n",
              " 'loudness': -6.271,\n",
              " 'mode': 1,\n",
              " 'speechiness': 0.197,\n",
              " 'acousticness': 0.0652,\n",
              " 'instrumentalness': 3.74e-05,\n",
              " 'liveness': 0.36,\n",
              " 'valence': 0.83,\n",
              " 'tempo': 99.012,\n",
              " 'type': 'audio_features',\n",
              " 'id': '5xP9lQYA8YQmQh6BOxcAnR',\n",
              " 'uri': 'spotify:track:5xP9lQYA8YQmQh6BOxcAnR',\n",
              " 'track_href': 'https://api.spotify.com/v1/tracks/5xP9lQYA8YQmQh6BOxcAnR',\n",
              " 'analysis_url': 'https://api.spotify.com/v1/audio-analysis/5xP9lQYA8YQmQh6BOxcAnR',\n",
              " 'duration_ms': 215467,\n",
              " 'time_signature': 4}"
            ]
          },
          "metadata": {},
          "execution_count": 15
        }
      ]
    },
    {
      "cell_type": "code",
      "source": [
        "#https://open.spotify.com/playlist/7IKIjt9wZPPQWgvHo1SeFO?si=75371c3c8eaa49a2"
      ],
      "metadata": {
        "id": "7jW1y3oEadfr"
      },
      "execution_count": 16,
      "outputs": []
    },
    {
      "cell_type": "code",
      "source": [
        "songs = extract_songs('https://open.spotify.com/playlist/7IKIjt9wZPPQWgvHo1SeFO?si=75371c3c8eaa49a2')"
      ],
      "metadata": {
        "id": "IPCJNp8KebEh"
      },
      "execution_count": 17,
      "outputs": []
    },
    {
      "cell_type": "code",
      "source": [
        "#Spotify Playlists 1 per genre.xlsx"
      ],
      "metadata": {
        "id": "VLv6LYVUiVo2"
      },
      "execution_count": 18,
      "outputs": []
    },
    {
      "cell_type": "code",
      "source": [
        "def excel_list_to_df():\n",
        "    '''Create the dataframe from the excel sheet of playlists'''\n",
        "\n",
        "    df = pd.read_excel(\"Spotify Playlists 1 per genre.xlsx\")\n",
        "    playlists = df['Link']\n",
        "    return playlists"
      ],
      "metadata": {
        "id": "TbUiKn1liW4o"
      },
      "execution_count": 19,
      "outputs": []
    },
    {
      "cell_type": "markdown",
      "source": [
        "Let's have a function that will show stats for the playlist"
      ],
      "metadata": {
        "id": "vI1Rbt08fuuJ"
      }
    },
    {
      "cell_type": "code",
      "source": [],
      "metadata": {
        "id": "KcHr5oLFftjp"
      },
      "execution_count": 19,
      "outputs": []
    },
    {
      "cell_type": "markdown",
      "source": [
        "## Build Playlist Database"
      ],
      "metadata": {
        "id": "J-IiZ9RzfOaI"
      }
    },
    {
      "cell_type": "code",
      "source": [
        "def populate_song_info(playlist):\n",
        "    '''\n",
        "    Function that populates an dictionary where keys are the audio features and values are an array of scores for each song\n",
        "    This function performs the lionshare of data setup\n",
        "    '''\n",
        "    songlist = extract_songs(playlist)\n",
        "\n",
        "    #Storage for various types of data\n",
        "    song_data = {}\n",
        "    name_array = []\n",
        "    artist_array = []\n",
        "    popularity_array = []\n",
        "    dance_array = []\n",
        "    energy_array = []\n",
        "    key_array = []\n",
        "    loudness_array = []\n",
        "    mode_array = []\n",
        "    speech_array = []\n",
        "    acoustic_array = []\n",
        "    instrument_array = []\n",
        "    live_array = []\n",
        "    valence_array = []\n",
        "    tempo_array = []\n",
        "    link_array = []\n",
        "    \n",
        "    #Loop to append song info to appropriate array\n",
        "    for song in songlist:\n",
        "        \n",
        "        features = spotify.audio_features(song)[0]\n",
        "        #Check if features don't exist, skip the song entry\n",
        "        if features ==  None:\n",
        "          continue\n",
        "        \n",
        "        #Get song names, artists, popularity\n",
        "        track = get_track_info(song)\n",
        "        name_array.append(track['name'])\n",
        "        artist_array.append(track['artists'])\n",
        "        popularity_array.append(track['popularity'])\n",
        "\n",
        "        #Append feature to each corresponding array\n",
        "        dance_array.append(features['danceability'])\n",
        "        energy_array.append(features['energy'])\n",
        "        key_array.append(features['key'])\n",
        "        loudness_array.append(features['loudness'])\n",
        "        mode_array.append(features['mode'])\n",
        "        speech_array.append(features['speechiness'])\n",
        "        acoustic_array.append(features['acousticness'])\n",
        "        instrument_array.append(features['instrumentalness'])\n",
        "        live_array.append(features['liveness'])\n",
        "        valence_array.append(features['valence'])\n",
        "        tempo_array.append(features['tempo'])\n",
        "        link_array.append(song)\n",
        "        \n",
        "    #Put all song data in a library with proper labels\n",
        "    song_data['track_name'] = name_array\n",
        "    song_data['artists'] = artist_array\n",
        "    song_data['popularity'] = popularity_array\n",
        "    song_data['danceability'] = dance_array\n",
        "    song_data['energy'] = energy_array\n",
        "    song_data['key'] = key_array\n",
        "    song_data['loudness'] = loudness_array\n",
        "    song_data['mode'] = mode_array\n",
        "    song_data['speechiness'] = speech_array\n",
        "    song_data['acousticness'] = acoustic_array\n",
        "    song_data['instrumentalness'] = instrument_array\n",
        "    song_data['liveness'] = live_array\n",
        "    song_data['valence'] = valence_array\n",
        "    song_data['tempo'] = tempo_array\n",
        "    song_data['link'] = link_array\n",
        "    \n",
        "    song_db = pd.DataFrame(song_data)\n",
        "    return song_db"
      ],
      "metadata": {
        "id": "sAFJ4k3MfNrz"
      },
      "execution_count": 20,
      "outputs": []
    },
    {
      "cell_type": "code",
      "source": [
        "song_db = populate_song_info('https://open.spotify.com/playlist/7IKIjt9wZPPQWgvHo1SeFO?si=ee0a9c52dced4214')"
      ],
      "metadata": {
        "id": "FF_FBCGGgsPQ"
      },
      "execution_count": 21,
      "outputs": []
    },
    {
      "cell_type": "code",
      "source": [
        "song_db"
      ],
      "metadata": {
        "colab": {
          "base_uri": "https://localhost:8080/",
          "height": 679
        },
        "id": "BfOp5px01pss",
        "outputId": "c6a424bf-aa29-49d9-dfec-cb2535c72871"
      },
      "execution_count": 22,
      "outputs": [
        {
          "output_type": "execute_result",
          "data": {
            "text/plain": [
              "                                           track_name  \\\n",
              "0                                           No Stress   \n",
              "1                                                Lucy   \n",
              "2                                                 Beg   \n",
              "3                                             ARRIVAL   \n",
              "4                                                HER.   \n",
              "..                                                ...   \n",
              "82                                          Esta Vida   \n",
              "83                                    Every Good Girl   \n",
              "84  Popular (with Playboi Carti & Madonna) - From ...   \n",
              "85                                                Ic3   \n",
              "86                                           Stadiums   \n",
              "\n",
              "                                 artists  popularity  danceability  energy  \\\n",
              "0                               [Quincy]          20         0.655   0.745   \n",
              "1                             [Thutmose]          28         0.687   0.669   \n",
              "2                       [Duckwrth, CLAY]          32         0.740   0.637   \n",
              "3                          [Matt Corman]          18         0.746   0.736   \n",
              "4                              [Sheperd]          41         0.849   0.723   \n",
              "..                                   ...         ...           ...     ...   \n",
              "82                 [Marshmello, Farruko]          82         0.755   0.676   \n",
              "83                               [Blxst]          56         0.530   0.937   \n",
              "84  [The Weeknd, Playboi Carti, Madonna]          73         0.849   0.688   \n",
              "85                            [Fuse ODG]          34         0.847   0.778   \n",
              "86       [SAINt JHN, London On Da Track]          57         0.734   0.775   \n",
              "\n",
              "    key  loudness  mode  speechiness  acousticness  instrumentalness  \\\n",
              "0    11    -6.068     0       0.2530        0.3670          0.000000   \n",
              "1     5    -3.282     0       0.0356        0.2980          0.000000   \n",
              "2     6    -7.517     0       0.1110        0.4200          0.000096   \n",
              "3    10    -5.975     0       0.0826        0.1690          0.000104   \n",
              "4     9    -5.142     0       0.2000        0.0198          0.003840   \n",
              "..  ...       ...   ...          ...           ...               ...   \n",
              "82    5    -7.349     1       0.0377        0.0418          0.001760   \n",
              "83    0    -2.757     1       0.3210        0.0457          0.000000   \n",
              "84    1    -6.340     1       0.1970        0.0435          0.000058   \n",
              "85    6    -5.755     1       0.2280        0.2920          0.000000   \n",
              "86    2    -3.257     1       0.1790        0.0243          0.000000   \n",
              "\n",
              "    liveness  valence    tempo  \\\n",
              "0     0.0959    0.593   89.874   \n",
              "1     0.1200    0.802  156.924   \n",
              "2     0.1070    0.734  129.906   \n",
              "3     0.4030    0.321   93.951   \n",
              "4     0.2690    0.590  108.084   \n",
              "..       ...      ...      ...   \n",
              "82    0.2040    0.461  123.980   \n",
              "83    0.1510    0.460   92.916   \n",
              "84    0.4120    0.829   99.013   \n",
              "85    0.3280    0.732  103.982   \n",
              "86    0.1280    0.321  156.052   \n",
              "\n",
              "                                                 link  \n",
              "0   https://open.spotify.com/track/7uXz2dQpT2FIRdJ...  \n",
              "1   https://open.spotify.com/track/357Cpbxe8X6CK61...  \n",
              "2   https://open.spotify.com/track/0EjypH9hvvfx1a3...  \n",
              "3   https://open.spotify.com/track/3BYDzLAuei0ZVeb...  \n",
              "4   https://open.spotify.com/track/0938VE4FbtsjbGA...  \n",
              "..                                                ...  \n",
              "82  https://open.spotify.com/track/5OSGdSxtulzlzdP...  \n",
              "83  https://open.spotify.com/track/6VYBCG9nCZwUUIm...  \n",
              "84  https://open.spotify.com/track/38ziag7I4rieq2O...  \n",
              "85  https://open.spotify.com/track/1FbBlINbLTXKZjL...  \n",
              "86  https://open.spotify.com/track/5Sqya98MFN0RHN2...  \n",
              "\n",
              "[87 rows x 15 columns]"
            ],
            "text/html": [
              "\n",
              "  <div id=\"df-188974ab-4b75-4bc6-b5c6-8a7103a4e79d\">\n",
              "    <div class=\"colab-df-container\">\n",
              "      <div>\n",
              "<style scoped>\n",
              "    .dataframe tbody tr th:only-of-type {\n",
              "        vertical-align: middle;\n",
              "    }\n",
              "\n",
              "    .dataframe tbody tr th {\n",
              "        vertical-align: top;\n",
              "    }\n",
              "\n",
              "    .dataframe thead th {\n",
              "        text-align: right;\n",
              "    }\n",
              "</style>\n",
              "<table border=\"1\" class=\"dataframe\">\n",
              "  <thead>\n",
              "    <tr style=\"text-align: right;\">\n",
              "      <th></th>\n",
              "      <th>track_name</th>\n",
              "      <th>artists</th>\n",
              "      <th>popularity</th>\n",
              "      <th>danceability</th>\n",
              "      <th>energy</th>\n",
              "      <th>key</th>\n",
              "      <th>loudness</th>\n",
              "      <th>mode</th>\n",
              "      <th>speechiness</th>\n",
              "      <th>acousticness</th>\n",
              "      <th>instrumentalness</th>\n",
              "      <th>liveness</th>\n",
              "      <th>valence</th>\n",
              "      <th>tempo</th>\n",
              "      <th>link</th>\n",
              "    </tr>\n",
              "  </thead>\n",
              "  <tbody>\n",
              "    <tr>\n",
              "      <th>0</th>\n",
              "      <td>No Stress</td>\n",
              "      <td>[Quincy]</td>\n",
              "      <td>20</td>\n",
              "      <td>0.655</td>\n",
              "      <td>0.745</td>\n",
              "      <td>11</td>\n",
              "      <td>-6.068</td>\n",
              "      <td>0</td>\n",
              "      <td>0.2530</td>\n",
              "      <td>0.3670</td>\n",
              "      <td>0.000000</td>\n",
              "      <td>0.0959</td>\n",
              "      <td>0.593</td>\n",
              "      <td>89.874</td>\n",
              "      <td>https://open.spotify.com/track/7uXz2dQpT2FIRdJ...</td>\n",
              "    </tr>\n",
              "    <tr>\n",
              "      <th>1</th>\n",
              "      <td>Lucy</td>\n",
              "      <td>[Thutmose]</td>\n",
              "      <td>28</td>\n",
              "      <td>0.687</td>\n",
              "      <td>0.669</td>\n",
              "      <td>5</td>\n",
              "      <td>-3.282</td>\n",
              "      <td>0</td>\n",
              "      <td>0.0356</td>\n",
              "      <td>0.2980</td>\n",
              "      <td>0.000000</td>\n",
              "      <td>0.1200</td>\n",
              "      <td>0.802</td>\n",
              "      <td>156.924</td>\n",
              "      <td>https://open.spotify.com/track/357Cpbxe8X6CK61...</td>\n",
              "    </tr>\n",
              "    <tr>\n",
              "      <th>2</th>\n",
              "      <td>Beg</td>\n",
              "      <td>[Duckwrth, CLAY]</td>\n",
              "      <td>32</td>\n",
              "      <td>0.740</td>\n",
              "      <td>0.637</td>\n",
              "      <td>6</td>\n",
              "      <td>-7.517</td>\n",
              "      <td>0</td>\n",
              "      <td>0.1110</td>\n",
              "      <td>0.4200</td>\n",
              "      <td>0.000096</td>\n",
              "      <td>0.1070</td>\n",
              "      <td>0.734</td>\n",
              "      <td>129.906</td>\n",
              "      <td>https://open.spotify.com/track/0EjypH9hvvfx1a3...</td>\n",
              "    </tr>\n",
              "    <tr>\n",
              "      <th>3</th>\n",
              "      <td>ARRIVAL</td>\n",
              "      <td>[Matt Corman]</td>\n",
              "      <td>18</td>\n",
              "      <td>0.746</td>\n",
              "      <td>0.736</td>\n",
              "      <td>10</td>\n",
              "      <td>-5.975</td>\n",
              "      <td>0</td>\n",
              "      <td>0.0826</td>\n",
              "      <td>0.1690</td>\n",
              "      <td>0.000104</td>\n",
              "      <td>0.4030</td>\n",
              "      <td>0.321</td>\n",
              "      <td>93.951</td>\n",
              "      <td>https://open.spotify.com/track/3BYDzLAuei0ZVeb...</td>\n",
              "    </tr>\n",
              "    <tr>\n",
              "      <th>4</th>\n",
              "      <td>HER.</td>\n",
              "      <td>[Sheperd]</td>\n",
              "      <td>41</td>\n",
              "      <td>0.849</td>\n",
              "      <td>0.723</td>\n",
              "      <td>9</td>\n",
              "      <td>-5.142</td>\n",
              "      <td>0</td>\n",
              "      <td>0.2000</td>\n",
              "      <td>0.0198</td>\n",
              "      <td>0.003840</td>\n",
              "      <td>0.2690</td>\n",
              "      <td>0.590</td>\n",
              "      <td>108.084</td>\n",
              "      <td>https://open.spotify.com/track/0938VE4FbtsjbGA...</td>\n",
              "    </tr>\n",
              "    <tr>\n",
              "      <th>...</th>\n",
              "      <td>...</td>\n",
              "      <td>...</td>\n",
              "      <td>...</td>\n",
              "      <td>...</td>\n",
              "      <td>...</td>\n",
              "      <td>...</td>\n",
              "      <td>...</td>\n",
              "      <td>...</td>\n",
              "      <td>...</td>\n",
              "      <td>...</td>\n",
              "      <td>...</td>\n",
              "      <td>...</td>\n",
              "      <td>...</td>\n",
              "      <td>...</td>\n",
              "      <td>...</td>\n",
              "    </tr>\n",
              "    <tr>\n",
              "      <th>82</th>\n",
              "      <td>Esta Vida</td>\n",
              "      <td>[Marshmello, Farruko]</td>\n",
              "      <td>82</td>\n",
              "      <td>0.755</td>\n",
              "      <td>0.676</td>\n",
              "      <td>5</td>\n",
              "      <td>-7.349</td>\n",
              "      <td>1</td>\n",
              "      <td>0.0377</td>\n",
              "      <td>0.0418</td>\n",
              "      <td>0.001760</td>\n",
              "      <td>0.2040</td>\n",
              "      <td>0.461</td>\n",
              "      <td>123.980</td>\n",
              "      <td>https://open.spotify.com/track/5OSGdSxtulzlzdP...</td>\n",
              "    </tr>\n",
              "    <tr>\n",
              "      <th>83</th>\n",
              "      <td>Every Good Girl</td>\n",
              "      <td>[Blxst]</td>\n",
              "      <td>56</td>\n",
              "      <td>0.530</td>\n",
              "      <td>0.937</td>\n",
              "      <td>0</td>\n",
              "      <td>-2.757</td>\n",
              "      <td>1</td>\n",
              "      <td>0.3210</td>\n",
              "      <td>0.0457</td>\n",
              "      <td>0.000000</td>\n",
              "      <td>0.1510</td>\n",
              "      <td>0.460</td>\n",
              "      <td>92.916</td>\n",
              "      <td>https://open.spotify.com/track/6VYBCG9nCZwUUIm...</td>\n",
              "    </tr>\n",
              "    <tr>\n",
              "      <th>84</th>\n",
              "      <td>Popular (with Playboi Carti &amp; Madonna) - From ...</td>\n",
              "      <td>[The Weeknd, Playboi Carti, Madonna]</td>\n",
              "      <td>73</td>\n",
              "      <td>0.849</td>\n",
              "      <td>0.688</td>\n",
              "      <td>1</td>\n",
              "      <td>-6.340</td>\n",
              "      <td>1</td>\n",
              "      <td>0.1970</td>\n",
              "      <td>0.0435</td>\n",
              "      <td>0.000058</td>\n",
              "      <td>0.4120</td>\n",
              "      <td>0.829</td>\n",
              "      <td>99.013</td>\n",
              "      <td>https://open.spotify.com/track/38ziag7I4rieq2O...</td>\n",
              "    </tr>\n",
              "    <tr>\n",
              "      <th>85</th>\n",
              "      <td>Ic3</td>\n",
              "      <td>[Fuse ODG]</td>\n",
              "      <td>34</td>\n",
              "      <td>0.847</td>\n",
              "      <td>0.778</td>\n",
              "      <td>6</td>\n",
              "      <td>-5.755</td>\n",
              "      <td>1</td>\n",
              "      <td>0.2280</td>\n",
              "      <td>0.2920</td>\n",
              "      <td>0.000000</td>\n",
              "      <td>0.3280</td>\n",
              "      <td>0.732</td>\n",
              "      <td>103.982</td>\n",
              "      <td>https://open.spotify.com/track/1FbBlINbLTXKZjL...</td>\n",
              "    </tr>\n",
              "    <tr>\n",
              "      <th>86</th>\n",
              "      <td>Stadiums</td>\n",
              "      <td>[SAINt JHN, London On Da Track]</td>\n",
              "      <td>57</td>\n",
              "      <td>0.734</td>\n",
              "      <td>0.775</td>\n",
              "      <td>2</td>\n",
              "      <td>-3.257</td>\n",
              "      <td>1</td>\n",
              "      <td>0.1790</td>\n",
              "      <td>0.0243</td>\n",
              "      <td>0.000000</td>\n",
              "      <td>0.1280</td>\n",
              "      <td>0.321</td>\n",
              "      <td>156.052</td>\n",
              "      <td>https://open.spotify.com/track/5Sqya98MFN0RHN2...</td>\n",
              "    </tr>\n",
              "  </tbody>\n",
              "</table>\n",
              "<p>87 rows × 15 columns</p>\n",
              "</div>\n",
              "      <button class=\"colab-df-convert\" onclick=\"convertToInteractive('df-188974ab-4b75-4bc6-b5c6-8a7103a4e79d')\"\n",
              "              title=\"Convert this dataframe to an interactive table.\"\n",
              "              style=\"display:none;\">\n",
              "        \n",
              "  <svg xmlns=\"http://www.w3.org/2000/svg\" height=\"24px\"viewBox=\"0 0 24 24\"\n",
              "       width=\"24px\">\n",
              "    <path d=\"M0 0h24v24H0V0z\" fill=\"none\"/>\n",
              "    <path d=\"M18.56 5.44l.94 2.06.94-2.06 2.06-.94-2.06-.94-.94-2.06-.94 2.06-2.06.94zm-11 1L8.5 8.5l.94-2.06 2.06-.94-2.06-.94L8.5 2.5l-.94 2.06-2.06.94zm10 10l.94 2.06.94-2.06 2.06-.94-2.06-.94-.94-2.06-.94 2.06-2.06.94z\"/><path d=\"M17.41 7.96l-1.37-1.37c-.4-.4-.92-.59-1.43-.59-.52 0-1.04.2-1.43.59L10.3 9.45l-7.72 7.72c-.78.78-.78 2.05 0 2.83L4 21.41c.39.39.9.59 1.41.59.51 0 1.02-.2 1.41-.59l7.78-7.78 2.81-2.81c.8-.78.8-2.07 0-2.86zM5.41 20L4 18.59l7.72-7.72 1.47 1.35L5.41 20z\"/>\n",
              "  </svg>\n",
              "      </button>\n",
              "      \n",
              "  <style>\n",
              "    .colab-df-container {\n",
              "      display:flex;\n",
              "      flex-wrap:wrap;\n",
              "      gap: 12px;\n",
              "    }\n",
              "\n",
              "    .colab-df-convert {\n",
              "      background-color: #E8F0FE;\n",
              "      border: none;\n",
              "      border-radius: 50%;\n",
              "      cursor: pointer;\n",
              "      display: none;\n",
              "      fill: #1967D2;\n",
              "      height: 32px;\n",
              "      padding: 0 0 0 0;\n",
              "      width: 32px;\n",
              "    }\n",
              "\n",
              "    .colab-df-convert:hover {\n",
              "      background-color: #E2EBFA;\n",
              "      box-shadow: 0px 1px 2px rgba(60, 64, 67, 0.3), 0px 1px 3px 1px rgba(60, 64, 67, 0.15);\n",
              "      fill: #174EA6;\n",
              "    }\n",
              "\n",
              "    [theme=dark] .colab-df-convert {\n",
              "      background-color: #3B4455;\n",
              "      fill: #D2E3FC;\n",
              "    }\n",
              "\n",
              "    [theme=dark] .colab-df-convert:hover {\n",
              "      background-color: #434B5C;\n",
              "      box-shadow: 0px 1px 3px 1px rgba(0, 0, 0, 0.15);\n",
              "      filter: drop-shadow(0px 1px 2px rgba(0, 0, 0, 0.3));\n",
              "      fill: #FFFFFF;\n",
              "    }\n",
              "  </style>\n",
              "\n",
              "      <script>\n",
              "        const buttonEl =\n",
              "          document.querySelector('#df-188974ab-4b75-4bc6-b5c6-8a7103a4e79d button.colab-df-convert');\n",
              "        buttonEl.style.display =\n",
              "          google.colab.kernel.accessAllowed ? 'block' : 'none';\n",
              "\n",
              "        async function convertToInteractive(key) {\n",
              "          const element = document.querySelector('#df-188974ab-4b75-4bc6-b5c6-8a7103a4e79d');\n",
              "          const dataTable =\n",
              "            await google.colab.kernel.invokeFunction('convertToInteractive',\n",
              "                                                     [key], {});\n",
              "          if (!dataTable) return;\n",
              "\n",
              "          const docLinkHtml = 'Like what you see? Visit the ' +\n",
              "            '<a target=\"_blank\" href=https://colab.research.google.com/notebooks/data_table.ipynb>data table notebook</a>'\n",
              "            + ' to learn more about interactive tables.';\n",
              "          element.innerHTML = '';\n",
              "          dataTable['output_type'] = 'display_data';\n",
              "          await google.colab.output.renderOutput(dataTable, element);\n",
              "          const docLink = document.createElement('div');\n",
              "          docLink.innerHTML = docLinkHtml;\n",
              "          element.appendChild(docLink);\n",
              "        }\n",
              "      </script>\n",
              "    </div>\n",
              "  </div>\n",
              "  "
            ]
          },
          "metadata": {},
          "execution_count": 22
        }
      ]
    },
    {
      "cell_type": "markdown",
      "source": [
        "Have a Map to Show Where "
      ],
      "metadata": {
        "id": "N-RTMFC3f8_5"
      }
    },
    {
      "cell_type": "markdown",
      "source": [
        "Going to have the option to either log in and save the playlist or just save it to excel"
      ],
      "metadata": {
        "id": "b7w9UxsN9Kac"
      }
    },
    {
      "cell_type": "markdown",
      "source": [
        "The flow should probably be as follows:\n",
        "\n",
        "Part 1: Building the database\n",
        "1. Extract songs from playlists\n",
        "2. Perform extraction of all audio features\n",
        "3. Need a way to append song name and audio feature info to the dataframe, OR perform a function call after the recommended songs are provided to get the song names and artist info\n",
        "\n",
        "Part 2: Build the recommendations from cosine similarity\n",
        "\n",
        "Part 3: Integration with Flask or Django"
      ],
      "metadata": {
        "id": "hUfFop-imz55"
      }
    },
    {
      "cell_type": "code",
      "source": [
        "songlist = extract_songs('https://open.spotify.com/playlist/7IKIjt9wZPPQWgvHo1SeFO?si=ee0a9c52dced4214')"
      ],
      "metadata": {
        "id": "wrxcBSYRmzkw"
      },
      "execution_count": 23,
      "outputs": []
    },
    {
      "cell_type": "code",
      "source": [
        "df"
      ],
      "metadata": {
        "id": "iE8Cwc21XB4O"
      },
      "execution_count": null,
      "outputs": []
    },
    {
      "cell_type": "code",
      "source": [],
      "metadata": {
        "id": "OXAVyBsGXfAs"
      },
      "execution_count": null,
      "outputs": []
    }
  ]
}