{
  "nbformat": 4,
  "nbformat_minor": 0,
  "metadata": {
    "colab": {
      "provenance": [],
      "authorship_tag": "ABX9TyNxHYkdJe0bmKSs2BKTFi0j",
      "include_colab_link": true
    },
    "kernelspec": {
      "name": "python3",
      "display_name": "Python 3"
    },
    "language_info": {
      "name": "python"
    }
  },
  "cells": [
    {
      "cell_type": "markdown",
      "metadata": {
        "id": "view-in-github",
        "colab_type": "text"
      },
      "source": [
        "<a href=\"https://colab.research.google.com/github/cokoroafor11/Playlist-Recommender-App/blob/main/Spotify_Playlist_Recommender.ipynb\" target=\"_parent\"><img src=\"https://colab.research.google.com/assets/colab-badge.svg\" alt=\"Open In Colab\"/></a>"
      ]
    },
    {
      "cell_type": "markdown",
      "source": [
        "Imports"
      ],
      "metadata": {
        "id": "ts4WJDfeYGzW"
      }
    },
    {
      "cell_type": "code",
      "execution_count": 4,
      "metadata": {
        "colab": {
          "base_uri": "https://localhost:8080/"
        },
        "id": "pQL_Zar2YDJn",
        "outputId": "c6257498-9bc6-4bab-9488-8b456fdce68d"
      },
      "outputs": [
        {
          "output_type": "stream",
          "name": "stdout",
          "text": [
            "Looking in indexes: https://pypi.org/simple, https://us-python.pkg.dev/colab-wheels/public/simple/\n",
            "Collecting spotipy\n",
            "  Downloading spotipy-2.23.0-py3-none-any.whl (29 kB)\n",
            "Collecting redis>=3.5.3 (from spotipy)\n",
            "  Downloading redis-4.5.5-py3-none-any.whl (240 kB)\n",
            "\u001b[2K     \u001b[90m━━━━━━━━━━━━━━━━━━━━━━━━━━━━━━━━━━━━━━\u001b[0m \u001b[32m240.3/240.3 kB\u001b[0m \u001b[31m12.4 MB/s\u001b[0m eta \u001b[36m0:00:00\u001b[0m\n",
            "\u001b[?25hRequirement already satisfied: requests>=2.25.0 in /usr/local/lib/python3.10/dist-packages (from spotipy) (2.27.1)\n",
            "Requirement already satisfied: six>=1.15.0 in /usr/local/lib/python3.10/dist-packages (from spotipy) (1.16.0)\n",
            "Requirement already satisfied: urllib3>=1.26.0 in /usr/local/lib/python3.10/dist-packages (from spotipy) (1.26.15)\n",
            "Collecting async-timeout>=4.0.2 (from redis>=3.5.3->spotipy)\n",
            "  Downloading async_timeout-4.0.2-py3-none-any.whl (5.8 kB)\n",
            "Requirement already satisfied: certifi>=2017.4.17 in /usr/local/lib/python3.10/dist-packages (from requests>=2.25.0->spotipy) (2022.12.7)\n",
            "Requirement already satisfied: charset-normalizer~=2.0.0 in /usr/local/lib/python3.10/dist-packages (from requests>=2.25.0->spotipy) (2.0.12)\n",
            "Requirement already satisfied: idna<4,>=2.5 in /usr/local/lib/python3.10/dist-packages (from requests>=2.25.0->spotipy) (3.4)\n",
            "Installing collected packages: async-timeout, redis, spotipy\n",
            "Successfully installed async-timeout-4.0.2 redis-4.5.5 spotipy-2.23.0\n"
          ]
        }
      ],
      "source": [
        "!pip install spotipy --upgrade\n",
        "import spotipy\n",
        "import pandas as pd\n",
        "from spotipy.oauth2 import SpotifyClientCredentials\n",
        "import spotipy.util as util"
      ]
    },
    {
      "cell_type": "markdown",
      "source": [
        "Create the Spotify object"
      ],
      "metadata": {
        "id": "zicGfSkAcPQg"
      }
    },
    {
      "cell_type": "code",
      "source": [
        "#Save client credentials\n",
        "client_id = \"c1f74565be774e65aa211462aaf5fed8\"\n",
        "client_secret = \"2edce4052f8f46639c0e112658572d66\"\n",
        "#Create object\n",
        "spotify = spotipy.Spotify(auth_manager=SpotifyClientCredentials(client_id= client_id,client_secret=client_secret),requests_timeout=100,retries=3)"
      ],
      "metadata": {
        "id": "QZc_HH69cOIx"
      },
      "execution_count": 5,
      "outputs": []
    },
    {
      "cell_type": "markdown",
      "source": [
        "I need to extract songs from a playlist"
      ],
      "metadata": {
        "id": "TdCE21cdYP2x"
      }
    },
    {
      "cell_type": "code",
      "source": [
        "def extract_songs(playlist):\n",
        "    '''Function to extract songs from a playlist: Will run this for all the playlists being added'''\n",
        "\n",
        "    #Make sure playlist input is string\n",
        "    if type(playlist) != str: \n",
        "        playlist = str(playlist)\n",
        "\n",
        "    #Get playlist tracks    \n",
        "    playlist_tracks =  spotify.playlist_tracks(playlist)\n",
        "    tracks = []\n",
        "\n",
        "    #Append tracks to list if no type error\n",
        "    for elem in playlist_tracks['items']:\n",
        "        try:\n",
        "            tracks.append(elem['track']['external_urls']['spotify'])\n",
        "        except TypeError:\n",
        "            pass\n",
        "    return tracks\n",
        "  "
      ],
      "metadata": {
        "id": "v702M4zCYRGp"
      },
      "execution_count": 1,
      "outputs": []
    },
    {
      "cell_type": "code",
      "source": [
        "tracks = extract_songs('https://open.spotify.com/playlist/37i9dQZEVXbqgPCgwknZJW?si=ae7b2ccfd8d64357')"
      ],
      "metadata": {
        "id": "orw-Ds8he0Hc"
      },
      "execution_count": 6,
      "outputs": []
    },
    {
      "cell_type": "code",
      "source": [
        "tracks"
      ],
      "metadata": {
        "id": "db8GA7xK_GB2",
        "outputId": "8adea5aa-b3ce-4814-fe0b-c195f8e41710",
        "colab": {
          "base_uri": "https://localhost:8080/"
        }
      },
      "execution_count": 7,
      "outputs": [
        {
          "output_type": "execute_result",
          "data": {
            "text/plain": [
              "['https://open.spotify.com/track/30yNdeqvvrMEbHjH4yA2Xk',\n",
              " 'https://open.spotify.com/track/6y5UMIVVJDsULZwfZ0bNRX',\n",
              " 'https://open.spotify.com/track/34YfyXjr42nealgrGr7Zll',\n",
              " 'https://open.spotify.com/track/3H25rKGfEcqxqa5wFEexBS',\n",
              " 'https://open.spotify.com/track/4GdvTdL7T1w1RoQlMBmC8k',\n",
              " 'https://open.spotify.com/track/3o9bSWAYQv4RQ5umTeengp',\n",
              " 'https://open.spotify.com/track/1Bqmsx21uoPYSUqU3n2k1F',\n",
              " 'https://open.spotify.com/track/5SziiUUBWTSBpHUwtMpIp4',\n",
              " 'https://open.spotify.com/track/02nhDSWvcXYALyVkth2oXd',\n",
              " 'https://open.spotify.com/track/6qqq5zPYV7U4UsKnGC82tw',\n",
              " 'https://open.spotify.com/track/0gWrMbx6pbdH3n3nsLjE55',\n",
              " 'https://open.spotify.com/track/3qMimm5bezPaKIISP9f7mu',\n",
              " 'https://open.spotify.com/track/055zEZwXYe70Z9ulw5JaSM',\n",
              " 'https://open.spotify.com/track/0ETzlWlMrNumYZQDGzru0q',\n",
              " 'https://open.spotify.com/track/1f1cI1rxKrMCLr5pD8rjX3',\n",
              " 'https://open.spotify.com/track/1vuaMYsxmEARcAcnKEDoYT',\n",
              " 'https://open.spotify.com/track/20blT6R5DJhfrk9c16lQ4E',\n",
              " 'https://open.spotify.com/track/2eqjFIb55WVN7iYx8ixUZY',\n",
              " 'https://open.spotify.com/track/2thFNEPOw25PNLa0a2BB59',\n",
              " 'https://open.spotify.com/track/2Hi9VgB4jS3uYDL3pzKiGl',\n",
              " 'https://open.spotify.com/track/3dIGoaCRQ7eRvnDLWe8nT3',\n",
              " 'https://open.spotify.com/track/3j0SCXX9MhdSxYpdFAlJms',\n",
              " 'https://open.spotify.com/track/3YLt92WnWwkI3xIXHO6sYM',\n",
              " 'https://open.spotify.com/track/4frFwqxRHUMJcIhpK4qO4w',\n",
              " 'https://open.spotify.com/track/69MQRN2JNyl4TCyYQkXcuh',\n",
              " 'https://open.spotify.com/track/6x5kF8c4zfkxK5LJT3FWrb',\n",
              " 'https://open.spotify.com/track/7y5JL5ORUmqHHZQuhZI5JI',\n",
              " 'https://open.spotify.com/track/7zrGehBRiVpMj9rNlgcKsd',\n",
              " 'https://open.spotify.com/track/1iAsoOFV16Ax6OFKMq8sld',\n",
              " 'https://open.spotify.com/track/0bGNR9nJsEX4t087n456ww',\n",
              " 'https://open.spotify.com/track/2bvJt2ZJDnwUUCM6yW2j8S',\n",
              " 'https://open.spotify.com/track/3WZQU5LCaypC2JBYgz99o8',\n",
              " 'https://open.spotify.com/track/0oRCjBQk3vY5sFIzQHmFY9',\n",
              " 'https://open.spotify.com/track/2hDH4qvzhrAXFdxSVQvRXh',\n",
              " 'https://open.spotify.com/track/5w7IRpQTMNA2EuWrHDmClX',\n",
              " 'https://open.spotify.com/track/5e2jIB5KT9kmTDCBzAmvQr',\n",
              " 'https://open.spotify.com/track/0tKxy9sikwa8aeTSXVT1GK',\n",
              " 'https://open.spotify.com/track/5VEnQCBpMe1zKTac6sxSWd',\n",
              " 'https://open.spotify.com/track/0m3EsIfqAfo48vGr18KVpq',\n",
              " 'https://open.spotify.com/track/173tUOrWFnGC1KOKzPNUFJ',\n",
              " 'https://open.spotify.com/track/5by79t0saDZCGImchg8oSY',\n",
              " 'https://open.spotify.com/track/77ncBGlqT9j9BbbUEJK1iR']"
            ]
          },
          "metadata": {},
          "execution_count": 7
        }
      ]
    },
    {
      "cell_type": "markdown",
      "source": [
        "Then I need a function to get songs straight from a playlist, convert to feature info and put into a db"
      ],
      "metadata": {
        "id": "v29BO_kZYb-h"
      }
    },
    {
      "cell_type": "code",
      "source": [],
      "metadata": {
        "id": "4VgGsR2TYoLK"
      },
      "execution_count": null,
      "outputs": []
    },
    {
      "cell_type": "markdown",
      "source": [
        "Let's have a function that will show stats for the playlist"
      ],
      "metadata": {
        "id": "vI1Rbt08fuuJ"
      }
    },
    {
      "cell_type": "code",
      "source": [],
      "metadata": {
        "id": "KcHr5oLFftjp"
      },
      "execution_count": null,
      "outputs": []
    },
    {
      "cell_type": "markdown",
      "source": [
        "Have a Map to Show Where "
      ],
      "metadata": {
        "id": "N-RTMFC3f8_5"
      }
    }
  ]
}