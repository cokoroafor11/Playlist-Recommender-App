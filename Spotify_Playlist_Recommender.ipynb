{
  "nbformat": 4,
  "nbformat_minor": 0,
  "metadata": {
    "colab": {
      "provenance": [],
      "authorship_tag": "ABX9TyPUi4iwKraLYY99MXDrAvZZ",
      "include_colab_link": true
    },
    "kernelspec": {
      "name": "python3",
      "display_name": "Python 3"
    },
    "language_info": {
      "name": "python"
    }
  },
  "cells": [
    {
      "cell_type": "markdown",
      "metadata": {
        "id": "view-in-github",
        "colab_type": "text"
      },
      "source": [
        "<a href=\"https://colab.research.google.com/github/cokoroafor11/Playlist-Recommender-App/blob/main/Spotify_Playlist_Recommender.ipynb\" target=\"_parent\"><img src=\"https://colab.research.google.com/assets/colab-badge.svg\" alt=\"Open In Colab\"/></a>"
      ]
    },
    {
      "cell_type": "markdown",
      "source": [
        "## Imports"
      ],
      "metadata": {
        "id": "ts4WJDfeYGzW"
      }
    },
    {
      "cell_type": "code",
      "execution_count": 1,
      "metadata": {
        "colab": {
          "base_uri": "https://localhost:8080/"
        },
        "id": "pQL_Zar2YDJn",
        "outputId": "d5745efd-7044-4fd3-dd97-da0269b2e970"
      },
      "outputs": [
        {
          "output_type": "stream",
          "name": "stdout",
          "text": [
            "Looking in indexes: https://pypi.org/simple, https://us-python.pkg.dev/colab-wheels/public/simple/\n",
            "Collecting spotipy\n",
            "  Downloading spotipy-2.23.0-py3-none-any.whl (29 kB)\n",
            "Collecting redis>=3.5.3 (from spotipy)\n",
            "  Downloading redis-4.5.5-py3-none-any.whl (240 kB)\n",
            "\u001b[2K     \u001b[90m━━━━━━━━━━━━━━━━━━━━━━━━━━━━━━━━━━━━━━\u001b[0m \u001b[32m240.3/240.3 kB\u001b[0m \u001b[31m10.0 MB/s\u001b[0m eta \u001b[36m0:00:00\u001b[0m\n",
            "\u001b[?25hRequirement already satisfied: requests>=2.25.0 in /usr/local/lib/python3.10/dist-packages (from spotipy) (2.27.1)\n",
            "Requirement already satisfied: six>=1.15.0 in /usr/local/lib/python3.10/dist-packages (from spotipy) (1.16.0)\n",
            "Requirement already satisfied: urllib3>=1.26.0 in /usr/local/lib/python3.10/dist-packages (from spotipy) (1.26.15)\n",
            "Collecting async-timeout>=4.0.2 (from redis>=3.5.3->spotipy)\n",
            "  Downloading async_timeout-4.0.2-py3-none-any.whl (5.8 kB)\n",
            "Requirement already satisfied: certifi>=2017.4.17 in /usr/local/lib/python3.10/dist-packages (from requests>=2.25.0->spotipy) (2022.12.7)\n",
            "Requirement already satisfied: charset-normalizer~=2.0.0 in /usr/local/lib/python3.10/dist-packages (from requests>=2.25.0->spotipy) (2.0.12)\n",
            "Requirement already satisfied: idna<4,>=2.5 in /usr/local/lib/python3.10/dist-packages (from requests>=2.25.0->spotipy) (3.4)\n",
            "Installing collected packages: async-timeout, redis, spotipy\n",
            "Successfully installed async-timeout-4.0.2 redis-4.5.5 spotipy-2.23.0\n"
          ]
        }
      ],
      "source": [
        "!pip install spotipy --upgrade\n",
        "import spotipy\n",
        "import pandas as pd\n",
        "from spotipy.oauth2 import SpotifyClientCredentials\n",
        "import spotipy.util as util"
      ]
    },
    {
      "cell_type": "code",
      "source": [
        "#Things to call:\n",
        "#Excel sheet with spotify playlists\n",
        "playlist_sheet = 'Spotify Playlists 1 per genre.xlsx'"
      ],
      "metadata": {
        "id": "9H9Wv8zEikcL"
      },
      "execution_count": 53,
      "outputs": []
    },
    {
      "cell_type": "markdown",
      "source": [
        "## Create the Spotify object"
      ],
      "metadata": {
        "id": "zicGfSkAcPQg"
      }
    },
    {
      "cell_type": "code",
      "source": [
        "#Save client credentials\n",
        "client_id = \"c1f74565be774e65aa211462aaf5fed8\"\n",
        "client_secret = \"2edce4052f8f46639c0e112658572d66\"\n",
        "#Create object\n",
        "spotify = spotipy.Spotify(auth_manager=SpotifyClientCredentials(client_id= client_id,client_secret=client_secret),requests_timeout=100,retries=3)"
      ],
      "metadata": {
        "id": "QZc_HH69cOIx"
      },
      "execution_count": 2,
      "outputs": []
    },
    {
      "cell_type": "markdown",
      "source": [
        "## Functions I Need"
      ],
      "metadata": {
        "id": "TdCE21cdYP2x"
      }
    },
    {
      "cell_type": "markdown",
      "source": [
        "### Extract songs from playlist"
      ],
      "metadata": {
        "id": "U9XMXEABGIa7"
      }
    },
    {
      "cell_type": "code",
      "source": [
        "def extract_songs(playlist):\n",
        "    '''Function to extract songs from a playlist: Will run this for all the playlists being added'''\n",
        "\n",
        "    #Make sure playlist input is string\n",
        "    if type(playlist) != str: \n",
        "        playlist = str(playlist)\n",
        "\n",
        "    #Get playlist tracks    \n",
        "    playlist_tracks =  spotify.playlist_tracks(playlist)\n",
        "    tracks = []\n",
        "\n",
        "    #Append tracks to list if no type error\n",
        "    for elem in playlist_tracks['items']:\n",
        "        try:\n",
        "            tracks.append(elem['track']['external_urls']['spotify'])\n",
        "        except TypeError:\n",
        "            pass\n",
        "    return tracks\n",
        "  "
      ],
      "metadata": {
        "id": "v702M4zCYRGp"
      },
      "execution_count": 3,
      "outputs": []
    },
    {
      "cell_type": "code",
      "source": [
        "tracks = extract_songs('https://open.spotify.com/playlist/37i9dQZEVXbqgPCgwknZJW?si=ae7b2ccfd8d64357')"
      ],
      "metadata": {
        "id": "orw-Ds8he0Hc"
      },
      "execution_count": 48,
      "outputs": []
    },
    {
      "cell_type": "code",
      "source": [
        "tracks"
      ],
      "metadata": {
        "id": "db8GA7xK_GB2",
        "outputId": "224a508c-58ff-4278-aef8-8fc27e7450e1",
        "colab": {
          "base_uri": "https://localhost:8080/"
        }
      },
      "execution_count": 5,
      "outputs": [
        {
          "output_type": "execute_result",
          "data": {
            "text/plain": [
              "['https://open.spotify.com/track/5xP9lQYA8YQmQh6BOxcAnR',\n",
              " 'https://open.spotify.com/track/1ZsNLqqBzUbDG9LDosVk2p',\n",
              " 'https://open.spotify.com/track/5viZ8CLipufc1Q1NXpMRNN',\n",
              " 'https://open.spotify.com/track/3kH94a1MQM7YrpsZRWuXrh',\n",
              " 'https://open.spotify.com/track/5VUkNfVb58kUWyWoWdbvha',\n",
              " 'https://open.spotify.com/track/4t48gom0WM1BgWPmC9e8HV',\n",
              " 'https://open.spotify.com/track/2TtD8MWLffh6SO7YOhELJO',\n",
              " 'https://open.spotify.com/track/4EZ0ZWTyjIUtZk2Rqf3QAG',\n",
              " 'https://open.spotify.com/track/2cVIKCgIfYOYyyXfQEstZN',\n",
              " 'https://open.spotify.com/track/4jeQnCp9IL3pbLPn0UjLmh',\n",
              " 'https://open.spotify.com/track/3AFxrPHW0222y3t4dmHAJI',\n",
              " 'https://open.spotify.com/track/6SWOyZfVoLXgqKCKj3hI9c',\n",
              " 'https://open.spotify.com/track/4WCX5GB4SZ9IDa1ULJNzJk',\n",
              " 'https://open.spotify.com/track/6UmbweVDCrk7XcC7hicFL7',\n",
              " 'https://open.spotify.com/track/6LluC6nv9k4h5gwMLjy3FJ',\n",
              " 'https://open.spotify.com/track/03E7tuKVSY1BS4LaV9rrOf',\n",
              " 'https://open.spotify.com/track/0KT0GKZJ72959Mk1UE0lE5',\n",
              " 'https://open.spotify.com/track/17rH1lkJy6cRi3tyLV3BAj',\n",
              " 'https://open.spotify.com/track/17O5F0I7FZJ009c9aKtWRo',\n",
              " 'https://open.spotify.com/track/1MG2waUhgYM13ZGk57PeOE',\n",
              " 'https://open.spotify.com/track/1Tx7TwXLu2BQIAz0SRzf2k',\n",
              " 'https://open.spotify.com/track/3AGK83gJkmyS1OMsgIwaWb',\n",
              " 'https://open.spotify.com/track/3BMcSqais71Z693fkTE8Eo',\n",
              " 'https://open.spotify.com/track/4AKLHw94E5jIZICRdU3zc3',\n",
              " 'https://open.spotify.com/track/4PKOBlfJKfaPzD1fWCaKmL',\n",
              " 'https://open.spotify.com/track/59SDcAi6L9l7LZ5L4jEOl7',\n",
              " 'https://open.spotify.com/track/5lfaFgcFLtYtn9dYEQvNzY',\n",
              " 'https://open.spotify.com/track/6AbwJJnX5omy6pgaIos7PF',\n",
              " 'https://open.spotify.com/track/6IfoD3G5mXEnEJHJg81n6V',\n",
              " 'https://open.spotify.com/track/37CoOXIsgF3NzbK1zHZetk',\n",
              " 'https://open.spotify.com/track/4vLNpvth7aiLl7RAyDpDCE',\n",
              " 'https://open.spotify.com/track/28fbZR6LGCoqBjBp2z7xrO',\n",
              " 'https://open.spotify.com/track/2beD5W9IkefQ04IO39XF7w',\n",
              " 'https://open.spotify.com/track/1YIvYm5d9GnVXR0Q9SUER7',\n",
              " 'https://open.spotify.com/track/0GgYACtOE5GNVjwAZmBr1p',\n",
              " 'https://open.spotify.com/track/7MWHxi7gx2M8ghbRRWyQYU',\n",
              " 'https://open.spotify.com/track/6I0yiEym3CTTYl4E8NKtk8',\n",
              " 'https://open.spotify.com/track/1FbBlINbLTXKZjLVCnZhlt',\n",
              " 'https://open.spotify.com/track/0KWT5yvZ4iphotBfmPeAuY',\n",
              " 'https://open.spotify.com/track/0O0VSnmenLAixOThAbqdNq',\n",
              " 'https://open.spotify.com/track/1MIZIHmz0oW142sZTfIQZw',\n",
              " 'https://open.spotify.com/track/3uSdhfED1bNS4VIWWNaE6V',\n",
              " 'https://open.spotify.com/track/4S4PQksYSjUI5rRRJL3Yo3',\n",
              " 'https://open.spotify.com/track/5a8brwyxP2Ga832uYrY2lQ',\n",
              " 'https://open.spotify.com/track/5xlLG6RthtyXShVhGA3ojN',\n",
              " 'https://open.spotify.com/track/7bDwxr2hinZkqWtAQeDGXS',\n",
              " 'https://open.spotify.com/track/1KGJ5ozUB7XOgCJ73IBMz3',\n",
              " 'https://open.spotify.com/track/5jfD6wlyZ4Bv9hOvB9yFl1',\n",
              " 'https://open.spotify.com/track/60QcWQ4bGoO7RwF1wK3qbG',\n",
              " 'https://open.spotify.com/track/1kOPoZDgQean1ecxJT0GIT',\n",
              " 'https://open.spotify.com/track/2ukJg3HjTKmOMK8qaEk1Uu']"
            ]
          },
          "metadata": {},
          "execution_count": 5
        }
      ]
    },
    {
      "cell_type": "markdown",
      "source": [
        "### Get Artists Names"
      ],
      "metadata": {
        "id": "8Zk8GmH-GNa7"
      }
    },
    {
      "cell_type": "code",
      "source": [
        "def get_track_artists(track):\n",
        "    '''Get all artists for each track'''\n",
        "    \n",
        "    artists = []\n",
        "    \n",
        "    #Iterate through all avaiable artists, append to new array\n",
        "    for artist in spotify.track(track)['artists']:\n",
        "        artists.append(artist['name'])\n",
        "    return artists"
      ],
      "metadata": {
        "id": "XAZEhzX4G0c8"
      },
      "execution_count": 6,
      "outputs": []
    },
    {
      "cell_type": "code",
      "source": [
        "get_track_artists('https://open.spotify.com/track/5OSGdSxtulzlzdPdK2MQJC?si=a4a9db4cd27242b2')"
      ],
      "metadata": {
        "colab": {
          "base_uri": "https://localhost:8080/"
        },
        "id": "5kplcFqSICbs",
        "outputId": "8f3ef069-6398-4a4a-90e9-264eb90ed1f1"
      },
      "execution_count": 7,
      "outputs": [
        {
          "output_type": "execute_result",
          "data": {
            "text/plain": [
              "['Marshmello', 'Farruko']"
            ]
          },
          "metadata": {},
          "execution_count": 7
        }
      ]
    },
    {
      "cell_type": "markdown",
      "source": [
        "### Get Track Name"
      ],
      "metadata": {
        "id": "o7GjYbnrIP1p"
      }
    },
    {
      "cell_type": "code",
      "source": [
        "def get_track_name(track):\n",
        "    '''Get track name'''\n",
        "\n",
        "    return spotify.track(track)['name']"
      ],
      "metadata": {
        "id": "WDe0ybypIT_D"
      },
      "execution_count": 8,
      "outputs": []
    },
    {
      "cell_type": "markdown",
      "source": [
        "### Get Audio Features"
      ],
      "metadata": {
        "id": "z2xiZ4VyIMfN"
      }
    },
    {
      "cell_type": "code",
      "source": [
        "def get_audio_features(song, feature):\n",
        "    '''Function to get score for feature type of a song'''\n",
        "\n",
        "    feature_score = 0\n",
        "    #Get audio features if no type error, otherwise skip\n",
        "    try:\n",
        "      feature_score = spotify.audio_features(song)[0][feature]\n",
        "    except TypeError:\n",
        "      feature_score = None\n",
        "      pass\n",
        "    return feature_score"
      ],
      "metadata": {
        "id": "1mIZ5NxwILc5"
      },
      "execution_count": 9,
      "outputs": []
    },
    {
      "cell_type": "code",
      "source": [
        "get_audio_features"
      ],
      "metadata": {
        "colab": {
          "base_uri": "https://localhost:8080/"
        },
        "id": "zE5FTaxFiuBm",
        "outputId": "6fd7fc00-4fdc-4bed-c2be-9dffac6dedc3"
      },
      "execution_count": 10,
      "outputs": [
        {
          "output_type": "execute_result",
          "data": {
            "text/plain": [
              "<function __main__.get_audio_features(song, feature)>"
            ]
          },
          "metadata": {},
          "execution_count": 10
        }
      ]
    },
    {
      "cell_type": "markdown",
      "source": [],
      "metadata": {
        "id": "ewNnVpGXHBN8"
      }
    },
    {
      "cell_type": "markdown",
      "source": [
        "What do I need from each song?\n",
        "1. Artist names\n",
        "2. Album\n",
        "3. Genres\n",
        "4. Song features\n"
      ],
      "metadata": {
        "id": "Hm1xrOc495rH"
      }
    },
    {
      "cell_type": "code",
      "source": [
        "spotify.audio_features(\"https://open.spotify.com/track/5xP9lQYA8YQmQh6BOxcAnR\")[0]"
      ],
      "metadata": {
        "colab": {
          "base_uri": "https://localhost:8080/"
        },
        "id": "AD2qduhJ-3BP",
        "outputId": "ef4066f8-335c-470a-fa5c-0fec5c9950ae"
      },
      "execution_count": 11,
      "outputs": [
        {
          "output_type": "execute_result",
          "data": {
            "text/plain": [
              "{'danceability': 0.852,\n",
              " 'energy': 0.675,\n",
              " 'key': 1,\n",
              " 'loudness': -6.271,\n",
              " 'mode': 1,\n",
              " 'speechiness': 0.197,\n",
              " 'acousticness': 0.0652,\n",
              " 'instrumentalness': 3.74e-05,\n",
              " 'liveness': 0.36,\n",
              " 'valence': 0.83,\n",
              " 'tempo': 99.012,\n",
              " 'type': 'audio_features',\n",
              " 'id': '5xP9lQYA8YQmQh6BOxcAnR',\n",
              " 'uri': 'spotify:track:5xP9lQYA8YQmQh6BOxcAnR',\n",
              " 'track_href': 'https://api.spotify.com/v1/tracks/5xP9lQYA8YQmQh6BOxcAnR',\n",
              " 'analysis_url': 'https://api.spotify.com/v1/audio-analysis/5xP9lQYA8YQmQh6BOxcAnR',\n",
              " 'duration_ms': 215467,\n",
              " 'time_signature': 4}"
            ]
          },
          "metadata": {},
          "execution_count": 11
        }
      ]
    },
    {
      "cell_type": "code",
      "source": [
        "dic = spotify.audio_features(\"https://open.spotify.com/track/5xP9lQYA8YQmQh6BOxcAnR\")[0]\n",
        "output = pd.DataFrame()"
      ],
      "metadata": {
        "id": "gIl1Ab6RkzMr"
      },
      "execution_count": 38,
      "outputs": []
    },
    {
      "cell_type": "code",
      "source": [
        "output = output.append(dic, ignore_index=True)"
      ],
      "metadata": {
        "colab": {
          "base_uri": "https://localhost:8080/"
        },
        "id": "ZzpqZ4COlAaI",
        "outputId": "08a3008b-fdb5-4d1c-899d-c5dfd1e7fd50"
      },
      "execution_count": 39,
      "outputs": [
        {
          "output_type": "stream",
          "name": "stderr",
          "text": [
            "<ipython-input-39-703685a495c5>:1: FutureWarning: The frame.append method is deprecated and will be removed from pandas in a future version. Use pandas.concat instead.\n",
            "  output = output.append(dic, ignore_index=True)\n"
          ]
        }
      ]
    },
    {
      "cell_type": "code",
      "source": [
        "output = output.iloc[:, 0:11]\n",
        "output.drop(columns = ['mode', 'key',])"
      ],
      "metadata": {
        "colab": {
          "base_uri": "https://localhost:8080/",
          "height": 81
        },
        "id": "7O1HlStFOXQ5",
        "outputId": "2fa582a0-145e-42d2-d894-fd0547779fc3"
      },
      "execution_count": 40,
      "outputs": [
        {
          "output_type": "execute_result",
          "data": {
            "text/plain": [
              "   danceability  energy  loudness  speechiness  acousticness  \\\n",
              "0         0.852   0.675    -6.271        0.197        0.0652   \n",
              "\n",
              "   instrumentalness  liveness  valence   tempo  \n",
              "0          0.000037      0.36     0.83  99.012  "
            ],
            "text/html": [
              "\n",
              "  <div id=\"df-03eb6a29-69c4-4505-a8f5-db5d844c08cc\">\n",
              "    <div class=\"colab-df-container\">\n",
              "      <div>\n",
              "<style scoped>\n",
              "    .dataframe tbody tr th:only-of-type {\n",
              "        vertical-align: middle;\n",
              "    }\n",
              "\n",
              "    .dataframe tbody tr th {\n",
              "        vertical-align: top;\n",
              "    }\n",
              "\n",
              "    .dataframe thead th {\n",
              "        text-align: right;\n",
              "    }\n",
              "</style>\n",
              "<table border=\"1\" class=\"dataframe\">\n",
              "  <thead>\n",
              "    <tr style=\"text-align: right;\">\n",
              "      <th></th>\n",
              "      <th>danceability</th>\n",
              "      <th>energy</th>\n",
              "      <th>loudness</th>\n",
              "      <th>speechiness</th>\n",
              "      <th>acousticness</th>\n",
              "      <th>instrumentalness</th>\n",
              "      <th>liveness</th>\n",
              "      <th>valence</th>\n",
              "      <th>tempo</th>\n",
              "    </tr>\n",
              "  </thead>\n",
              "  <tbody>\n",
              "    <tr>\n",
              "      <th>0</th>\n",
              "      <td>0.852</td>\n",
              "      <td>0.675</td>\n",
              "      <td>-6.271</td>\n",
              "      <td>0.197</td>\n",
              "      <td>0.0652</td>\n",
              "      <td>0.000037</td>\n",
              "      <td>0.36</td>\n",
              "      <td>0.83</td>\n",
              "      <td>99.012</td>\n",
              "    </tr>\n",
              "  </tbody>\n",
              "</table>\n",
              "</div>\n",
              "      <button class=\"colab-df-convert\" onclick=\"convertToInteractive('df-03eb6a29-69c4-4505-a8f5-db5d844c08cc')\"\n",
              "              title=\"Convert this dataframe to an interactive table.\"\n",
              "              style=\"display:none;\">\n",
              "        \n",
              "  <svg xmlns=\"http://www.w3.org/2000/svg\" height=\"24px\"viewBox=\"0 0 24 24\"\n",
              "       width=\"24px\">\n",
              "    <path d=\"M0 0h24v24H0V0z\" fill=\"none\"/>\n",
              "    <path d=\"M18.56 5.44l.94 2.06.94-2.06 2.06-.94-2.06-.94-.94-2.06-.94 2.06-2.06.94zm-11 1L8.5 8.5l.94-2.06 2.06-.94-2.06-.94L8.5 2.5l-.94 2.06-2.06.94zm10 10l.94 2.06.94-2.06 2.06-.94-2.06-.94-.94-2.06-.94 2.06-2.06.94z\"/><path d=\"M17.41 7.96l-1.37-1.37c-.4-.4-.92-.59-1.43-.59-.52 0-1.04.2-1.43.59L10.3 9.45l-7.72 7.72c-.78.78-.78 2.05 0 2.83L4 21.41c.39.39.9.59 1.41.59.51 0 1.02-.2 1.41-.59l7.78-7.78 2.81-2.81c.8-.78.8-2.07 0-2.86zM5.41 20L4 18.59l7.72-7.72 1.47 1.35L5.41 20z\"/>\n",
              "  </svg>\n",
              "      </button>\n",
              "      \n",
              "  <style>\n",
              "    .colab-df-container {\n",
              "      display:flex;\n",
              "      flex-wrap:wrap;\n",
              "      gap: 12px;\n",
              "    }\n",
              "\n",
              "    .colab-df-convert {\n",
              "      background-color: #E8F0FE;\n",
              "      border: none;\n",
              "      border-radius: 50%;\n",
              "      cursor: pointer;\n",
              "      display: none;\n",
              "      fill: #1967D2;\n",
              "      height: 32px;\n",
              "      padding: 0 0 0 0;\n",
              "      width: 32px;\n",
              "    }\n",
              "\n",
              "    .colab-df-convert:hover {\n",
              "      background-color: #E2EBFA;\n",
              "      box-shadow: 0px 1px 2px rgba(60, 64, 67, 0.3), 0px 1px 3px 1px rgba(60, 64, 67, 0.15);\n",
              "      fill: #174EA6;\n",
              "    }\n",
              "\n",
              "    [theme=dark] .colab-df-convert {\n",
              "      background-color: #3B4455;\n",
              "      fill: #D2E3FC;\n",
              "    }\n",
              "\n",
              "    [theme=dark] .colab-df-convert:hover {\n",
              "      background-color: #434B5C;\n",
              "      box-shadow: 0px 1px 3px 1px rgba(0, 0, 0, 0.15);\n",
              "      filter: drop-shadow(0px 1px 2px rgba(0, 0, 0, 0.3));\n",
              "      fill: #FFFFFF;\n",
              "    }\n",
              "  </style>\n",
              "\n",
              "      <script>\n",
              "        const buttonEl =\n",
              "          document.querySelector('#df-03eb6a29-69c4-4505-a8f5-db5d844c08cc button.colab-df-convert');\n",
              "        buttonEl.style.display =\n",
              "          google.colab.kernel.accessAllowed ? 'block' : 'none';\n",
              "\n",
              "        async function convertToInteractive(key) {\n",
              "          const element = document.querySelector('#df-03eb6a29-69c4-4505-a8f5-db5d844c08cc');\n",
              "          const dataTable =\n",
              "            await google.colab.kernel.invokeFunction('convertToInteractive',\n",
              "                                                     [key], {});\n",
              "          if (!dataTable) return;\n",
              "\n",
              "          const docLinkHtml = 'Like what you see? Visit the ' +\n",
              "            '<a target=\"_blank\" href=https://colab.research.google.com/notebooks/data_table.ipynb>data table notebook</a>'\n",
              "            + ' to learn more about interactive tables.';\n",
              "          element.innerHTML = '';\n",
              "          dataTable['output_type'] = 'display_data';\n",
              "          await google.colab.output.renderOutput(dataTable, element);\n",
              "          const docLink = document.createElement('div');\n",
              "          docLink.innerHTML = docLinkHtml;\n",
              "          element.appendChild(docLink);\n",
              "        }\n",
              "      </script>\n",
              "    </div>\n",
              "  </div>\n",
              "  "
            ]
          },
          "metadata": {},
          "execution_count": 40
        }
      ]
    },
    {
      "cell_type": "code",
      "source": [
        "output.insert(loc = 0, column = 'song', value = get_track_name(\"https://open.spotify.com/track/5xP9lQYA8YQmQh6BOxcAnR\"))"
      ],
      "metadata": {
        "id": "AM483DyOPQ5i"
      },
      "execution_count": 41,
      "outputs": []
    },
    {
      "cell_type": "code",
      "source": [
        "output"
      ],
      "metadata": {
        "colab": {
          "base_uri": "https://localhost:8080/",
          "height": 81
        },
        "id": "8EuO7vINS069",
        "outputId": "d60b8acd-4e95-4364-890c-50195b59104c"
      },
      "execution_count": 42,
      "outputs": [
        {
          "output_type": "execute_result",
          "data": {
            "text/plain": [
              "                                     song  danceability  energy  key  \\\n",
              "0  Popular (with Playboi Carti & Madonna)         0.852   0.675    1   \n",
              "\n",
              "   loudness  mode  speechiness  acousticness  instrumentalness  liveness  \\\n",
              "0    -6.271     1        0.197        0.0652          0.000037      0.36   \n",
              "\n",
              "   valence   tempo  \n",
              "0     0.83  99.012  "
            ],
            "text/html": [
              "\n",
              "  <div id=\"df-48f13d56-d669-440f-bd07-2573dbc37bd3\">\n",
              "    <div class=\"colab-df-container\">\n",
              "      <div>\n",
              "<style scoped>\n",
              "    .dataframe tbody tr th:only-of-type {\n",
              "        vertical-align: middle;\n",
              "    }\n",
              "\n",
              "    .dataframe tbody tr th {\n",
              "        vertical-align: top;\n",
              "    }\n",
              "\n",
              "    .dataframe thead th {\n",
              "        text-align: right;\n",
              "    }\n",
              "</style>\n",
              "<table border=\"1\" class=\"dataframe\">\n",
              "  <thead>\n",
              "    <tr style=\"text-align: right;\">\n",
              "      <th></th>\n",
              "      <th>song</th>\n",
              "      <th>danceability</th>\n",
              "      <th>energy</th>\n",
              "      <th>key</th>\n",
              "      <th>loudness</th>\n",
              "      <th>mode</th>\n",
              "      <th>speechiness</th>\n",
              "      <th>acousticness</th>\n",
              "      <th>instrumentalness</th>\n",
              "      <th>liveness</th>\n",
              "      <th>valence</th>\n",
              "      <th>tempo</th>\n",
              "    </tr>\n",
              "  </thead>\n",
              "  <tbody>\n",
              "    <tr>\n",
              "      <th>0</th>\n",
              "      <td>Popular (with Playboi Carti &amp; Madonna)</td>\n",
              "      <td>0.852</td>\n",
              "      <td>0.675</td>\n",
              "      <td>1</td>\n",
              "      <td>-6.271</td>\n",
              "      <td>1</td>\n",
              "      <td>0.197</td>\n",
              "      <td>0.0652</td>\n",
              "      <td>0.000037</td>\n",
              "      <td>0.36</td>\n",
              "      <td>0.83</td>\n",
              "      <td>99.012</td>\n",
              "    </tr>\n",
              "  </tbody>\n",
              "</table>\n",
              "</div>\n",
              "      <button class=\"colab-df-convert\" onclick=\"convertToInteractive('df-48f13d56-d669-440f-bd07-2573dbc37bd3')\"\n",
              "              title=\"Convert this dataframe to an interactive table.\"\n",
              "              style=\"display:none;\">\n",
              "        \n",
              "  <svg xmlns=\"http://www.w3.org/2000/svg\" height=\"24px\"viewBox=\"0 0 24 24\"\n",
              "       width=\"24px\">\n",
              "    <path d=\"M0 0h24v24H0V0z\" fill=\"none\"/>\n",
              "    <path d=\"M18.56 5.44l.94 2.06.94-2.06 2.06-.94-2.06-.94-.94-2.06-.94 2.06-2.06.94zm-11 1L8.5 8.5l.94-2.06 2.06-.94-2.06-.94L8.5 2.5l-.94 2.06-2.06.94zm10 10l.94 2.06.94-2.06 2.06-.94-2.06-.94-.94-2.06-.94 2.06-2.06.94z\"/><path d=\"M17.41 7.96l-1.37-1.37c-.4-.4-.92-.59-1.43-.59-.52 0-1.04.2-1.43.59L10.3 9.45l-7.72 7.72c-.78.78-.78 2.05 0 2.83L4 21.41c.39.39.9.59 1.41.59.51 0 1.02-.2 1.41-.59l7.78-7.78 2.81-2.81c.8-.78.8-2.07 0-2.86zM5.41 20L4 18.59l7.72-7.72 1.47 1.35L5.41 20z\"/>\n",
              "  </svg>\n",
              "      </button>\n",
              "      \n",
              "  <style>\n",
              "    .colab-df-container {\n",
              "      display:flex;\n",
              "      flex-wrap:wrap;\n",
              "      gap: 12px;\n",
              "    }\n",
              "\n",
              "    .colab-df-convert {\n",
              "      background-color: #E8F0FE;\n",
              "      border: none;\n",
              "      border-radius: 50%;\n",
              "      cursor: pointer;\n",
              "      display: none;\n",
              "      fill: #1967D2;\n",
              "      height: 32px;\n",
              "      padding: 0 0 0 0;\n",
              "      width: 32px;\n",
              "    }\n",
              "\n",
              "    .colab-df-convert:hover {\n",
              "      background-color: #E2EBFA;\n",
              "      box-shadow: 0px 1px 2px rgba(60, 64, 67, 0.3), 0px 1px 3px 1px rgba(60, 64, 67, 0.15);\n",
              "      fill: #174EA6;\n",
              "    }\n",
              "\n",
              "    [theme=dark] .colab-df-convert {\n",
              "      background-color: #3B4455;\n",
              "      fill: #D2E3FC;\n",
              "    }\n",
              "\n",
              "    [theme=dark] .colab-df-convert:hover {\n",
              "      background-color: #434B5C;\n",
              "      box-shadow: 0px 1px 3px 1px rgba(0, 0, 0, 0.15);\n",
              "      filter: drop-shadow(0px 1px 2px rgba(0, 0, 0, 0.3));\n",
              "      fill: #FFFFFF;\n",
              "    }\n",
              "  </style>\n",
              "\n",
              "      <script>\n",
              "        const buttonEl =\n",
              "          document.querySelector('#df-48f13d56-d669-440f-bd07-2573dbc37bd3 button.colab-df-convert');\n",
              "        buttonEl.style.display =\n",
              "          google.colab.kernel.accessAllowed ? 'block' : 'none';\n",
              "\n",
              "        async function convertToInteractive(key) {\n",
              "          const element = document.querySelector('#df-48f13d56-d669-440f-bd07-2573dbc37bd3');\n",
              "          const dataTable =\n",
              "            await google.colab.kernel.invokeFunction('convertToInteractive',\n",
              "                                                     [key], {});\n",
              "          if (!dataTable) return;\n",
              "\n",
              "          const docLinkHtml = 'Like what you see? Visit the ' +\n",
              "            '<a target=\"_blank\" href=https://colab.research.google.com/notebooks/data_table.ipynb>data table notebook</a>'\n",
              "            + ' to learn more about interactive tables.';\n",
              "          element.innerHTML = '';\n",
              "          dataTable['output_type'] = 'display_data';\n",
              "          await google.colab.output.renderOutput(dataTable, element);\n",
              "          const docLink = document.createElement('div');\n",
              "          docLink.innerHTML = docLinkHtml;\n",
              "          element.appendChild(docLink);\n",
              "        }\n",
              "      </script>\n",
              "    </div>\n",
              "  </div>\n",
              "  "
            ]
          },
          "metadata": {},
          "execution_count": 42
        }
      ]
    },
    {
      "cell_type": "code",
      "source": [
        "output.insert(loc = 1, column = 'artists', value = [get_track_artists(\"https://open.spotify.com/track/5xP9lQYA8YQmQh6BOxcAnR\")])"
      ],
      "metadata": {
        "id": "DBqiZPqbS_aH"
      },
      "execution_count": 44,
      "outputs": []
    },
    {
      "cell_type": "code",
      "source": [
        "output"
      ],
      "metadata": {
        "colab": {
          "base_uri": "https://localhost:8080/",
          "height": 125
        },
        "id": "9a419EJUTKSb",
        "outputId": "a88f3377-853b-41be-a7e4-84542859141f"
      },
      "execution_count": 45,
      "outputs": [
        {
          "output_type": "execute_result",
          "data": {
            "text/plain": [
              "                                     song  \\\n",
              "0  Popular (with Playboi Carti & Madonna)   \n",
              "\n",
              "                                artists  danceability  energy  key  loudness  \\\n",
              "0  [The Weeknd, Playboi Carti, Madonna]         0.852   0.675    1    -6.271   \n",
              "\n",
              "   mode  speechiness  acousticness  instrumentalness  liveness  valence  \\\n",
              "0     1        0.197        0.0652          0.000037      0.36     0.83   \n",
              "\n",
              "    tempo  \n",
              "0  99.012  "
            ],
            "text/html": [
              "\n",
              "  <div id=\"df-a03ff6b4-18ae-4d25-a752-f7a2b3d402bd\">\n",
              "    <div class=\"colab-df-container\">\n",
              "      <div>\n",
              "<style scoped>\n",
              "    .dataframe tbody tr th:only-of-type {\n",
              "        vertical-align: middle;\n",
              "    }\n",
              "\n",
              "    .dataframe tbody tr th {\n",
              "        vertical-align: top;\n",
              "    }\n",
              "\n",
              "    .dataframe thead th {\n",
              "        text-align: right;\n",
              "    }\n",
              "</style>\n",
              "<table border=\"1\" class=\"dataframe\">\n",
              "  <thead>\n",
              "    <tr style=\"text-align: right;\">\n",
              "      <th></th>\n",
              "      <th>song</th>\n",
              "      <th>artists</th>\n",
              "      <th>danceability</th>\n",
              "      <th>energy</th>\n",
              "      <th>key</th>\n",
              "      <th>loudness</th>\n",
              "      <th>mode</th>\n",
              "      <th>speechiness</th>\n",
              "      <th>acousticness</th>\n",
              "      <th>instrumentalness</th>\n",
              "      <th>liveness</th>\n",
              "      <th>valence</th>\n",
              "      <th>tempo</th>\n",
              "    </tr>\n",
              "  </thead>\n",
              "  <tbody>\n",
              "    <tr>\n",
              "      <th>0</th>\n",
              "      <td>Popular (with Playboi Carti &amp; Madonna)</td>\n",
              "      <td>[The Weeknd, Playboi Carti, Madonna]</td>\n",
              "      <td>0.852</td>\n",
              "      <td>0.675</td>\n",
              "      <td>1</td>\n",
              "      <td>-6.271</td>\n",
              "      <td>1</td>\n",
              "      <td>0.197</td>\n",
              "      <td>0.0652</td>\n",
              "      <td>0.000037</td>\n",
              "      <td>0.36</td>\n",
              "      <td>0.83</td>\n",
              "      <td>99.012</td>\n",
              "    </tr>\n",
              "  </tbody>\n",
              "</table>\n",
              "</div>\n",
              "      <button class=\"colab-df-convert\" onclick=\"convertToInteractive('df-a03ff6b4-18ae-4d25-a752-f7a2b3d402bd')\"\n",
              "              title=\"Convert this dataframe to an interactive table.\"\n",
              "              style=\"display:none;\">\n",
              "        \n",
              "  <svg xmlns=\"http://www.w3.org/2000/svg\" height=\"24px\"viewBox=\"0 0 24 24\"\n",
              "       width=\"24px\">\n",
              "    <path d=\"M0 0h24v24H0V0z\" fill=\"none\"/>\n",
              "    <path d=\"M18.56 5.44l.94 2.06.94-2.06 2.06-.94-2.06-.94-.94-2.06-.94 2.06-2.06.94zm-11 1L8.5 8.5l.94-2.06 2.06-.94-2.06-.94L8.5 2.5l-.94 2.06-2.06.94zm10 10l.94 2.06.94-2.06 2.06-.94-2.06-.94-.94-2.06-.94 2.06-2.06.94z\"/><path d=\"M17.41 7.96l-1.37-1.37c-.4-.4-.92-.59-1.43-.59-.52 0-1.04.2-1.43.59L10.3 9.45l-7.72 7.72c-.78.78-.78 2.05 0 2.83L4 21.41c.39.39.9.59 1.41.59.51 0 1.02-.2 1.41-.59l7.78-7.78 2.81-2.81c.8-.78.8-2.07 0-2.86zM5.41 20L4 18.59l7.72-7.72 1.47 1.35L5.41 20z\"/>\n",
              "  </svg>\n",
              "      </button>\n",
              "      \n",
              "  <style>\n",
              "    .colab-df-container {\n",
              "      display:flex;\n",
              "      flex-wrap:wrap;\n",
              "      gap: 12px;\n",
              "    }\n",
              "\n",
              "    .colab-df-convert {\n",
              "      background-color: #E8F0FE;\n",
              "      border: none;\n",
              "      border-radius: 50%;\n",
              "      cursor: pointer;\n",
              "      display: none;\n",
              "      fill: #1967D2;\n",
              "      height: 32px;\n",
              "      padding: 0 0 0 0;\n",
              "      width: 32px;\n",
              "    }\n",
              "\n",
              "    .colab-df-convert:hover {\n",
              "      background-color: #E2EBFA;\n",
              "      box-shadow: 0px 1px 2px rgba(60, 64, 67, 0.3), 0px 1px 3px 1px rgba(60, 64, 67, 0.15);\n",
              "      fill: #174EA6;\n",
              "    }\n",
              "\n",
              "    [theme=dark] .colab-df-convert {\n",
              "      background-color: #3B4455;\n",
              "      fill: #D2E3FC;\n",
              "    }\n",
              "\n",
              "    [theme=dark] .colab-df-convert:hover {\n",
              "      background-color: #434B5C;\n",
              "      box-shadow: 0px 1px 3px 1px rgba(0, 0, 0, 0.15);\n",
              "      filter: drop-shadow(0px 1px 2px rgba(0, 0, 0, 0.3));\n",
              "      fill: #FFFFFF;\n",
              "    }\n",
              "  </style>\n",
              "\n",
              "      <script>\n",
              "        const buttonEl =\n",
              "          document.querySelector('#df-a03ff6b4-18ae-4d25-a752-f7a2b3d402bd button.colab-df-convert');\n",
              "        buttonEl.style.display =\n",
              "          google.colab.kernel.accessAllowed ? 'block' : 'none';\n",
              "\n",
              "        async function convertToInteractive(key) {\n",
              "          const element = document.querySelector('#df-a03ff6b4-18ae-4d25-a752-f7a2b3d402bd');\n",
              "          const dataTable =\n",
              "            await google.colab.kernel.invokeFunction('convertToInteractive',\n",
              "                                                     [key], {});\n",
              "          if (!dataTable) return;\n",
              "\n",
              "          const docLinkHtml = 'Like what you see? Visit the ' +\n",
              "            '<a target=\"_blank\" href=https://colab.research.google.com/notebooks/data_table.ipynb>data table notebook</a>'\n",
              "            + ' to learn more about interactive tables.';\n",
              "          element.innerHTML = '';\n",
              "          dataTable['output_type'] = 'display_data';\n",
              "          await google.colab.output.renderOutput(dataTable, element);\n",
              "          const docLink = document.createElement('div');\n",
              "          docLink.innerHTML = docLinkHtml;\n",
              "          element.appendChild(docLink);\n",
              "        }\n",
              "      </script>\n",
              "    </div>\n",
              "  </div>\n",
              "  "
            ]
          },
          "metadata": {},
          "execution_count": 45
        }
      ]
    },
    {
      "cell_type": "markdown",
      "source": [
        "Then I need a function to get songs straight from a playlist, convert to feature info and put into a db"
      ],
      "metadata": {
        "id": "v29BO_kZYb-h"
      }
    },
    {
      "cell_type": "code",
      "source": [
        "def songs_to_features(song):\n",
        "  feature_dict = spotify.audio_features(song)\n",
        "  "
      ],
      "metadata": {
        "id": "4VgGsR2TYoLK"
      },
      "execution_count": 14,
      "outputs": []
    },
    {
      "cell_type": "code",
      "source": [
        "#https://open.spotify.com/playlist/7IKIjt9wZPPQWgvHo1SeFO?si=75371c3c8eaa49a2"
      ],
      "metadata": {
        "id": "7jW1y3oEadfr"
      },
      "execution_count": null,
      "outputs": []
    },
    {
      "cell_type": "code",
      "source": [
        "songs = extract_songs('https://open.spotify.com/playlist/7IKIjt9wZPPQWgvHo1SeFO?si=75371c3c8eaa49a2')"
      ],
      "metadata": {
        "id": "IPCJNp8KebEh"
      },
      "execution_count": 51,
      "outputs": []
    },
    {
      "cell_type": "code",
      "source": [
        "#Spotify Playlists 1 per genre.xlsx"
      ],
      "metadata": {
        "id": "VLv6LYVUiVo2"
      },
      "execution_count": null,
      "outputs": []
    },
    {
      "cell_type": "code",
      "source": [
        "def excel_list_to_df():\n",
        "    '''Create the dataframe from the excel sheet of playlists'''\n",
        "\n",
        "    df = pd.read_excel(\"Spotify Playlists 1 per genre.xlsx\")\n",
        "    playlists = df['Link']\n",
        "    return playlists"
      ],
      "metadata": {
        "id": "TbUiKn1liW4o"
      },
      "execution_count": 52,
      "outputs": []
    },
    {
      "cell_type": "markdown",
      "source": [
        "Let's have a function that will show stats for the playlist"
      ],
      "metadata": {
        "id": "vI1Rbt08fuuJ"
      }
    },
    {
      "cell_type": "code",
      "source": [],
      "metadata": {
        "id": "KcHr5oLFftjp"
      },
      "execution_count": 14,
      "outputs": []
    },
    {
      "cell_type": "markdown",
      "source": [
        "Have a Map to Show Where "
      ],
      "metadata": {
        "id": "N-RTMFC3f8_5"
      }
    },
    {
      "cell_type": "markdown",
      "source": [
        "Going to have the option to either log in and save the playlist or just save it to excel"
      ],
      "metadata": {
        "id": "b7w9UxsN9Kac"
      }
    },
    {
      "cell_type": "code",
      "source": [],
      "metadata": {
        "id": "VS6MzEzB9R4w"
      },
      "execution_count": 14,
      "outputs": []
    },
    {
      "cell_type": "markdown",
      "source": [
        "The flow should probably be as follows:\n",
        "\n",
        "Part 1: Building the database\n",
        "1. Extract songs from playlists\n",
        "2. Perform extraction of all audio features\n",
        "3. Need a way to append song name and audio feature info to the dataframe, OR perform a function call after the recommended songs are provided to get the song names and artist info\n",
        "\n",
        "Part 2: Build the recommendations from cosine similarity\n",
        "\n",
        "Part 3: Integration with Flask or Django"
      ],
      "metadata": {
        "id": "hUfFop-imz55"
      }
    },
    {
      "cell_type": "code",
      "source": [],
      "metadata": {
        "id": "wrxcBSYRmzkw"
      },
      "execution_count": 14,
      "outputs": []
    }
  ]
}