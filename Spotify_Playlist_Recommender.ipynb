{
  "nbformat": 4,
  "nbformat_minor": 0,
  "metadata": {
    "colab": {
      "provenance": [],
      "authorship_tag": "ABX9TyO7noOL2nsYk3BgtmBtkmDS",
      "include_colab_link": true
    },
    "kernelspec": {
      "name": "python3",
      "display_name": "Python 3"
    },
    "language_info": {
      "name": "python"
    }
  },
  "cells": [
    {
      "cell_type": "markdown",
      "metadata": {
        "id": "view-in-github",
        "colab_type": "text"
      },
      "source": [
        "<a href=\"https://colab.research.google.com/github/cokoroafor11/Playlist-Recommender-App/blob/main/Spotify_Playlist_Recommender.ipynb\" target=\"_parent\"><img src=\"https://colab.research.google.com/assets/colab-badge.svg\" alt=\"Open In Colab\"/></a>"
      ]
    },
    {
      "cell_type": "markdown",
      "source": [
        "## Imports"
      ],
      "metadata": {
        "id": "ts4WJDfeYGzW"
      }
    },
    {
      "cell_type": "code",
      "execution_count": 3,
      "metadata": {
        "colab": {
          "base_uri": "https://localhost:8080/"
        },
        "id": "pQL_Zar2YDJn",
        "outputId": "410633c0-ebb9-48d7-a233-47e23b9b72ad"
      },
      "outputs": [
        {
          "output_type": "stream",
          "name": "stdout",
          "text": [
            "Looking in indexes: https://pypi.org/simple, https://us-python.pkg.dev/colab-wheels/public/simple/\n",
            "Collecting spotipy\n",
            "  Downloading spotipy-2.23.0-py3-none-any.whl (29 kB)\n",
            "Collecting redis>=3.5.3 (from spotipy)\n",
            "  Downloading redis-4.5.5-py3-none-any.whl (240 kB)\n",
            "\u001b[2K     \u001b[90m━━━━━━━━━━━━━━━━━━━━━━━━━━━━━━━━━━━━━━━\u001b[0m \u001b[32m240.3/240.3 kB\u001b[0m \u001b[31m7.0 MB/s\u001b[0m eta \u001b[36m0:00:00\u001b[0m\n",
            "\u001b[?25hRequirement already satisfied: requests>=2.25.0 in /usr/local/lib/python3.10/dist-packages (from spotipy) (2.27.1)\n",
            "Requirement already satisfied: six>=1.15.0 in /usr/local/lib/python3.10/dist-packages (from spotipy) (1.16.0)\n",
            "Requirement already satisfied: urllib3>=1.26.0 in /usr/local/lib/python3.10/dist-packages (from spotipy) (1.26.15)\n",
            "Collecting async-timeout>=4.0.2 (from redis>=3.5.3->spotipy)\n",
            "  Downloading async_timeout-4.0.2-py3-none-any.whl (5.8 kB)\n",
            "Requirement already satisfied: certifi>=2017.4.17 in /usr/local/lib/python3.10/dist-packages (from requests>=2.25.0->spotipy) (2022.12.7)\n",
            "Requirement already satisfied: charset-normalizer~=2.0.0 in /usr/local/lib/python3.10/dist-packages (from requests>=2.25.0->spotipy) (2.0.12)\n",
            "Requirement already satisfied: idna<4,>=2.5 in /usr/local/lib/python3.10/dist-packages (from requests>=2.25.0->spotipy) (3.4)\n",
            "Installing collected packages: async-timeout, redis, spotipy\n",
            "Successfully installed async-timeout-4.0.2 redis-4.5.5 spotipy-2.23.0\n"
          ]
        }
      ],
      "source": [
        "!pip install spotipy --upgrade\n",
        "import spotipy\n",
        "import pandas as pd\n",
        "from spotipy.oauth2 import SpotifyClientCredentials\n",
        "import spotipy.util as util"
      ]
    },
    {
      "cell_type": "markdown",
      "source": [
        "## Create the Spotify object"
      ],
      "metadata": {
        "id": "zicGfSkAcPQg"
      }
    },
    {
      "cell_type": "code",
      "source": [
        "#Save client credentials\n",
        "client_id = \"c1f74565be774e65aa211462aaf5fed8\"\n",
        "client_secret = \"2edce4052f8f46639c0e112658572d66\"\n",
        "#Create object\n",
        "spotify = spotipy.Spotify(auth_manager=SpotifyClientCredentials(client_id= client_id,client_secret=client_secret),requests_timeout=100,retries=3)"
      ],
      "metadata": {
        "id": "QZc_HH69cOIx"
      },
      "execution_count": 4,
      "outputs": []
    },
    {
      "cell_type": "markdown",
      "source": [
        "## Functions I Need"
      ],
      "metadata": {
        "id": "TdCE21cdYP2x"
      }
    },
    {
      "cell_type": "markdown",
      "source": [
        "### Extract songs from playlist"
      ],
      "metadata": {
        "id": "U9XMXEABGIa7"
      }
    },
    {
      "cell_type": "code",
      "source": [
        "def extract_songs(playlist):\n",
        "    '''Function to extract songs from a playlist: Will run this for all the playlists being added'''\n",
        "\n",
        "    #Make sure playlist input is string\n",
        "    if type(playlist) != str: \n",
        "        playlist = str(playlist)\n",
        "\n",
        "    #Get playlist tracks    \n",
        "    playlist_tracks =  spotify.playlist_tracks(playlist)\n",
        "    tracks = []\n",
        "\n",
        "    #Append tracks to list if no type error\n",
        "    for elem in playlist_tracks['items']:\n",
        "        try:\n",
        "            tracks.append(elem['track']['external_urls']['spotify'])\n",
        "        except TypeError:\n",
        "            pass\n",
        "    return tracks\n",
        "  "
      ],
      "metadata": {
        "id": "v702M4zCYRGp"
      },
      "execution_count": 5,
      "outputs": []
    },
    {
      "cell_type": "code",
      "source": [
        "tracks = extract_songs('https://open.spotify.com/playlist/37i9dQZEVXbqgPCgwknZJW?si=ae7b2ccfd8d64357')"
      ],
      "metadata": {
        "id": "orw-Ds8he0Hc"
      },
      "execution_count": 6,
      "outputs": []
    },
    {
      "cell_type": "code",
      "source": [
        "tracks"
      ],
      "metadata": {
        "id": "db8GA7xK_GB2",
        "outputId": "dfba49b0-2ad6-426f-df32-3c8b1e201ee3",
        "colab": {
          "base_uri": "https://localhost:8080/"
        }
      },
      "execution_count": 7,
      "outputs": [
        {
          "output_type": "execute_result",
          "data": {
            "text/plain": [
              "['https://open.spotify.com/track/5xP9lQYA8YQmQh6BOxcAnR',\n",
              " 'https://open.spotify.com/track/1ZsNLqqBzUbDG9LDosVk2p',\n",
              " 'https://open.spotify.com/track/5viZ8CLipufc1Q1NXpMRNN',\n",
              " 'https://open.spotify.com/track/3kH94a1MQM7YrpsZRWuXrh',\n",
              " 'https://open.spotify.com/track/5VUkNfVb58kUWyWoWdbvha',\n",
              " 'https://open.spotify.com/track/4t48gom0WM1BgWPmC9e8HV',\n",
              " 'https://open.spotify.com/track/2TtD8MWLffh6SO7YOhELJO',\n",
              " 'https://open.spotify.com/track/4EZ0ZWTyjIUtZk2Rqf3QAG',\n",
              " 'https://open.spotify.com/track/2cVIKCgIfYOYyyXfQEstZN',\n",
              " 'https://open.spotify.com/track/4jeQnCp9IL3pbLPn0UjLmh',\n",
              " 'https://open.spotify.com/track/3AFxrPHW0222y3t4dmHAJI',\n",
              " 'https://open.spotify.com/track/6SWOyZfVoLXgqKCKj3hI9c',\n",
              " 'https://open.spotify.com/track/4WCX5GB4SZ9IDa1ULJNzJk',\n",
              " 'https://open.spotify.com/track/6UmbweVDCrk7XcC7hicFL7',\n",
              " 'https://open.spotify.com/track/6LluC6nv9k4h5gwMLjy3FJ',\n",
              " 'https://open.spotify.com/track/03E7tuKVSY1BS4LaV9rrOf',\n",
              " 'https://open.spotify.com/track/0KT0GKZJ72959Mk1UE0lE5',\n",
              " 'https://open.spotify.com/track/17rH1lkJy6cRi3tyLV3BAj',\n",
              " 'https://open.spotify.com/track/17O5F0I7FZJ009c9aKtWRo',\n",
              " 'https://open.spotify.com/track/1MG2waUhgYM13ZGk57PeOE',\n",
              " 'https://open.spotify.com/track/1Tx7TwXLu2BQIAz0SRzf2k',\n",
              " 'https://open.spotify.com/track/3AGK83gJkmyS1OMsgIwaWb',\n",
              " 'https://open.spotify.com/track/3BMcSqais71Z693fkTE8Eo',\n",
              " 'https://open.spotify.com/track/4AKLHw94E5jIZICRdU3zc3',\n",
              " 'https://open.spotify.com/track/4PKOBlfJKfaPzD1fWCaKmL',\n",
              " 'https://open.spotify.com/track/59SDcAi6L9l7LZ5L4jEOl7',\n",
              " 'https://open.spotify.com/track/5lfaFgcFLtYtn9dYEQvNzY',\n",
              " 'https://open.spotify.com/track/6AbwJJnX5omy6pgaIos7PF',\n",
              " 'https://open.spotify.com/track/6IfoD3G5mXEnEJHJg81n6V',\n",
              " 'https://open.spotify.com/track/37CoOXIsgF3NzbK1zHZetk',\n",
              " 'https://open.spotify.com/track/4vLNpvth7aiLl7RAyDpDCE',\n",
              " 'https://open.spotify.com/track/28fbZR6LGCoqBjBp2z7xrO',\n",
              " 'https://open.spotify.com/track/2beD5W9IkefQ04IO39XF7w',\n",
              " 'https://open.spotify.com/track/1YIvYm5d9GnVXR0Q9SUER7',\n",
              " 'https://open.spotify.com/track/0GgYACtOE5GNVjwAZmBr1p',\n",
              " 'https://open.spotify.com/track/7MWHxi7gx2M8ghbRRWyQYU',\n",
              " 'https://open.spotify.com/track/6I0yiEym3CTTYl4E8NKtk8',\n",
              " 'https://open.spotify.com/track/1FbBlINbLTXKZjLVCnZhlt',\n",
              " 'https://open.spotify.com/track/0KWT5yvZ4iphotBfmPeAuY',\n",
              " 'https://open.spotify.com/track/0O0VSnmenLAixOThAbqdNq',\n",
              " 'https://open.spotify.com/track/1MIZIHmz0oW142sZTfIQZw',\n",
              " 'https://open.spotify.com/track/3uSdhfED1bNS4VIWWNaE6V',\n",
              " 'https://open.spotify.com/track/4S4PQksYSjUI5rRRJL3Yo3',\n",
              " 'https://open.spotify.com/track/5a8brwyxP2Ga832uYrY2lQ',\n",
              " 'https://open.spotify.com/track/5xlLG6RthtyXShVhGA3ojN',\n",
              " 'https://open.spotify.com/track/7bDwxr2hinZkqWtAQeDGXS',\n",
              " 'https://open.spotify.com/track/1KGJ5ozUB7XOgCJ73IBMz3',\n",
              " 'https://open.spotify.com/track/5jfD6wlyZ4Bv9hOvB9yFl1',\n",
              " 'https://open.spotify.com/track/60QcWQ4bGoO7RwF1wK3qbG',\n",
              " 'https://open.spotify.com/track/1kOPoZDgQean1ecxJT0GIT',\n",
              " 'https://open.spotify.com/track/2ukJg3HjTKmOMK8qaEk1Uu']"
            ]
          },
          "metadata": {},
          "execution_count": 7
        }
      ]
    },
    {
      "cell_type": "markdown",
      "source": [
        "### Get Artists Names"
      ],
      "metadata": {
        "id": "8Zk8GmH-GNa7"
      }
    },
    {
      "cell_type": "code",
      "source": [
        "def get_track_artists(track):\n",
        "    '''Get all artists for each track'''\n",
        "    \n",
        "    artists = []\n",
        "    \n",
        "    #Iterate through all avaiable artists, append to new array\n",
        "    for artist in spotify.track(track)['artists']:\n",
        "        artists.append(artist['name'])\n",
        "    return artists"
      ],
      "metadata": {
        "id": "XAZEhzX4G0c8"
      },
      "execution_count": 8,
      "outputs": []
    },
    {
      "cell_type": "code",
      "source": [
        "get_track_artists('https://open.spotify.com/track/5OSGdSxtulzlzdPdK2MQJC?si=a4a9db4cd27242b2')"
      ],
      "metadata": {
        "id": "5kplcFqSICbs",
        "outputId": "e78b54a9-7b72-4e5e-f7ad-6e64ec1b4c92",
        "colab": {
          "base_uri": "https://localhost:8080/"
        }
      },
      "execution_count": 9,
      "outputs": [
        {
          "output_type": "execute_result",
          "data": {
            "text/plain": [
              "['Marshmello', 'Farruko']"
            ]
          },
          "metadata": {},
          "execution_count": 9
        }
      ]
    },
    {
      "cell_type": "markdown",
      "source": [
        "### Get Track Name"
      ],
      "metadata": {
        "id": "o7GjYbnrIP1p"
      }
    },
    {
      "cell_type": "code",
      "source": [
        "def get_track_name(track):\n",
        "    '''Get track name'''\n",
        "\n",
        "    return spotify.track(track)['name']"
      ],
      "metadata": {
        "id": "WDe0ybypIT_D"
      },
      "execution_count": 10,
      "outputs": []
    },
    {
      "cell_type": "markdown",
      "source": [
        "### Get Audio Features"
      ],
      "metadata": {
        "id": "z2xiZ4VyIMfN"
      }
    },
    {
      "cell_type": "code",
      "source": [
        "def get_audio_features(song, feature):\n",
        "    '''Function to get score for feature type of a song'''\n",
        "\n",
        "    feature_score = 0\n",
        "    #Get audio features if no type error, otherwise skip\n",
        "    try:\n",
        "      feature_score = spotify.audio_features(song)[0][feature]\n",
        "    except TypeError:\n",
        "      feature_score = None\n",
        "      pass\n",
        "    return feature_score"
      ],
      "metadata": {
        "id": "1mIZ5NxwILc5"
      },
      "execution_count": 11,
      "outputs": []
    },
    {
      "cell_type": "code",
      "source": [
        "get_audio_features"
      ],
      "metadata": {
        "id": "zE5FTaxFiuBm",
        "outputId": "66252a3e-7cc4-4362-a4c5-0bbc4acd6748",
        "colab": {
          "base_uri": "https://localhost:8080/"
        }
      },
      "execution_count": 12,
      "outputs": [
        {
          "output_type": "execute_result",
          "data": {
            "text/plain": [
              "<function __main__.get_audio_features(song, feature)>"
            ]
          },
          "metadata": {},
          "execution_count": 12
        }
      ]
    },
    {
      "cell_type": "markdown",
      "source": [],
      "metadata": {
        "id": "ewNnVpGXHBN8"
      }
    },
    {
      "cell_type": "markdown",
      "source": [
        "What do I need from each song?\n",
        "1. Artist names\n",
        "2. Album\n",
        "3. Genres\n",
        "4. Song features\n"
      ],
      "metadata": {
        "id": "Hm1xrOc495rH"
      }
    },
    {
      "cell_type": "code",
      "source": [
        "spotify.audio_features(\"https://open.spotify.com/track/5xP9lQYA8YQmQh6BOxcAnR\")[0]"
      ],
      "metadata": {
        "id": "AD2qduhJ-3BP",
        "outputId": "fbdb056f-1032-4a73-9693-7d8595162bdc",
        "colab": {
          "base_uri": "https://localhost:8080/"
        }
      },
      "execution_count": 19,
      "outputs": [
        {
          "output_type": "execute_result",
          "data": {
            "text/plain": [
              "{'danceability': 0.852,\n",
              " 'energy': 0.675,\n",
              " 'key': 1,\n",
              " 'loudness': -6.271,\n",
              " 'mode': 1,\n",
              " 'speechiness': 0.197,\n",
              " 'acousticness': 0.0652,\n",
              " 'instrumentalness': 3.74e-05,\n",
              " 'liveness': 0.36,\n",
              " 'valence': 0.83,\n",
              " 'tempo': 99.012,\n",
              " 'type': 'audio_features',\n",
              " 'id': '5xP9lQYA8YQmQh6BOxcAnR',\n",
              " 'uri': 'spotify:track:5xP9lQYA8YQmQh6BOxcAnR',\n",
              " 'track_href': 'https://api.spotify.com/v1/tracks/5xP9lQYA8YQmQh6BOxcAnR',\n",
              " 'analysis_url': 'https://api.spotify.com/v1/audio-analysis/5xP9lQYA8YQmQh6BOxcAnR',\n",
              " 'duration_ms': 215467,\n",
              " 'time_signature': 4}"
            ]
          },
          "metadata": {},
          "execution_count": 19
        }
      ]
    },
    {
      "cell_type": "code",
      "source": [
        "spotify.categories()"
      ],
      "metadata": {
        "id": "EYU9R2PM_bU2",
        "outputId": "1ed82ed0-d506-41b3-c4a7-f22ccf832f45",
        "colab": {
          "base_uri": "https://localhost:8080/"
        }
      },
      "execution_count": 11,
      "outputs": [
        {
          "output_type": "execute_result",
          "data": {
            "text/plain": [
              "{'categories': {'href': 'https://api.spotify.com/v1/browse/categories?country=US&offset=0&limit=20',\n",
              "  'items': [{'href': 'https://api.spotify.com/v1/browse/categories/toplists',\n",
              "    'icons': [{'height': 275,\n",
              "      'url': 'https://t.scdn.co/media/derived/toplists_11160599e6a04ac5d6f2757f5511778f_0_0_275_275.jpg',\n",
              "      'width': 275}],\n",
              "    'id': 'toplists',\n",
              "    'name': 'Top Lists'},\n",
              "   {'href': 'https://api.spotify.com/v1/browse/categories/0JQ5DAqbMKFQ00XGBls6ym',\n",
              "    'icons': [{'height': 274,\n",
              "      'url': 'https://t.scdn.co/media/original/hip-274_0a661854d61e29eace5fe63f73495e68_274x274.jpg',\n",
              "      'width': 274}],\n",
              "    'id': '0JQ5DAqbMKFQ00XGBls6ym',\n",
              "    'name': 'Hip-Hop'},\n",
              "   {'href': 'https://api.spotify.com/v1/browse/categories/0JQ5DAqbMKFEC4WFtoNRpw',\n",
              "    'icons': [{'height': 274,\n",
              "      'url': 'https://t.scdn.co/media/derived/pop-274x274_447148649685019f5e2a03a39e78ba52_0_0_274_274.jpg',\n",
              "      'width': 274}],\n",
              "    'id': '0JQ5DAqbMKFEC4WFtoNRpw',\n",
              "    'name': 'Pop'},\n",
              "   {'href': 'https://api.spotify.com/v1/browse/categories/0JQ5DAqbMKFKLfwjuJMoNC',\n",
              "    'icons': [{'height': None,\n",
              "      'url': 'https://t.scdn.co/images/a2e0ebe2ebed4566ba1d8236b869241f.jpeg',\n",
              "      'width': None}],\n",
              "    'id': '0JQ5DAqbMKFKLfwjuJMoNC',\n",
              "    'name': 'Country'},\n",
              "   {'href': 'https://api.spotify.com/v1/browse/categories/0JQ5DAqbMKFxXaXKP7zcDp',\n",
              "    'icons': [{'height': None,\n",
              "      'url': 'https://t.scdn.co/images/26a60378-a374-4cd7-b894-28efa5e154cb.jpg',\n",
              "      'width': None}],\n",
              "    'id': '0JQ5DAqbMKFxXaXKP7zcDp',\n",
              "    'name': 'Latin'},\n",
              "   {'href': 'https://api.spotify.com/v1/browse/categories/0JQ5DAqbMKFDXXwE9BDJAr',\n",
              "    'icons': [{'height': 274,\n",
              "      'url': 'https://t.scdn.co/media/derived/rock_9ce79e0a4ef901bbd10494f5b855d3cc_0_0_274_274.jpg',\n",
              "      'width': 274}],\n",
              "    'id': '0JQ5DAqbMKFDXXwE9BDJAr',\n",
              "    'name': 'Rock'},\n",
              "   {'href': 'https://api.spotify.com/v1/browse/categories/0JQ5DAqbMKFLVaM30PMBm4',\n",
              "    'icons': [{'height': None,\n",
              "      'url': 'https://t.scdn.co/images/8e508d7eb5b843a89c368c9507ecc429.jpeg',\n",
              "      'width': None}],\n",
              "    'id': '0JQ5DAqbMKFLVaM30PMBm4',\n",
              "    'name': 'Summer'},\n",
              "   {'href': 'https://api.spotify.com/v1/browse/categories/0JQ5DAqbMKFAXlCG6QvYQ4',\n",
              "    'icons': [{'height': None,\n",
              "      'url': 'https://t.scdn.co/media/links/workout-274x274.jpg',\n",
              "      'width': None}],\n",
              "    'id': '0JQ5DAqbMKFAXlCG6QvYQ4',\n",
              "    'name': 'Workout'},\n",
              "   {'href': 'https://api.spotify.com/v1/browse/categories/0JQ5DAqbMKFEZPnFQSFB1T',\n",
              "    'icons': [{'height': 274,\n",
              "      'url': 'https://t.scdn.co/media/derived/r-b-274x274_fd56efa72f4f63764b011b68121581d8_0_0_274_274.jpg',\n",
              "      'width': 274}],\n",
              "    'id': '0JQ5DAqbMKFEZPnFQSFB1T',\n",
              "    'name': 'R&B'},\n",
              "   {'href': 'https://api.spotify.com/v1/browse/categories/0JQ5DAqbMKFHOzuVTgTizF',\n",
              "    'icons': [{'height': 274,\n",
              "      'url': 'https://t.scdn.co/media/derived/edm-274x274_0ef612604200a9c14995432994455a6d_0_0_274_274.jpg',\n",
              "      'width': 274}],\n",
              "    'id': '0JQ5DAqbMKFHOzuVTgTizF',\n",
              "    'name': 'Dance/Electronic'},\n",
              "   {'href': 'https://api.spotify.com/v1/browse/categories/0JQ5DAqbMKFEOEBCABAxo9',\n",
              "    'icons': [{'height': None,\n",
              "      'url': 'https://t.scdn.co/images/1a416fb97f5647858c7f09c9cb6e7301',\n",
              "      'width': None}],\n",
              "    'id': '0JQ5DAqbMKFEOEBCABAxo9',\n",
              "    'name': 'Netflix'},\n",
              "   {'href': 'https://api.spotify.com/v1/browse/categories/0JQ5DAqbMKFCWjUTdzaG0e',\n",
              "    'icons': [{'height': None,\n",
              "      'url': 'https://t.scdn.co/images/fe06caf056474bc58862591cd60b57fc.jpeg',\n",
              "      'width': None}],\n",
              "    'id': '0JQ5DAqbMKFCWjUTdzaG0e',\n",
              "    'name': 'Indie'},\n",
              "   {'href': 'https://api.spotify.com/v1/browse/categories/0JQ5DAqbMKFzHmL4tf05da',\n",
              "    'icons': [{'height': 274,\n",
              "      'url': 'https://t.scdn.co/media/original/mood-274x274_976986a31ac8c49794cbdc7246fd5ad7_274x274.jpg',\n",
              "      'width': 274}],\n",
              "    'id': '0JQ5DAqbMKFzHmL4tf05da',\n",
              "    'name': 'Mood'},\n",
              "   {'href': 'https://api.spotify.com/v1/browse/categories/0JQ5DAqbMKFCuoRTxhYWow',\n",
              "    'icons': [{'height': 274,\n",
              "      'url': 'https://t.scdn.co/media/derived/sleep-274x274_0d4f836af8fab7bf31526968073e671c_0_0_274_274.jpg',\n",
              "      'width': 274}],\n",
              "    'id': '0JQ5DAqbMKFCuoRTxhYWow',\n",
              "    'name': 'Sleep'},\n",
              "   {'href': 'https://api.spotify.com/v1/browse/categories/0JQ5DAqbMKFy0OenPG51Av',\n",
              "    'icons': [{'height': None,\n",
              "      'url': 'https://t.scdn.co/images/e023f691436b4518aec8c3b18973268e',\n",
              "      'width': None}],\n",
              "    'id': '0JQ5DAqbMKFy0OenPG51Av',\n",
              "    'name': 'Christian & Gospel'},\n",
              "   {'href': 'https://api.spotify.com/v1/browse/categories/0JQ5DAqbMKFDTEtSaS4R92',\n",
              "    'icons': [{'height': None,\n",
              "      'url': 'https://t.scdn.co/images/c765fa1ce6994fce8796d2d0d93c1e61.jpeg',\n",
              "      'width': None}],\n",
              "    'id': '0JQ5DAqbMKFDTEtSaS4R92',\n",
              "    'name': 'Regional Mexican'},\n",
              "   {'href': 'https://api.spotify.com/v1/browse/categories/0JQ5DAqbMKFLb2EqgLtpjC',\n",
              "    'icons': [{'height': None,\n",
              "      'url': 'https://t.scdn.co/images/3710b68657574bc79df14bd74629e5ac',\n",
              "      'width': None}],\n",
              "    'id': '0JQ5DAqbMKFLb2EqgLtpjC',\n",
              "    'name': 'Wellness'},\n",
              "   {'href': 'https://api.spotify.com/v1/browse/categories/0JQ5DAqbMKFFzDl7qN9Apr',\n",
              "    'icons': [{'height': 274,\n",
              "      'url': 'https://t.scdn.co/media/derived/chill-274x274_4c46374f007813dd10b37e8d8fd35b4b_0_0_274_274.jpg',\n",
              "      'width': 274}],\n",
              "    'id': '0JQ5DAqbMKFFzDl7qN9Apr',\n",
              "    'name': 'Chill'},\n",
              "   {'href': 'https://api.spotify.com/v1/browse/categories/0JQ5DAqbMKFPw634sFwguI',\n",
              "    'icons': [{'height': None,\n",
              "      'url': 'https://t.scdn.co/images/084155aeaa724ea1bd393a017d67b709',\n",
              "      'width': None}],\n",
              "    'id': '0JQ5DAqbMKFPw634sFwguI',\n",
              "    'name': 'EQUAL'},\n",
              "   {'href': 'https://api.spotify.com/v1/browse/categories/0JQ5DAqbMKFCfObibaOZbv',\n",
              "    'icons': [{'height': None,\n",
              "      'url': 'https://t.scdn.co/images/0d39395309ba47838ef12ce987f19d16.jpeg',\n",
              "      'width': None}],\n",
              "    'id': '0JQ5DAqbMKFCfObibaOZbv',\n",
              "    'name': 'Gaming'}],\n",
              "  'limit': 20,\n",
              "  'next': 'https://api.spotify.com/v1/browse/categories?country=US&offset=20&limit=20',\n",
              "  'offset': 0,\n",
              "  'previous': None,\n",
              "  'total': 52}}"
            ]
          },
          "metadata": {},
          "execution_count": 11
        }
      ]
    },
    {
      "cell_type": "markdown",
      "source": [
        "Then I need a function to get songs straight from a playlist, convert to feature info and put into a db"
      ],
      "metadata": {
        "id": "v29BO_kZYb-h"
      }
    },
    {
      "cell_type": "code",
      "source": [],
      "metadata": {
        "id": "4VgGsR2TYoLK"
      },
      "execution_count": null,
      "outputs": []
    },
    {
      "cell_type": "markdown",
      "source": [
        "Let's have a function that will show stats for the playlist"
      ],
      "metadata": {
        "id": "vI1Rbt08fuuJ"
      }
    },
    {
      "cell_type": "code",
      "source": [],
      "metadata": {
        "id": "KcHr5oLFftjp"
      },
      "execution_count": null,
      "outputs": []
    },
    {
      "cell_type": "markdown",
      "source": [
        "Have a Map to Show Where "
      ],
      "metadata": {
        "id": "N-RTMFC3f8_5"
      }
    },
    {
      "cell_type": "markdown",
      "source": [
        "Going to have the option to either log in and save the playlist or just save it to excel"
      ],
      "metadata": {
        "id": "b7w9UxsN9Kac"
      }
    },
    {
      "cell_type": "code",
      "source": [],
      "metadata": {
        "id": "VS6MzEzB9R4w"
      },
      "execution_count": null,
      "outputs": []
    }
  ]
}